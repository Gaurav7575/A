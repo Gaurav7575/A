{
 "cells": [
  {
   "cell_type": "code",
   "execution_count": 4,
   "id": "4b03b8b0",
   "metadata": {},
   "outputs": [],
   "source": [
    "import pandas as pd\n",
    "import plotly.io as pio\n",
    "import plotly.express as px\n",
    "import plotly.graph_objects as go"
   ]
  },
  {
   "cell_type": "code",
   "execution_count": 5,
   "id": "7a547f33",
   "metadata": {},
   "outputs": [],
   "source": [
    "data = pd.read_csv('customer_acquisition_cost_dataset.csv')"
   ]
  },
  {
   "cell_type": "code",
   "execution_count": 6,
   "id": "0c2343d7",
   "metadata": {},
   "outputs": [
    {
     "data": {
      "text/html": [
       "<div>\n",
       "<style scoped>\n",
       "    .dataframe tbody tr th:only-of-type {\n",
       "        vertical-align: middle;\n",
       "    }\n",
       "\n",
       "    .dataframe tbody tr th {\n",
       "        vertical-align: top;\n",
       "    }\n",
       "\n",
       "    .dataframe thead th {\n",
       "        text-align: right;\n",
       "    }\n",
       "</style>\n",
       "<table border=\"1\" class=\"dataframe\">\n",
       "  <thead>\n",
       "    <tr style=\"text-align: right;\">\n",
       "      <th></th>\n",
       "      <th>Customer_ID</th>\n",
       "      <th>Marketing_Channel</th>\n",
       "      <th>Marketing_Spend</th>\n",
       "      <th>New_Customers</th>\n",
       "    </tr>\n",
       "  </thead>\n",
       "  <tbody>\n",
       "    <tr>\n",
       "      <th>0</th>\n",
       "      <td>CUST0001</td>\n",
       "      <td>Email Marketing</td>\n",
       "      <td>3489.027844</td>\n",
       "      <td>16</td>\n",
       "    </tr>\n",
       "    <tr>\n",
       "      <th>1</th>\n",
       "      <td>CUST0002</td>\n",
       "      <td>Online Ads</td>\n",
       "      <td>1107.865808</td>\n",
       "      <td>33</td>\n",
       "    </tr>\n",
       "    <tr>\n",
       "      <th>2</th>\n",
       "      <td>CUST0003</td>\n",
       "      <td>Social Media</td>\n",
       "      <td>2576.081025</td>\n",
       "      <td>44</td>\n",
       "    </tr>\n",
       "    <tr>\n",
       "      <th>3</th>\n",
       "      <td>CUST0004</td>\n",
       "      <td>Online Ads</td>\n",
       "      <td>3257.567932</td>\n",
       "      <td>32</td>\n",
       "    </tr>\n",
       "    <tr>\n",
       "      <th>4</th>\n",
       "      <td>CUST0005</td>\n",
       "      <td>Email Marketing</td>\n",
       "      <td>1108.408185</td>\n",
       "      <td>13</td>\n",
       "    </tr>\n",
       "  </tbody>\n",
       "</table>\n",
       "</div>"
      ],
      "text/plain": [
       "  Customer_ID Marketing_Channel  Marketing_Spend  New_Customers\n",
       "0    CUST0001   Email Marketing      3489.027844             16\n",
       "1    CUST0002        Online Ads      1107.865808             33\n",
       "2    CUST0003      Social Media      2576.081025             44\n",
       "3    CUST0004        Online Ads      3257.567932             32\n",
       "4    CUST0005   Email Marketing      1108.408185             13"
      ]
     },
     "execution_count": 6,
     "metadata": {},
     "output_type": "execute_result"
    }
   ],
   "source": [
    "data.head()"
   ]
  },
  {
   "cell_type": "code",
   "execution_count": 7,
   "id": "ed20b9c5",
   "metadata": {},
   "outputs": [
    {
     "name": "stdout",
     "output_type": "stream",
     "text": [
      "<class 'pandas.core.frame.DataFrame'>\n",
      "RangeIndex: 500 entries, 0 to 499\n",
      "Data columns (total 4 columns):\n",
      " #   Column             Non-Null Count  Dtype  \n",
      "---  ------             --------------  -----  \n",
      " 0   Customer_ID        500 non-null    object \n",
      " 1   Marketing_Channel  500 non-null    object \n",
      " 2   Marketing_Spend    500 non-null    float64\n",
      " 3   New_Customers      500 non-null    int64  \n",
      "dtypes: float64(1), int64(1), object(2)\n",
      "memory usage: 15.8+ KB\n"
     ]
    }
   ],
   "source": [
    "data.info()"
   ]
  },
  {
   "cell_type": "code",
   "execution_count": 33,
   "id": "a1c03092",
   "metadata": {},
   "outputs": [],
   "source": [
    "data['CAC'] = data['Marketing_Spend']/data['New_Customers']"
   ]
  },
  {
   "cell_type": "code",
   "execution_count": 37,
   "id": "9d961a0c",
   "metadata": {},
   "outputs": [
    {
     "data": {
      "text/html": [
       "<div>\n",
       "<style scoped>\n",
       "    .dataframe tbody tr th:only-of-type {\n",
       "        vertical-align: middle;\n",
       "    }\n",
       "\n",
       "    .dataframe tbody tr th {\n",
       "        vertical-align: top;\n",
       "    }\n",
       "\n",
       "    .dataframe thead th {\n",
       "        text-align: right;\n",
       "    }\n",
       "</style>\n",
       "<table border=\"1\" class=\"dataframe\">\n",
       "  <thead>\n",
       "    <tr style=\"text-align: right;\">\n",
       "      <th></th>\n",
       "      <th>Customer_ID</th>\n",
       "      <th>Marketing_Channel</th>\n",
       "      <th>Marketing_Spend</th>\n",
       "      <th>New_Customers</th>\n",
       "      <th>CAC</th>\n",
       "    </tr>\n",
       "  </thead>\n",
       "  <tbody>\n",
       "    <tr>\n",
       "      <th>0</th>\n",
       "      <td>CUST0001</td>\n",
       "      <td>Email Marketing</td>\n",
       "      <td>3489.027844</td>\n",
       "      <td>16</td>\n",
       "      <td>218.064240</td>\n",
       "    </tr>\n",
       "    <tr>\n",
       "      <th>1</th>\n",
       "      <td>CUST0002</td>\n",
       "      <td>Online Ads</td>\n",
       "      <td>1107.865808</td>\n",
       "      <td>33</td>\n",
       "      <td>33.571691</td>\n",
       "    </tr>\n",
       "    <tr>\n",
       "      <th>2</th>\n",
       "      <td>CUST0003</td>\n",
       "      <td>Social Media</td>\n",
       "      <td>2576.081025</td>\n",
       "      <td>44</td>\n",
       "      <td>58.547296</td>\n",
       "    </tr>\n",
       "    <tr>\n",
       "      <th>3</th>\n",
       "      <td>CUST0004</td>\n",
       "      <td>Online Ads</td>\n",
       "      <td>3257.567932</td>\n",
       "      <td>32</td>\n",
       "      <td>101.798998</td>\n",
       "    </tr>\n",
       "    <tr>\n",
       "      <th>4</th>\n",
       "      <td>CUST0005</td>\n",
       "      <td>Email Marketing</td>\n",
       "      <td>1108.408185</td>\n",
       "      <td>13</td>\n",
       "      <td>85.262168</td>\n",
       "    </tr>\n",
       "  </tbody>\n",
       "</table>\n",
       "</div>"
      ],
      "text/plain": [
       "  Customer_ID Marketing_Channel  Marketing_Spend  New_Customers         CAC\n",
       "0    CUST0001   Email Marketing      3489.027844             16  218.064240\n",
       "1    CUST0002        Online Ads      1107.865808             33   33.571691\n",
       "2    CUST0003      Social Media      2576.081025             44   58.547296\n",
       "3    CUST0004        Online Ads      3257.567932             32  101.798998\n",
       "4    CUST0005   Email Marketing      1108.408185             13   85.262168"
      ]
     },
     "execution_count": 37,
     "metadata": {},
     "output_type": "execute_result"
    }
   ],
   "source": [
    "data.head()"
   ]
  },
  {
   "cell_type": "code",
   "execution_count": 47,
   "id": "985007dd",
   "metadata": {},
   "outputs": [
    {
     "name": "stderr",
     "output_type": "stream",
     "text": [
      "C:\\Users\\Gaurav\\AppData\\Local\\Temp\\ipykernel_18808\\3099565420.py:1: FutureWarning:\n",
      "\n",
      "The default value of numeric_only in DataFrameGroupBy.sum is deprecated. In a future version, numeric_only will default to False. Either specify numeric_only or select only columns which should be valid for the function.\n",
      "\n"
     ]
    },
    {
     "data": {
      "text/html": [
       "<div>\n",
       "<style scoped>\n",
       "    .dataframe tbody tr th:only-of-type {\n",
       "        vertical-align: middle;\n",
       "    }\n",
       "\n",
       "    .dataframe tbody tr th {\n",
       "        vertical-align: top;\n",
       "    }\n",
       "\n",
       "    .dataframe thead th {\n",
       "        text-align: right;\n",
       "    }\n",
       "</style>\n",
       "<table border=\"1\" class=\"dataframe\">\n",
       "  <thead>\n",
       "    <tr style=\"text-align: right;\">\n",
       "      <th></th>\n",
       "      <th>Marketing_Spend</th>\n",
       "      <th>New_Customers</th>\n",
       "      <th>CAC</th>\n",
       "    </tr>\n",
       "    <tr>\n",
       "      <th>Marketing_Channel</th>\n",
       "      <th></th>\n",
       "      <th></th>\n",
       "      <th></th>\n",
       "    </tr>\n",
       "  </thead>\n",
       "  <tbody>\n",
       "    <tr>\n",
       "      <th>Email Marketing</th>\n",
       "      <td>384034.640089</td>\n",
       "      <td>3583</td>\n",
       "      <td>16481.306045</td>\n",
       "    </tr>\n",
       "    <tr>\n",
       "      <th>Online Ads</th>\n",
       "      <td>388747.870216</td>\n",
       "      <td>3896</td>\n",
       "      <td>15877.671960</td>\n",
       "    </tr>\n",
       "    <tr>\n",
       "      <th>Referral</th>\n",
       "      <td>391420.513166</td>\n",
       "      <td>3904</td>\n",
       "      <td>15346.198311</td>\n",
       "    </tr>\n",
       "    <tr>\n",
       "      <th>Social Media</th>\n",
       "      <td>383160.250918</td>\n",
       "      <td>3652</td>\n",
       "      <td>14889.465778</td>\n",
       "    </tr>\n",
       "  </tbody>\n",
       "</table>\n",
       "</div>"
      ],
      "text/plain": [
       "                   Marketing_Spend  New_Customers           CAC\n",
       "Marketing_Channel                                              \n",
       "Email Marketing      384034.640089           3583  16481.306045\n",
       "Online Ads           388747.870216           3896  15877.671960\n",
       "Referral             391420.513166           3904  15346.198311\n",
       "Social Media         383160.250918           3652  14889.465778"
      ]
     },
     "execution_count": 47,
     "metadata": {},
     "output_type": "execute_result"
    }
   ],
   "source": [
    "c = data.groupby('Marketing_Channel').sum()\n",
    "c.head()"
   ]
  },
  {
   "cell_type": "code",
   "execution_count": 54,
   "id": "6768d578",
   "metadata": {},
   "outputs": [
    {
     "data": {
      "application/vnd.plotly.v1+json": {
       "config": {
        "plotlyServerURL": "https://plot.ly"
       },
       "data": [
        {
         "type": "bar",
         "x": [
          "Email Marketing",
          "Online Ads",
          "Social Media",
          "Online Ads",
          "Email Marketing",
          "Email Marketing",
          "Referral",
          "Online Ads",
          "Social Media",
          "Online Ads",
          "Online Ads",
          "Email Marketing",
          "Online Ads",
          "Online Ads",
          "Email Marketing",
          "Email Marketing",
          "Online Ads",
          "Email Marketing",
          "Referral",
          "Online Ads",
          "Referral",
          "Email Marketing",
          "Social Media",
          "Online Ads",
          "Referral",
          "Social Media",
          "Online Ads",
          "Online Ads",
          "Referral",
          "Email Marketing",
          "Referral",
          "Email Marketing",
          "Email Marketing",
          "Referral",
          "Social Media",
          "Email Marketing",
          "Referral",
          "Email Marketing",
          "Referral",
          "Email Marketing",
          "Email Marketing",
          "Online Ads",
          "Online Ads",
          "Social Media",
          "Online Ads",
          "Online Ads",
          "Online Ads",
          "Social Media",
          "Email Marketing",
          "Social Media",
          "Social Media",
          "Online Ads",
          "Social Media",
          "Referral",
          "Email Marketing",
          "Email Marketing",
          "Online Ads",
          "Email Marketing",
          "Online Ads",
          "Social Media",
          "Referral",
          "Email Marketing",
          "Email Marketing",
          "Email Marketing",
          "Referral",
          "Referral",
          "Online Ads",
          "Online Ads",
          "Social Media",
          "Social Media",
          "Online Ads",
          "Referral",
          "Referral",
          "Social Media",
          "Email Marketing",
          "Social Media",
          "Referral",
          "Social Media",
          "Social Media",
          "Online Ads",
          "Email Marketing",
          "Social Media",
          "Email Marketing",
          "Referral",
          "Social Media",
          "Online Ads",
          "Referral",
          "Email Marketing",
          "Online Ads",
          "Online Ads",
          "Online Ads",
          "Email Marketing",
          "Referral",
          "Social Media",
          "Online Ads",
          "Social Media",
          "Referral",
          "Email Marketing",
          "Referral",
          "Referral",
          "Online Ads",
          "Email Marketing",
          "Email Marketing",
          "Email Marketing",
          "Social Media",
          "Email Marketing",
          "Online Ads",
          "Social Media",
          "Social Media",
          "Referral",
          "Referral",
          "Social Media",
          "Email Marketing",
          "Online Ads",
          "Referral",
          "Referral",
          "Social Media",
          "Email Marketing",
          "Email Marketing",
          "Online Ads",
          "Referral",
          "Email Marketing",
          "Referral",
          "Email Marketing",
          "Online Ads",
          "Social Media",
          "Online Ads",
          "Referral",
          "Referral",
          "Referral",
          "Social Media",
          "Online Ads",
          "Referral",
          "Referral",
          "Online Ads",
          "Social Media",
          "Online Ads",
          "Referral",
          "Referral",
          "Online Ads",
          "Social Media",
          "Email Marketing",
          "Social Media",
          "Referral",
          "Social Media",
          "Online Ads",
          "Email Marketing",
          "Email Marketing",
          "Online Ads",
          "Social Media",
          "Referral",
          "Email Marketing",
          "Social Media",
          "Email Marketing",
          "Online Ads",
          "Online Ads",
          "Social Media",
          "Email Marketing",
          "Online Ads",
          "Online Ads",
          "Online Ads",
          "Email Marketing",
          "Online Ads",
          "Referral",
          "Referral",
          "Online Ads",
          "Online Ads",
          "Email Marketing",
          "Online Ads",
          "Online Ads",
          "Referral",
          "Email Marketing",
          "Social Media",
          "Referral",
          "Referral",
          "Online Ads",
          "Online Ads",
          "Social Media",
          "Social Media",
          "Social Media",
          "Email Marketing",
          "Email Marketing",
          "Referral",
          "Online Ads",
          "Social Media",
          "Social Media",
          "Referral",
          "Online Ads",
          "Online Ads",
          "Social Media",
          "Social Media",
          "Social Media",
          "Online Ads",
          "Referral",
          "Social Media",
          "Referral",
          "Email Marketing",
          "Online Ads",
          "Referral",
          "Referral",
          "Referral",
          "Referral",
          "Referral",
          "Online Ads",
          "Social Media",
          "Online Ads",
          "Social Media",
          "Online Ads",
          "Social Media",
          "Referral",
          "Social Media",
          "Referral",
          "Social Media",
          "Social Media",
          "Referral",
          "Referral",
          "Email Marketing",
          "Email Marketing",
          "Online Ads",
          "Social Media",
          "Referral",
          "Email Marketing",
          "Email Marketing",
          "Email Marketing",
          "Online Ads",
          "Email Marketing",
          "Email Marketing",
          "Referral",
          "Online Ads",
          "Referral",
          "Online Ads",
          "Online Ads",
          "Email Marketing",
          "Email Marketing",
          "Online Ads",
          "Online Ads",
          "Referral",
          "Online Ads",
          "Email Marketing",
          "Email Marketing",
          "Social Media",
          "Email Marketing",
          "Email Marketing",
          "Referral",
          "Online Ads",
          "Email Marketing",
          "Online Ads",
          "Social Media",
          "Email Marketing",
          "Social Media",
          "Social Media",
          "Referral",
          "Online Ads",
          "Social Media",
          "Referral",
          "Referral",
          "Online Ads",
          "Online Ads",
          "Social Media",
          "Referral",
          "Referral",
          "Referral",
          "Social Media",
          "Online Ads",
          "Referral",
          "Email Marketing",
          "Email Marketing",
          "Referral",
          "Email Marketing",
          "Online Ads",
          "Referral",
          "Social Media",
          "Email Marketing",
          "Referral",
          "Online Ads",
          "Online Ads",
          "Online Ads",
          "Email Marketing",
          "Social Media",
          "Email Marketing",
          "Email Marketing",
          "Online Ads",
          "Email Marketing",
          "Social Media",
          "Social Media",
          "Referral",
          "Referral",
          "Online Ads",
          "Social Media",
          "Social Media",
          "Online Ads",
          "Referral",
          "Email Marketing",
          "Social Media",
          "Email Marketing",
          "Email Marketing",
          "Social Media",
          "Online Ads",
          "Online Ads",
          "Referral",
          "Referral",
          "Email Marketing",
          "Referral",
          "Email Marketing",
          "Online Ads",
          "Online Ads",
          "Social Media",
          "Referral",
          "Referral",
          "Referral",
          "Referral",
          "Online Ads",
          "Online Ads",
          "Online Ads",
          "Referral",
          "Referral",
          "Social Media",
          "Email Marketing",
          "Online Ads",
          "Referral",
          "Referral",
          "Referral",
          "Referral",
          "Referral",
          "Online Ads",
          "Email Marketing",
          "Social Media",
          "Referral",
          "Referral",
          "Referral",
          "Referral",
          "Social Media",
          "Referral",
          "Online Ads",
          "Referral",
          "Referral",
          "Online Ads",
          "Referral",
          "Social Media",
          "Social Media",
          "Referral",
          "Online Ads",
          "Online Ads",
          "Online Ads",
          "Social Media",
          "Referral",
          "Referral",
          "Social Media",
          "Email Marketing",
          "Social Media",
          "Referral",
          "Email Marketing",
          "Referral",
          "Online Ads",
          "Referral",
          "Online Ads",
          "Referral",
          "Social Media",
          "Online Ads",
          "Social Media",
          "Email Marketing",
          "Social Media",
          "Email Marketing",
          "Email Marketing",
          "Social Media",
          "Email Marketing",
          "Social Media",
          "Email Marketing",
          "Online Ads",
          "Referral",
          "Email Marketing",
          "Email Marketing",
          "Email Marketing",
          "Email Marketing",
          "Social Media",
          "Online Ads",
          "Email Marketing",
          "Social Media",
          "Social Media",
          "Referral",
          "Email Marketing",
          "Social Media",
          "Social Media",
          "Social Media",
          "Social Media",
          "Social Media",
          "Online Ads",
          "Social Media",
          "Referral",
          "Email Marketing",
          "Referral",
          "Email Marketing",
          "Social Media",
          "Email Marketing",
          "Online Ads",
          "Social Media",
          "Social Media",
          "Email Marketing",
          "Email Marketing",
          "Social Media",
          "Social Media",
          "Online Ads",
          "Social Media",
          "Referral",
          "Referral",
          "Online Ads",
          "Online Ads",
          "Email Marketing",
          "Email Marketing",
          "Social Media",
          "Referral",
          "Referral",
          "Email Marketing",
          "Online Ads",
          "Online Ads",
          "Online Ads",
          "Online Ads",
          "Social Media",
          "Referral",
          "Online Ads",
          "Social Media",
          "Email Marketing",
          "Online Ads",
          "Email Marketing",
          "Social Media",
          "Online Ads",
          "Email Marketing",
          "Online Ads",
          "Referral",
          "Referral",
          "Online Ads",
          "Social Media",
          "Online Ads",
          "Referral",
          "Email Marketing",
          "Online Ads",
          "Online Ads",
          "Referral",
          "Social Media",
          "Referral",
          "Email Marketing",
          "Referral",
          "Email Marketing",
          "Referral",
          "Referral",
          "Email Marketing",
          "Email Marketing",
          "Email Marketing",
          "Referral",
          "Email Marketing",
          "Referral",
          "Email Marketing",
          "Social Media",
          "Social Media",
          "Online Ads",
          "Email Marketing",
          "Referral",
          "Email Marketing",
          "Email Marketing",
          "Social Media",
          "Online Ads",
          "Social Media",
          "Social Media",
          "Social Media",
          "Email Marketing",
          "Online Ads",
          "Online Ads",
          "Email Marketing",
          "Email Marketing",
          "Online Ads",
          "Social Media",
          "Email Marketing",
          "Social Media",
          "Online Ads",
          "Social Media",
          "Referral",
          "Email Marketing",
          "Email Marketing",
          "Referral",
          "Referral",
          "Social Media",
          "Online Ads",
          "Social Media",
          "Referral",
          "Referral",
          "Referral",
          "Social Media",
          "Email Marketing",
          "Email Marketing",
          "Email Marketing",
          "Online Ads",
          "Online Ads",
          "Social Media",
          "Online Ads",
          "Social Media",
          "Email Marketing",
          "Social Media",
          "Online Ads",
          "Social Media",
          "Online Ads"
         ],
         "y": [
          218.06424025,
          33.571691151515154,
          58.547296022727274,
          101.798997875,
          85.26216807692307,
          102.0285312,
          57.14066477777778,
          129.3997170909091,
          70.65520788235294,
          64.52347325641026,
          123.10940913333334,
          100.3210095652174,
          80.89837664,
          52.427184624999995,
          364.36720854545456,
          332.89978007692304,
          64.80922990322581,
          53.10499724,
          59.862952666666665,
          68.64513460869566,
          217.37527452173913,
          171.41724107142858,
          80.01280828888889,
          179.34487817391306,
          76.74507704255319,
          174.64925286956523,
          199.9352887916667,
          57.98202351612903,
          56.92210889473684,
          33.53186214583334,
          150.4883899,
          136.21612511111113,
          171.3620172631579,
          103.99212022222223,
          86.31499738636363,
          156.44586126923076,
          79.57888442857143,
          201.70529270588236,
          362.88205527272726,
          81.00730477777778,
          427.7204697,
          151.840096625,
          57.295799960000004,
          23.461993659574468,
          74.9276326,
          337.21719518181817,
          230.12815966666668,
          99.48529869230768,
          296.92760153846154,
          72.44366172222222,
          104.51271288888888,
          81.60394376744186,
          82.80030717647058,
          292.1373957142857,
          110.02932390000001,
          89.51701207894737,
          44.97637151515152,
          117.50898585714285,
          87.88385925531915,
          149.3009413125,
          71.40821192105263,
          59.10198821428571,
          125.99346495833333,
          48.26376936734694,
          366.52520899999996,
          99.7517133023256,
          49.03984424137931,
          124.18334023076922,
          322.03094763636363,
          331.9099418461538,
          95.730864375,
          78.34138800000001,
          106.35624908108107,
          303.8684328125,
          50.739746,
          111.38939144736842,
          225.19225899999998,
          195.5993344,
          91.40993239999999,
          81.75218452083332,
          109.1359027368421,
          314.7751885714286,
          240.16244866666668,
          49.87598488888889,
          92.3780558367347,
          39.50907514,
          60.82625246808511,
          76.47392926666667,
          83.86524056666667,
          32.788235029411766,
          91.7460696875,
          40.17114951162791,
          66.01712146428572,
          107.4699853076923,
          56.22274697619047,
          94.19333164583333,
          102.8306757027027,
          131.5671439375,
          61.212026941176475,
          106.49445135555555,
          58.36747165217391,
          104.87293664864865,
          77.74503650000001,
          168.02744225,
          104.51214883333334,
          115.60037416129032,
          75.98167538461539,
          119.1923278,
          38.117038944444445,
          117.899100125,
          125.5716207,
          60.13038164864865,
          110.87407803333333,
          111.27084442307692,
          94.65720378787879,
          142.21132899999998,
          99.593543675,
          165.94037064285712,
          254.09465126666666,
          138.9110472,
          133.707647,
          40.07090645945946,
          110.646073375,
          44.79451409090909,
          174.63643677777776,
          89.97240973333334,
          133.8922592307692,
          39.692309787234045,
          65.26209664444444,
          86.62977786666667,
          158.27187393548388,
          182.2674985882353,
          59.22207813888888,
          43.8157635,
          48.012711135135135,
          146.91789646153845,
          61.34879196428572,
          22.012363937499998,
          108.15656403448276,
          65.53891584375,
          306.07373275,
          69.85730145652174,
          90.2302279047619,
          65.43991182608696,
          235.4655152105263,
          74.08786945,
          187.1199558333333,
          206.0160549375,
          89.924618125,
          61.37500428888889,
          52.65014187878788,
          70.91216876470588,
          176.45386618518518,
          63.28079889130435,
          178.685940875,
          70.34675051351351,
          28.807304022222223,
          71.79148628571429,
          24.784414224489794,
          35.484229733333336,
          295.5780352727273,
          46.1529593125,
          184.28416633333333,
          133.98238627272727,
          193.2273229047619,
          126.86187425925927,
          143.5504592758621,
          61.37898541935484,
          96.57156690625,
          280.205786,
          131.9468579047619,
          233.7192980526316,
          107.82880526086956,
          63.47202791428572,
          248.86494885714288,
          180.97492889473685,
          79.20714444000001,
          435.4873455454545,
          122.07677486666667,
          42.886064674418606,
          158.3353282173913,
          47.88906982352941,
          47.09039425,
          33.33998656410256,
          32.603319032258064,
          140.1007409,
          102.28014484848485,
          74.65645365517241,
          64.19683126666666,
          83.2135504347826,
          79.41562983333334,
          187.74168706666666,
          288.4261292307692,
          247.13916726315787,
          207.56560535,
          71.4333067142857,
          280.36401315384614,
          315.6449222666667,
          100.02058755555555,
          83.63814513157895,
          97.04159172972973,
          113.01575075609756,
          89.7192633125,
          33.832614394736844,
          46.21364325,
          82.60915740740741,
          173.73177773913042,
          78.01971897619048,
          126.73190311764705,
          46.79420728125,
          101.47870175675675,
          223.4667494117647,
          170.38232010714287,
          63.8699725106383,
          72.56538724390244,
          30.738776930232557,
          39.98079782758621,
          227.34288808333335,
          95.38693054166667,
          57.184903142857145,
          28.44390722916667,
          372.8957237692308,
          434.38344559999996,
          143.5128885652174,
          165.6256934827586,
          217.31694208695654,
          204.95146316666668,
          79.92477323076923,
          41.46166760714285,
          134.1691774,
          169.52960547058825,
          360.6037958,
          113.76319882926829,
          46.647475378378374,
          159.11040480952383,
          196.61882655555556,
          87.2618590882353,
          31.02203693181818,
          99.66017604166666,
          55.553180357142864,
          81.78964528888888,
          138.4666368125,
          165.65818957142855,
          107.84841988571429,
          179.40593175,
          129.21011237837837,
          386.7512853636363,
          82.06119066666666,
          201.378831,
          75.26895429999999,
          49.84989445652173,
          131.91186235135135,
          56.884787565217394,
          87.38242882857143,
          99.04953718,
          100.85115405555555,
          113.22765632142857,
          156.05825194117648,
          50.009433314285715,
          222.46522154545454,
          134.19242053333335,
          175.08174845000002,
          82.44820702040816,
          46.51879366666667,
          96.87510775757576,
          314.0460695333333,
          74.39092918918918,
          237.06250725,
          59.42817332,
          132.2320881891892,
          73.09546102127659,
          55.919709971428574,
          37.98866639534884,
          213.55706853333334,
          91.68587531428571,
          47.33920017241379,
          160.2912438064516,
          193.82164641666668,
          91.79972829032258,
          73.4932298,
          309.1837639285714,
          71.2738575952381,
          77.32826608,
          178.5581211764706,
          48.69068806976745,
          103.30704242857142,
          223.6808422727273,
          61.71636325,
          100.158134625,
          133.38652910526315,
          187.498904,
          189.560222875,
          237.75289584210526,
          171.38875915384614,
          95.68134595454545,
          198.09641561904763,
          55.411868625000004,
          249.3154513157895,
          216.4964787857143,
          203.91418538095235,
          42.627118659999994,
          53.51764387804878,
          85.8397664102564,
          108.60020289130435,
          62.94811461702128,
          41.95741247368421,
          68.57222415217392,
          47.60991534,
          65.46264628571429,
          105.79067506666667,
          56.42756934,
          76.23698003333334,
          92.34786815789474,
          99.73667657894737,
          234.79932628571427,
          48.356244600000004,
          107.95204999999999,
          23.49178392,
          137.20071055172414,
          141.51524162962963,
          90.3326725531915,
          195.71653923076923,
          114.2111036875,
          101.9759573095238,
          351.66232535714283,
          102.80395165517241,
          29.43790884615385,
          79.18854213157894,
          280.06014308333334,
          344.5231733076923,
          136.2654998787879,
          98.61517282142857,
          221.70031049999997,
          188.51415319999998,
          79.38316959183673,
          54.9982183125,
          86.16965014285714,
          47.57190808823529,
          73.79390779487179,
          103.76201110638297,
          52.316554133333334,
          314.2348661666667,
          94.71964763157895,
          95.80567758695652,
          200.42569754545454,
          147.91229123333332,
          52.500783125,
          56.6661154,
          92.25880240476191,
          212.5056440526316,
          345.34862076923076,
          30.09464207894737,
          79.6051868125,
          113.69819570967742,
          312.2477596666667,
          118.80246885714286,
          189.86026033333331,
          227.99049066666666,
          55.75090024,
          93.02608723684212,
          118.166235,
          64.52823737209302,
          87.81406165116279,
          94.1570662857143,
          59.198193749999994,
          126.80526851515151,
          65.86276072727273,
          89.26301282142857,
          46.53762302941177,
          86.79625758333333,
          105.28104025806451,
          86.87662283333333,
          129.22573815384615,
          26.31746806,
          144.62446435483872,
          248.4886767142857,
          63.33287635483871,
          290.707254,
          34.94379735555555,
          83.6646956764706,
          71.9967627857143,
          77.7425705,
          21.616452624999997,
          222.02801621052632,
          148.54315141935484,
          247.36290286666664,
          34.72132953191489,
          145.6273228421053,
          74.4457030625,
          115.5271317586207,
          101.59299454285714,
          149.84643077777775,
          41.67485204166667,
          292.0810467333333,
          61.960965379310345,
          56.41717768888889,
          86.25977188235295,
          62.86525187096774,
          182.64948716666666,
          76.72669118604652,
          331.384545,
          58.9438652972973,
          116.94709376190477,
          110.08846254545455,
          190.7201382727273,
          98.90048690909092,
          129.07579210344826,
          189.46073166666667,
          52.0076957826087,
          110.50406361290322,
          72.85144258536586,
          209.84641654545456,
          89.36569191666666,
          233.08002655555558,
          180.4347364736842,
          172.09170164285715,
          126.65969685714286,
          217.7227908125,
          88.35851985714287,
          88.26621606818182,
          84.575027,
          362.779039,
          113.32233596774194,
          94.15540440816326,
          199.186802,
          46.57774033333333,
          81.2733165,
          174.64711689473683,
          196.4719536,
          64.78730966666667,
          44.4988123877551,
          199.496173,
          44.80421794736842,
          127.38659925,
          87.71197322222223,
          148.05934318181818,
          124.9363798,
          122.47231310526317,
          88.20184648979593,
          72.42429778571429,
          113.12524342105263,
          121.97463829166666,
          96.04440852272728,
          159.44949612,
          81.20210396551724,
          36.51697075,
          220.52605322727274,
          47.36448666666667,
          105.78262691304347,
          116.85690494736843,
          99.91966276923077,
          175.70603467857146,
          143.20820555882352,
          100.43691847619047,
          57.281399953488375,
          115.63132983333334,
          52.783731,
          143.01314695454545,
          58.732168979166666,
          205.0729737222222,
          141.8985841923077,
          256.78772053846154,
          107.241730125,
          144.27780506060608,
          31.852986866666665,
          120.9554755625,
          25.583688348837207,
          266.87878711764705,
          115.91534032142856,
          310.73490899999996,
          94.27344000000001,
          46.40252462962963,
          113.03740542105264,
          110.41787033333334,
          116.25056305263158,
          71.16711954054054,
          103.94053666666667,
          199.37692216666667,
          58.3541667631579,
          92.828077375,
          126.25163581818182,
          126.3621453888889,
          118.66586115384615,
          80.41642937142858,
          87.66535416666667,
          120.38062078787878,
          191.35585372000003,
          78.72079452941176,
          264.6050706,
          49.03307909090909,
          110.81408791666667,
          126.91695809090908,
          98.57960503333334,
          164.5289714375,
          155.0350355483871,
          59.519218263157896,
          137.89554638888887,
          231.12769533333335,
          171.50788139285714,
          110.545019325
         ]
        }
       ],
       "layout": {
        "template": {
         "data": {
          "bar": [
           {
            "error_x": {
             "color": "#2a3f5f"
            },
            "error_y": {
             "color": "#2a3f5f"
            },
            "marker": {
             "line": {
              "color": "#E5ECF6",
              "width": 0.5
             },
             "pattern": {
              "fillmode": "overlay",
              "size": 10,
              "solidity": 0.2
             }
            },
            "type": "bar"
           }
          ],
          "barpolar": [
           {
            "marker": {
             "line": {
              "color": "#E5ECF6",
              "width": 0.5
             },
             "pattern": {
              "fillmode": "overlay",
              "size": 10,
              "solidity": 0.2
             }
            },
            "type": "barpolar"
           }
          ],
          "carpet": [
           {
            "aaxis": {
             "endlinecolor": "#2a3f5f",
             "gridcolor": "white",
             "linecolor": "white",
             "minorgridcolor": "white",
             "startlinecolor": "#2a3f5f"
            },
            "baxis": {
             "endlinecolor": "#2a3f5f",
             "gridcolor": "white",
             "linecolor": "white",
             "minorgridcolor": "white",
             "startlinecolor": "#2a3f5f"
            },
            "type": "carpet"
           }
          ],
          "choropleth": [
           {
            "colorbar": {
             "outlinewidth": 0,
             "ticks": ""
            },
            "type": "choropleth"
           }
          ],
          "contour": [
           {
            "colorbar": {
             "outlinewidth": 0,
             "ticks": ""
            },
            "colorscale": [
             [
              0,
              "#0d0887"
             ],
             [
              0.1111111111111111,
              "#46039f"
             ],
             [
              0.2222222222222222,
              "#7201a8"
             ],
             [
              0.3333333333333333,
              "#9c179e"
             ],
             [
              0.4444444444444444,
              "#bd3786"
             ],
             [
              0.5555555555555556,
              "#d8576b"
             ],
             [
              0.6666666666666666,
              "#ed7953"
             ],
             [
              0.7777777777777778,
              "#fb9f3a"
             ],
             [
              0.8888888888888888,
              "#fdca26"
             ],
             [
              1,
              "#f0f921"
             ]
            ],
            "type": "contour"
           }
          ],
          "contourcarpet": [
           {
            "colorbar": {
             "outlinewidth": 0,
             "ticks": ""
            },
            "type": "contourcarpet"
           }
          ],
          "heatmap": [
           {
            "colorbar": {
             "outlinewidth": 0,
             "ticks": ""
            },
            "colorscale": [
             [
              0,
              "#0d0887"
             ],
             [
              0.1111111111111111,
              "#46039f"
             ],
             [
              0.2222222222222222,
              "#7201a8"
             ],
             [
              0.3333333333333333,
              "#9c179e"
             ],
             [
              0.4444444444444444,
              "#bd3786"
             ],
             [
              0.5555555555555556,
              "#d8576b"
             ],
             [
              0.6666666666666666,
              "#ed7953"
             ],
             [
              0.7777777777777778,
              "#fb9f3a"
             ],
             [
              0.8888888888888888,
              "#fdca26"
             ],
             [
              1,
              "#f0f921"
             ]
            ],
            "type": "heatmap"
           }
          ],
          "heatmapgl": [
           {
            "colorbar": {
             "outlinewidth": 0,
             "ticks": ""
            },
            "colorscale": [
             [
              0,
              "#0d0887"
             ],
             [
              0.1111111111111111,
              "#46039f"
             ],
             [
              0.2222222222222222,
              "#7201a8"
             ],
             [
              0.3333333333333333,
              "#9c179e"
             ],
             [
              0.4444444444444444,
              "#bd3786"
             ],
             [
              0.5555555555555556,
              "#d8576b"
             ],
             [
              0.6666666666666666,
              "#ed7953"
             ],
             [
              0.7777777777777778,
              "#fb9f3a"
             ],
             [
              0.8888888888888888,
              "#fdca26"
             ],
             [
              1,
              "#f0f921"
             ]
            ],
            "type": "heatmapgl"
           }
          ],
          "histogram": [
           {
            "marker": {
             "pattern": {
              "fillmode": "overlay",
              "size": 10,
              "solidity": 0.2
             }
            },
            "type": "histogram"
           }
          ],
          "histogram2d": [
           {
            "colorbar": {
             "outlinewidth": 0,
             "ticks": ""
            },
            "colorscale": [
             [
              0,
              "#0d0887"
             ],
             [
              0.1111111111111111,
              "#46039f"
             ],
             [
              0.2222222222222222,
              "#7201a8"
             ],
             [
              0.3333333333333333,
              "#9c179e"
             ],
             [
              0.4444444444444444,
              "#bd3786"
             ],
             [
              0.5555555555555556,
              "#d8576b"
             ],
             [
              0.6666666666666666,
              "#ed7953"
             ],
             [
              0.7777777777777778,
              "#fb9f3a"
             ],
             [
              0.8888888888888888,
              "#fdca26"
             ],
             [
              1,
              "#f0f921"
             ]
            ],
            "type": "histogram2d"
           }
          ],
          "histogram2dcontour": [
           {
            "colorbar": {
             "outlinewidth": 0,
             "ticks": ""
            },
            "colorscale": [
             [
              0,
              "#0d0887"
             ],
             [
              0.1111111111111111,
              "#46039f"
             ],
             [
              0.2222222222222222,
              "#7201a8"
             ],
             [
              0.3333333333333333,
              "#9c179e"
             ],
             [
              0.4444444444444444,
              "#bd3786"
             ],
             [
              0.5555555555555556,
              "#d8576b"
             ],
             [
              0.6666666666666666,
              "#ed7953"
             ],
             [
              0.7777777777777778,
              "#fb9f3a"
             ],
             [
              0.8888888888888888,
              "#fdca26"
             ],
             [
              1,
              "#f0f921"
             ]
            ],
            "type": "histogram2dcontour"
           }
          ],
          "mesh3d": [
           {
            "colorbar": {
             "outlinewidth": 0,
             "ticks": ""
            },
            "type": "mesh3d"
           }
          ],
          "parcoords": [
           {
            "line": {
             "colorbar": {
              "outlinewidth": 0,
              "ticks": ""
             }
            },
            "type": "parcoords"
           }
          ],
          "pie": [
           {
            "automargin": true,
            "type": "pie"
           }
          ],
          "scatter": [
           {
            "fillpattern": {
             "fillmode": "overlay",
             "size": 10,
             "solidity": 0.2
            },
            "type": "scatter"
           }
          ],
          "scatter3d": [
           {
            "line": {
             "colorbar": {
              "outlinewidth": 0,
              "ticks": ""
             }
            },
            "marker": {
             "colorbar": {
              "outlinewidth": 0,
              "ticks": ""
             }
            },
            "type": "scatter3d"
           }
          ],
          "scattercarpet": [
           {
            "marker": {
             "colorbar": {
              "outlinewidth": 0,
              "ticks": ""
             }
            },
            "type": "scattercarpet"
           }
          ],
          "scattergeo": [
           {
            "marker": {
             "colorbar": {
              "outlinewidth": 0,
              "ticks": ""
             }
            },
            "type": "scattergeo"
           }
          ],
          "scattergl": [
           {
            "marker": {
             "colorbar": {
              "outlinewidth": 0,
              "ticks": ""
             }
            },
            "type": "scattergl"
           }
          ],
          "scattermapbox": [
           {
            "marker": {
             "colorbar": {
              "outlinewidth": 0,
              "ticks": ""
             }
            },
            "type": "scattermapbox"
           }
          ],
          "scatterpolar": [
           {
            "marker": {
             "colorbar": {
              "outlinewidth": 0,
              "ticks": ""
             }
            },
            "type": "scatterpolar"
           }
          ],
          "scatterpolargl": [
           {
            "marker": {
             "colorbar": {
              "outlinewidth": 0,
              "ticks": ""
             }
            },
            "type": "scatterpolargl"
           }
          ],
          "scatterternary": [
           {
            "marker": {
             "colorbar": {
              "outlinewidth": 0,
              "ticks": ""
             }
            },
            "type": "scatterternary"
           }
          ],
          "surface": [
           {
            "colorbar": {
             "outlinewidth": 0,
             "ticks": ""
            },
            "colorscale": [
             [
              0,
              "#0d0887"
             ],
             [
              0.1111111111111111,
              "#46039f"
             ],
             [
              0.2222222222222222,
              "#7201a8"
             ],
             [
              0.3333333333333333,
              "#9c179e"
             ],
             [
              0.4444444444444444,
              "#bd3786"
             ],
             [
              0.5555555555555556,
              "#d8576b"
             ],
             [
              0.6666666666666666,
              "#ed7953"
             ],
             [
              0.7777777777777778,
              "#fb9f3a"
             ],
             [
              0.8888888888888888,
              "#fdca26"
             ],
             [
              1,
              "#f0f921"
             ]
            ],
            "type": "surface"
           }
          ],
          "table": [
           {
            "cells": {
             "fill": {
              "color": "#EBF0F8"
             },
             "line": {
              "color": "white"
             }
            },
            "header": {
             "fill": {
              "color": "#C8D4E3"
             },
             "line": {
              "color": "white"
             }
            },
            "type": "table"
           }
          ]
         },
         "layout": {
          "annotationdefaults": {
           "arrowcolor": "#2a3f5f",
           "arrowhead": 0,
           "arrowwidth": 1
          },
          "autotypenumbers": "strict",
          "coloraxis": {
           "colorbar": {
            "outlinewidth": 0,
            "ticks": ""
           }
          },
          "colorscale": {
           "diverging": [
            [
             0,
             "#8e0152"
            ],
            [
             0.1,
             "#c51b7d"
            ],
            [
             0.2,
             "#de77ae"
            ],
            [
             0.3,
             "#f1b6da"
            ],
            [
             0.4,
             "#fde0ef"
            ],
            [
             0.5,
             "#f7f7f7"
            ],
            [
             0.6,
             "#e6f5d0"
            ],
            [
             0.7,
             "#b8e186"
            ],
            [
             0.8,
             "#7fbc41"
            ],
            [
             0.9,
             "#4d9221"
            ],
            [
             1,
             "#276419"
            ]
           ],
           "sequential": [
            [
             0,
             "#0d0887"
            ],
            [
             0.1111111111111111,
             "#46039f"
            ],
            [
             0.2222222222222222,
             "#7201a8"
            ],
            [
             0.3333333333333333,
             "#9c179e"
            ],
            [
             0.4444444444444444,
             "#bd3786"
            ],
            [
             0.5555555555555556,
             "#d8576b"
            ],
            [
             0.6666666666666666,
             "#ed7953"
            ],
            [
             0.7777777777777778,
             "#fb9f3a"
            ],
            [
             0.8888888888888888,
             "#fdca26"
            ],
            [
             1,
             "#f0f921"
            ]
           ],
           "sequentialminus": [
            [
             0,
             "#0d0887"
            ],
            [
             0.1111111111111111,
             "#46039f"
            ],
            [
             0.2222222222222222,
             "#7201a8"
            ],
            [
             0.3333333333333333,
             "#9c179e"
            ],
            [
             0.4444444444444444,
             "#bd3786"
            ],
            [
             0.5555555555555556,
             "#d8576b"
            ],
            [
             0.6666666666666666,
             "#ed7953"
            ],
            [
             0.7777777777777778,
             "#fb9f3a"
            ],
            [
             0.8888888888888888,
             "#fdca26"
            ],
            [
             1,
             "#f0f921"
            ]
           ]
          },
          "colorway": [
           "#636efa",
           "#EF553B",
           "#00cc96",
           "#ab63fa",
           "#FFA15A",
           "#19d3f3",
           "#FF6692",
           "#B6E880",
           "#FF97FF",
           "#FECB52"
          ],
          "font": {
           "color": "#2a3f5f"
          },
          "geo": {
           "bgcolor": "white",
           "lakecolor": "white",
           "landcolor": "#E5ECF6",
           "showlakes": true,
           "showland": true,
           "subunitcolor": "white"
          },
          "hoverlabel": {
           "align": "left"
          },
          "hovermode": "closest",
          "mapbox": {
           "style": "light"
          },
          "paper_bgcolor": "white",
          "plot_bgcolor": "#E5ECF6",
          "polar": {
           "angularaxis": {
            "gridcolor": "white",
            "linecolor": "white",
            "ticks": ""
           },
           "bgcolor": "#E5ECF6",
           "radialaxis": {
            "gridcolor": "white",
            "linecolor": "white",
            "ticks": ""
           }
          },
          "scene": {
           "xaxis": {
            "backgroundcolor": "#E5ECF6",
            "gridcolor": "white",
            "gridwidth": 2,
            "linecolor": "white",
            "showbackground": true,
            "ticks": "",
            "zerolinecolor": "white"
           },
           "yaxis": {
            "backgroundcolor": "#E5ECF6",
            "gridcolor": "white",
            "gridwidth": 2,
            "linecolor": "white",
            "showbackground": true,
            "ticks": "",
            "zerolinecolor": "white"
           },
           "zaxis": {
            "backgroundcolor": "#E5ECF6",
            "gridcolor": "white",
            "gridwidth": 2,
            "linecolor": "white",
            "showbackground": true,
            "ticks": "",
            "zerolinecolor": "white"
           }
          },
          "shapedefaults": {
           "line": {
            "color": "#2a3f5f"
           }
          },
          "ternary": {
           "aaxis": {
            "gridcolor": "white",
            "linecolor": "white",
            "ticks": ""
           },
           "baxis": {
            "gridcolor": "white",
            "linecolor": "white",
            "ticks": ""
           },
           "bgcolor": "#E5ECF6",
           "caxis": {
            "gridcolor": "white",
            "linecolor": "white",
            "ticks": ""
           }
          },
          "title": {
           "x": 0.05
          },
          "xaxis": {
           "automargin": true,
           "gridcolor": "white",
           "linecolor": "white",
           "ticks": "",
           "title": {
            "standoff": 15
           },
           "zerolinecolor": "white",
           "zerolinewidth": 2
          },
          "yaxis": {
           "automargin": true,
           "gridcolor": "white",
           "linecolor": "white",
           "ticks": "",
           "title": {
            "standoff": 15
           },
           "zerolinecolor": "white",
           "zerolinewidth": 2
          }
         }
        },
        "title": {
         "text": "CAC by Marketing Channel"
        },
        "xaxis": {
         "title": {
          "text": "Marketing Channels"
         }
        },
        "yaxis": {
         "title": {
          "text": "Customer Acquisition Cost"
         }
        }
       }
      },
      "text/html": [
       "<div>                            <div id=\"8bf013a7-72a5-43e0-809f-bb1afb5f7329\" class=\"plotly-graph-div\" style=\"height:525px; width:100%;\"></div>            <script type=\"text/javascript\">                require([\"plotly\"], function(Plotly) {                    window.PLOTLYENV=window.PLOTLYENV || {};                                    if (document.getElementById(\"8bf013a7-72a5-43e0-809f-bb1afb5f7329\")) {                    Plotly.newPlot(                        \"8bf013a7-72a5-43e0-809f-bb1afb5f7329\",                        [{\"x\":[\"Email Marketing\",\"Online Ads\",\"Social Media\",\"Online Ads\",\"Email Marketing\",\"Email Marketing\",\"Referral\",\"Online Ads\",\"Social Media\",\"Online Ads\",\"Online Ads\",\"Email Marketing\",\"Online Ads\",\"Online Ads\",\"Email Marketing\",\"Email Marketing\",\"Online Ads\",\"Email Marketing\",\"Referral\",\"Online Ads\",\"Referral\",\"Email Marketing\",\"Social Media\",\"Online Ads\",\"Referral\",\"Social Media\",\"Online Ads\",\"Online Ads\",\"Referral\",\"Email Marketing\",\"Referral\",\"Email Marketing\",\"Email Marketing\",\"Referral\",\"Social Media\",\"Email Marketing\",\"Referral\",\"Email Marketing\",\"Referral\",\"Email Marketing\",\"Email Marketing\",\"Online Ads\",\"Online Ads\",\"Social Media\",\"Online Ads\",\"Online Ads\",\"Online Ads\",\"Social Media\",\"Email Marketing\",\"Social Media\",\"Social Media\",\"Online Ads\",\"Social Media\",\"Referral\",\"Email Marketing\",\"Email Marketing\",\"Online Ads\",\"Email Marketing\",\"Online Ads\",\"Social Media\",\"Referral\",\"Email Marketing\",\"Email Marketing\",\"Email Marketing\",\"Referral\",\"Referral\",\"Online Ads\",\"Online Ads\",\"Social Media\",\"Social Media\",\"Online Ads\",\"Referral\",\"Referral\",\"Social Media\",\"Email Marketing\",\"Social Media\",\"Referral\",\"Social Media\",\"Social Media\",\"Online Ads\",\"Email Marketing\",\"Social Media\",\"Email Marketing\",\"Referral\",\"Social Media\",\"Online Ads\",\"Referral\",\"Email Marketing\",\"Online Ads\",\"Online Ads\",\"Online Ads\",\"Email Marketing\",\"Referral\",\"Social Media\",\"Online Ads\",\"Social Media\",\"Referral\",\"Email Marketing\",\"Referral\",\"Referral\",\"Online Ads\",\"Email Marketing\",\"Email Marketing\",\"Email Marketing\",\"Social Media\",\"Email Marketing\",\"Online Ads\",\"Social Media\",\"Social Media\",\"Referral\",\"Referral\",\"Social Media\",\"Email Marketing\",\"Online Ads\",\"Referral\",\"Referral\",\"Social Media\",\"Email Marketing\",\"Email Marketing\",\"Online Ads\",\"Referral\",\"Email Marketing\",\"Referral\",\"Email Marketing\",\"Online Ads\",\"Social Media\",\"Online Ads\",\"Referral\",\"Referral\",\"Referral\",\"Social Media\",\"Online Ads\",\"Referral\",\"Referral\",\"Online Ads\",\"Social Media\",\"Online Ads\",\"Referral\",\"Referral\",\"Online Ads\",\"Social Media\",\"Email Marketing\",\"Social Media\",\"Referral\",\"Social Media\",\"Online Ads\",\"Email Marketing\",\"Email Marketing\",\"Online Ads\",\"Social Media\",\"Referral\",\"Email Marketing\",\"Social Media\",\"Email Marketing\",\"Online Ads\",\"Online Ads\",\"Social Media\",\"Email Marketing\",\"Online Ads\",\"Online Ads\",\"Online Ads\",\"Email Marketing\",\"Online Ads\",\"Referral\",\"Referral\",\"Online Ads\",\"Online Ads\",\"Email Marketing\",\"Online Ads\",\"Online Ads\",\"Referral\",\"Email Marketing\",\"Social Media\",\"Referral\",\"Referral\",\"Online Ads\",\"Online Ads\",\"Social Media\",\"Social Media\",\"Social Media\",\"Email Marketing\",\"Email Marketing\",\"Referral\",\"Online Ads\",\"Social Media\",\"Social Media\",\"Referral\",\"Online Ads\",\"Online Ads\",\"Social Media\",\"Social Media\",\"Social Media\",\"Online Ads\",\"Referral\",\"Social Media\",\"Referral\",\"Email Marketing\",\"Online Ads\",\"Referral\",\"Referral\",\"Referral\",\"Referral\",\"Referral\",\"Online Ads\",\"Social Media\",\"Online Ads\",\"Social Media\",\"Online Ads\",\"Social Media\",\"Referral\",\"Social Media\",\"Referral\",\"Social Media\",\"Social Media\",\"Referral\",\"Referral\",\"Email Marketing\",\"Email Marketing\",\"Online Ads\",\"Social Media\",\"Referral\",\"Email Marketing\",\"Email Marketing\",\"Email Marketing\",\"Online Ads\",\"Email Marketing\",\"Email Marketing\",\"Referral\",\"Online Ads\",\"Referral\",\"Online Ads\",\"Online Ads\",\"Email Marketing\",\"Email Marketing\",\"Online Ads\",\"Online Ads\",\"Referral\",\"Online Ads\",\"Email Marketing\",\"Email Marketing\",\"Social Media\",\"Email Marketing\",\"Email Marketing\",\"Referral\",\"Online Ads\",\"Email Marketing\",\"Online Ads\",\"Social Media\",\"Email Marketing\",\"Social Media\",\"Social Media\",\"Referral\",\"Online Ads\",\"Social Media\",\"Referral\",\"Referral\",\"Online Ads\",\"Online Ads\",\"Social Media\",\"Referral\",\"Referral\",\"Referral\",\"Social Media\",\"Online Ads\",\"Referral\",\"Email Marketing\",\"Email Marketing\",\"Referral\",\"Email Marketing\",\"Online Ads\",\"Referral\",\"Social Media\",\"Email Marketing\",\"Referral\",\"Online Ads\",\"Online Ads\",\"Online Ads\",\"Email Marketing\",\"Social Media\",\"Email Marketing\",\"Email Marketing\",\"Online Ads\",\"Email Marketing\",\"Social Media\",\"Social Media\",\"Referral\",\"Referral\",\"Online Ads\",\"Social Media\",\"Social Media\",\"Online Ads\",\"Referral\",\"Email Marketing\",\"Social Media\",\"Email Marketing\",\"Email Marketing\",\"Social Media\",\"Online Ads\",\"Online Ads\",\"Referral\",\"Referral\",\"Email Marketing\",\"Referral\",\"Email Marketing\",\"Online Ads\",\"Online Ads\",\"Social Media\",\"Referral\",\"Referral\",\"Referral\",\"Referral\",\"Online Ads\",\"Online Ads\",\"Online Ads\",\"Referral\",\"Referral\",\"Social Media\",\"Email Marketing\",\"Online Ads\",\"Referral\",\"Referral\",\"Referral\",\"Referral\",\"Referral\",\"Online Ads\",\"Email Marketing\",\"Social Media\",\"Referral\",\"Referral\",\"Referral\",\"Referral\",\"Social Media\",\"Referral\",\"Online Ads\",\"Referral\",\"Referral\",\"Online Ads\",\"Referral\",\"Social Media\",\"Social Media\",\"Referral\",\"Online Ads\",\"Online Ads\",\"Online Ads\",\"Social Media\",\"Referral\",\"Referral\",\"Social Media\",\"Email Marketing\",\"Social Media\",\"Referral\",\"Email Marketing\",\"Referral\",\"Online Ads\",\"Referral\",\"Online Ads\",\"Referral\",\"Social Media\",\"Online Ads\",\"Social Media\",\"Email Marketing\",\"Social Media\",\"Email Marketing\",\"Email Marketing\",\"Social Media\",\"Email Marketing\",\"Social Media\",\"Email Marketing\",\"Online Ads\",\"Referral\",\"Email Marketing\",\"Email Marketing\",\"Email Marketing\",\"Email Marketing\",\"Social Media\",\"Online Ads\",\"Email Marketing\",\"Social Media\",\"Social Media\",\"Referral\",\"Email Marketing\",\"Social Media\",\"Social Media\",\"Social Media\",\"Social Media\",\"Social Media\",\"Online Ads\",\"Social Media\",\"Referral\",\"Email Marketing\",\"Referral\",\"Email Marketing\",\"Social Media\",\"Email Marketing\",\"Online Ads\",\"Social Media\",\"Social Media\",\"Email Marketing\",\"Email Marketing\",\"Social Media\",\"Social Media\",\"Online Ads\",\"Social Media\",\"Referral\",\"Referral\",\"Online Ads\",\"Online Ads\",\"Email Marketing\",\"Email Marketing\",\"Social Media\",\"Referral\",\"Referral\",\"Email Marketing\",\"Online Ads\",\"Online Ads\",\"Online Ads\",\"Online Ads\",\"Social Media\",\"Referral\",\"Online Ads\",\"Social Media\",\"Email Marketing\",\"Online Ads\",\"Email Marketing\",\"Social Media\",\"Online Ads\",\"Email Marketing\",\"Online Ads\",\"Referral\",\"Referral\",\"Online Ads\",\"Social Media\",\"Online Ads\",\"Referral\",\"Email Marketing\",\"Online Ads\",\"Online Ads\",\"Referral\",\"Social Media\",\"Referral\",\"Email Marketing\",\"Referral\",\"Email Marketing\",\"Referral\",\"Referral\",\"Email Marketing\",\"Email Marketing\",\"Email Marketing\",\"Referral\",\"Email Marketing\",\"Referral\",\"Email Marketing\",\"Social Media\",\"Social Media\",\"Online Ads\",\"Email Marketing\",\"Referral\",\"Email Marketing\",\"Email Marketing\",\"Social Media\",\"Online Ads\",\"Social Media\",\"Social Media\",\"Social Media\",\"Email Marketing\",\"Online Ads\",\"Online Ads\",\"Email Marketing\",\"Email Marketing\",\"Online Ads\",\"Social Media\",\"Email Marketing\",\"Social Media\",\"Online Ads\",\"Social Media\",\"Referral\",\"Email Marketing\",\"Email Marketing\",\"Referral\",\"Referral\",\"Social Media\",\"Online Ads\",\"Social Media\",\"Referral\",\"Referral\",\"Referral\",\"Social Media\",\"Email Marketing\",\"Email Marketing\",\"Email Marketing\",\"Online Ads\",\"Online Ads\",\"Social Media\",\"Online Ads\",\"Social Media\",\"Email Marketing\",\"Social Media\",\"Online Ads\",\"Social Media\",\"Online Ads\"],\"y\":[218.06424025,33.571691151515154,58.547296022727274,101.798997875,85.26216807692307,102.0285312,57.14066477777778,129.3997170909091,70.65520788235294,64.52347325641026,123.10940913333334,100.3210095652174,80.89837664,52.427184624999995,364.36720854545456,332.89978007692304,64.80922990322581,53.10499724,59.862952666666665,68.64513460869566,217.37527452173913,171.41724107142858,80.01280828888889,179.34487817391306,76.74507704255319,174.64925286956523,199.9352887916667,57.98202351612903,56.92210889473684,33.53186214583334,150.4883899,136.21612511111113,171.3620172631579,103.99212022222223,86.31499738636363,156.44586126923076,79.57888442857143,201.70529270588236,362.88205527272726,81.00730477777778,427.7204697,151.840096625,57.295799960000004,23.461993659574468,74.9276326,337.21719518181817,230.12815966666668,99.48529869230768,296.92760153846154,72.44366172222222,104.51271288888888,81.60394376744186,82.80030717647058,292.1373957142857,110.02932390000001,89.51701207894737,44.97637151515152,117.50898585714285,87.88385925531915,149.3009413125,71.40821192105263,59.10198821428571,125.99346495833333,48.26376936734694,366.52520899999996,99.7517133023256,49.03984424137931,124.18334023076922,322.03094763636363,331.9099418461538,95.730864375,78.34138800000001,106.35624908108107,303.8684328125,50.739746,111.38939144736842,225.19225899999998,195.5993344,91.40993239999999,81.75218452083332,109.1359027368421,314.7751885714286,240.16244866666668,49.87598488888889,92.3780558367347,39.50907514,60.82625246808511,76.47392926666667,83.86524056666667,32.788235029411766,91.7460696875,40.17114951162791,66.01712146428572,107.4699853076923,56.22274697619047,94.19333164583333,102.8306757027027,131.5671439375,61.212026941176475,106.49445135555555,58.36747165217391,104.87293664864865,77.74503650000001,168.02744225,104.51214883333334,115.60037416129032,75.98167538461539,119.1923278,38.117038944444445,117.899100125,125.5716207,60.13038164864865,110.87407803333333,111.27084442307692,94.65720378787879,142.21132899999998,99.593543675,165.94037064285712,254.09465126666666,138.9110472,133.707647,40.07090645945946,110.646073375,44.79451409090909,174.63643677777776,89.97240973333334,133.8922592307692,39.692309787234045,65.26209664444444,86.62977786666667,158.27187393548388,182.2674985882353,59.22207813888888,43.8157635,48.012711135135135,146.91789646153845,61.34879196428572,22.012363937499998,108.15656403448276,65.53891584375,306.07373275,69.85730145652174,90.2302279047619,65.43991182608696,235.4655152105263,74.08786945,187.1199558333333,206.0160549375,89.924618125,61.37500428888889,52.65014187878788,70.91216876470588,176.45386618518518,63.28079889130435,178.685940875,70.34675051351351,28.807304022222223,71.79148628571429,24.784414224489794,35.484229733333336,295.5780352727273,46.1529593125,184.28416633333333,133.98238627272727,193.2273229047619,126.86187425925927,143.5504592758621,61.37898541935484,96.57156690625,280.205786,131.9468579047619,233.7192980526316,107.82880526086956,63.47202791428572,248.86494885714288,180.97492889473685,79.20714444000001,435.4873455454545,122.07677486666667,42.886064674418606,158.3353282173913,47.88906982352941,47.09039425,33.33998656410256,32.603319032258064,140.1007409,102.28014484848485,74.65645365517241,64.19683126666666,83.2135504347826,79.41562983333334,187.74168706666666,288.4261292307692,247.13916726315787,207.56560535,71.4333067142857,280.36401315384614,315.6449222666667,100.02058755555555,83.63814513157895,97.04159172972973,113.01575075609756,89.7192633125,33.832614394736844,46.21364325,82.60915740740741,173.73177773913042,78.01971897619048,126.73190311764705,46.79420728125,101.47870175675675,223.4667494117647,170.38232010714287,63.8699725106383,72.56538724390244,30.738776930232557,39.98079782758621,227.34288808333335,95.38693054166667,57.184903142857145,28.44390722916667,372.8957237692308,434.38344559999996,143.5128885652174,165.6256934827586,217.31694208695654,204.95146316666668,79.92477323076923,41.46166760714285,134.1691774,169.52960547058825,360.6037958,113.76319882926829,46.647475378378374,159.11040480952383,196.61882655555556,87.2618590882353,31.02203693181818,99.66017604166666,55.553180357142864,81.78964528888888,138.4666368125,165.65818957142855,107.84841988571429,179.40593175,129.21011237837837,386.7512853636363,82.06119066666666,201.378831,75.26895429999999,49.84989445652173,131.91186235135135,56.884787565217394,87.38242882857143,99.04953718,100.85115405555555,113.22765632142857,156.05825194117648,50.009433314285715,222.46522154545454,134.19242053333335,175.08174845000002,82.44820702040816,46.51879366666667,96.87510775757576,314.0460695333333,74.39092918918918,237.06250725,59.42817332,132.2320881891892,73.09546102127659,55.919709971428574,37.98866639534884,213.55706853333334,91.68587531428571,47.33920017241379,160.2912438064516,193.82164641666668,91.79972829032258,73.4932298,309.1837639285714,71.2738575952381,77.32826608,178.5581211764706,48.69068806976745,103.30704242857142,223.6808422727273,61.71636325,100.158134625,133.38652910526315,187.498904,189.560222875,237.75289584210526,171.38875915384614,95.68134595454545,198.09641561904763,55.411868625000004,249.3154513157895,216.4964787857143,203.91418538095235,42.627118659999994,53.51764387804878,85.8397664102564,108.60020289130435,62.94811461702128,41.95741247368421,68.57222415217392,47.60991534,65.46264628571429,105.79067506666667,56.42756934,76.23698003333334,92.34786815789474,99.73667657894737,234.79932628571427,48.356244600000004,107.95204999999999,23.49178392,137.20071055172414,141.51524162962963,90.3326725531915,195.71653923076923,114.2111036875,101.9759573095238,351.66232535714283,102.80395165517241,29.43790884615385,79.18854213157894,280.06014308333334,344.5231733076923,136.2654998787879,98.61517282142857,221.70031049999997,188.51415319999998,79.38316959183673,54.9982183125,86.16965014285714,47.57190808823529,73.79390779487179,103.76201110638297,52.316554133333334,314.2348661666667,94.71964763157895,95.80567758695652,200.42569754545454,147.91229123333332,52.500783125,56.6661154,92.25880240476191,212.5056440526316,345.34862076923076,30.09464207894737,79.6051868125,113.69819570967742,312.2477596666667,118.80246885714286,189.86026033333331,227.99049066666666,55.75090024,93.02608723684212,118.166235,64.52823737209302,87.81406165116279,94.1570662857143,59.198193749999994,126.80526851515151,65.86276072727273,89.26301282142857,46.53762302941177,86.79625758333333,105.28104025806451,86.87662283333333,129.22573815384615,26.31746806,144.62446435483872,248.4886767142857,63.33287635483871,290.707254,34.94379735555555,83.6646956764706,71.9967627857143,77.7425705,21.616452624999997,222.02801621052632,148.54315141935484,247.36290286666664,34.72132953191489,145.6273228421053,74.4457030625,115.5271317586207,101.59299454285714,149.84643077777775,41.67485204166667,292.0810467333333,61.960965379310345,56.41717768888889,86.25977188235295,62.86525187096774,182.64948716666666,76.72669118604652,331.384545,58.9438652972973,116.94709376190477,110.08846254545455,190.7201382727273,98.90048690909092,129.07579210344826,189.46073166666667,52.0076957826087,110.50406361290322,72.85144258536586,209.84641654545456,89.36569191666666,233.08002655555558,180.4347364736842,172.09170164285715,126.65969685714286,217.7227908125,88.35851985714287,88.26621606818182,84.575027,362.779039,113.32233596774194,94.15540440816326,199.186802,46.57774033333333,81.2733165,174.64711689473683,196.4719536,64.78730966666667,44.4988123877551,199.496173,44.80421794736842,127.38659925,87.71197322222223,148.05934318181818,124.9363798,122.47231310526317,88.20184648979593,72.42429778571429,113.12524342105263,121.97463829166666,96.04440852272728,159.44949612,81.20210396551724,36.51697075,220.52605322727274,47.36448666666667,105.78262691304347,116.85690494736843,99.91966276923077,175.70603467857146,143.20820555882352,100.43691847619047,57.281399953488375,115.63132983333334,52.783731,143.01314695454545,58.732168979166666,205.0729737222222,141.8985841923077,256.78772053846154,107.241730125,144.27780506060608,31.852986866666665,120.9554755625,25.583688348837207,266.87878711764705,115.91534032142856,310.73490899999996,94.27344000000001,46.40252462962963,113.03740542105264,110.41787033333334,116.25056305263158,71.16711954054054,103.94053666666667,199.37692216666667,58.3541667631579,92.828077375,126.25163581818182,126.3621453888889,118.66586115384615,80.41642937142858,87.66535416666667,120.38062078787878,191.35585372000003,78.72079452941176,264.6050706,49.03307909090909,110.81408791666667,126.91695809090908,98.57960503333334,164.5289714375,155.0350355483871,59.519218263157896,137.89554638888887,231.12769533333335,171.50788139285714,110.545019325],\"type\":\"bar\"}],                        {\"template\":{\"data\":{\"histogram2dcontour\":[{\"type\":\"histogram2dcontour\",\"colorbar\":{\"outlinewidth\":0,\"ticks\":\"\"},\"colorscale\":[[0.0,\"#0d0887\"],[0.1111111111111111,\"#46039f\"],[0.2222222222222222,\"#7201a8\"],[0.3333333333333333,\"#9c179e\"],[0.4444444444444444,\"#bd3786\"],[0.5555555555555556,\"#d8576b\"],[0.6666666666666666,\"#ed7953\"],[0.7777777777777778,\"#fb9f3a\"],[0.8888888888888888,\"#fdca26\"],[1.0,\"#f0f921\"]]}],\"choropleth\":[{\"type\":\"choropleth\",\"colorbar\":{\"outlinewidth\":0,\"ticks\":\"\"}}],\"histogram2d\":[{\"type\":\"histogram2d\",\"colorbar\":{\"outlinewidth\":0,\"ticks\":\"\"},\"colorscale\":[[0.0,\"#0d0887\"],[0.1111111111111111,\"#46039f\"],[0.2222222222222222,\"#7201a8\"],[0.3333333333333333,\"#9c179e\"],[0.4444444444444444,\"#bd3786\"],[0.5555555555555556,\"#d8576b\"],[0.6666666666666666,\"#ed7953\"],[0.7777777777777778,\"#fb9f3a\"],[0.8888888888888888,\"#fdca26\"],[1.0,\"#f0f921\"]]}],\"heatmap\":[{\"type\":\"heatmap\",\"colorbar\":{\"outlinewidth\":0,\"ticks\":\"\"},\"colorscale\":[[0.0,\"#0d0887\"],[0.1111111111111111,\"#46039f\"],[0.2222222222222222,\"#7201a8\"],[0.3333333333333333,\"#9c179e\"],[0.4444444444444444,\"#bd3786\"],[0.5555555555555556,\"#d8576b\"],[0.6666666666666666,\"#ed7953\"],[0.7777777777777778,\"#fb9f3a\"],[0.8888888888888888,\"#fdca26\"],[1.0,\"#f0f921\"]]}],\"heatmapgl\":[{\"type\":\"heatmapgl\",\"colorbar\":{\"outlinewidth\":0,\"ticks\":\"\"},\"colorscale\":[[0.0,\"#0d0887\"],[0.1111111111111111,\"#46039f\"],[0.2222222222222222,\"#7201a8\"],[0.3333333333333333,\"#9c179e\"],[0.4444444444444444,\"#bd3786\"],[0.5555555555555556,\"#d8576b\"],[0.6666666666666666,\"#ed7953\"],[0.7777777777777778,\"#fb9f3a\"],[0.8888888888888888,\"#fdca26\"],[1.0,\"#f0f921\"]]}],\"contourcarpet\":[{\"type\":\"contourcarpet\",\"colorbar\":{\"outlinewidth\":0,\"ticks\":\"\"}}],\"contour\":[{\"type\":\"contour\",\"colorbar\":{\"outlinewidth\":0,\"ticks\":\"\"},\"colorscale\":[[0.0,\"#0d0887\"],[0.1111111111111111,\"#46039f\"],[0.2222222222222222,\"#7201a8\"],[0.3333333333333333,\"#9c179e\"],[0.4444444444444444,\"#bd3786\"],[0.5555555555555556,\"#d8576b\"],[0.6666666666666666,\"#ed7953\"],[0.7777777777777778,\"#fb9f3a\"],[0.8888888888888888,\"#fdca26\"],[1.0,\"#f0f921\"]]}],\"surface\":[{\"type\":\"surface\",\"colorbar\":{\"outlinewidth\":0,\"ticks\":\"\"},\"colorscale\":[[0.0,\"#0d0887\"],[0.1111111111111111,\"#46039f\"],[0.2222222222222222,\"#7201a8\"],[0.3333333333333333,\"#9c179e\"],[0.4444444444444444,\"#bd3786\"],[0.5555555555555556,\"#d8576b\"],[0.6666666666666666,\"#ed7953\"],[0.7777777777777778,\"#fb9f3a\"],[0.8888888888888888,\"#fdca26\"],[1.0,\"#f0f921\"]]}],\"mesh3d\":[{\"type\":\"mesh3d\",\"colorbar\":{\"outlinewidth\":0,\"ticks\":\"\"}}],\"scatter\":[{\"fillpattern\":{\"fillmode\":\"overlay\",\"size\":10,\"solidity\":0.2},\"type\":\"scatter\"}],\"parcoords\":[{\"type\":\"parcoords\",\"line\":{\"colorbar\":{\"outlinewidth\":0,\"ticks\":\"\"}}}],\"scatterpolargl\":[{\"type\":\"scatterpolargl\",\"marker\":{\"colorbar\":{\"outlinewidth\":0,\"ticks\":\"\"}}}],\"bar\":[{\"error_x\":{\"color\":\"#2a3f5f\"},\"error_y\":{\"color\":\"#2a3f5f\"},\"marker\":{\"line\":{\"color\":\"#E5ECF6\",\"width\":0.5},\"pattern\":{\"fillmode\":\"overlay\",\"size\":10,\"solidity\":0.2}},\"type\":\"bar\"}],\"scattergeo\":[{\"type\":\"scattergeo\",\"marker\":{\"colorbar\":{\"outlinewidth\":0,\"ticks\":\"\"}}}],\"scatterpolar\":[{\"type\":\"scatterpolar\",\"marker\":{\"colorbar\":{\"outlinewidth\":0,\"ticks\":\"\"}}}],\"histogram\":[{\"marker\":{\"pattern\":{\"fillmode\":\"overlay\",\"size\":10,\"solidity\":0.2}},\"type\":\"histogram\"}],\"scattergl\":[{\"type\":\"scattergl\",\"marker\":{\"colorbar\":{\"outlinewidth\":0,\"ticks\":\"\"}}}],\"scatter3d\":[{\"type\":\"scatter3d\",\"line\":{\"colorbar\":{\"outlinewidth\":0,\"ticks\":\"\"}},\"marker\":{\"colorbar\":{\"outlinewidth\":0,\"ticks\":\"\"}}}],\"scattermapbox\":[{\"type\":\"scattermapbox\",\"marker\":{\"colorbar\":{\"outlinewidth\":0,\"ticks\":\"\"}}}],\"scatterternary\":[{\"type\":\"scatterternary\",\"marker\":{\"colorbar\":{\"outlinewidth\":0,\"ticks\":\"\"}}}],\"scattercarpet\":[{\"type\":\"scattercarpet\",\"marker\":{\"colorbar\":{\"outlinewidth\":0,\"ticks\":\"\"}}}],\"carpet\":[{\"aaxis\":{\"endlinecolor\":\"#2a3f5f\",\"gridcolor\":\"white\",\"linecolor\":\"white\",\"minorgridcolor\":\"white\",\"startlinecolor\":\"#2a3f5f\"},\"baxis\":{\"endlinecolor\":\"#2a3f5f\",\"gridcolor\":\"white\",\"linecolor\":\"white\",\"minorgridcolor\":\"white\",\"startlinecolor\":\"#2a3f5f\"},\"type\":\"carpet\"}],\"table\":[{\"cells\":{\"fill\":{\"color\":\"#EBF0F8\"},\"line\":{\"color\":\"white\"}},\"header\":{\"fill\":{\"color\":\"#C8D4E3\"},\"line\":{\"color\":\"white\"}},\"type\":\"table\"}],\"barpolar\":[{\"marker\":{\"line\":{\"color\":\"#E5ECF6\",\"width\":0.5},\"pattern\":{\"fillmode\":\"overlay\",\"size\":10,\"solidity\":0.2}},\"type\":\"barpolar\"}],\"pie\":[{\"automargin\":true,\"type\":\"pie\"}]},\"layout\":{\"autotypenumbers\":\"strict\",\"colorway\":[\"#636efa\",\"#EF553B\",\"#00cc96\",\"#ab63fa\",\"#FFA15A\",\"#19d3f3\",\"#FF6692\",\"#B6E880\",\"#FF97FF\",\"#FECB52\"],\"font\":{\"color\":\"#2a3f5f\"},\"hovermode\":\"closest\",\"hoverlabel\":{\"align\":\"left\"},\"paper_bgcolor\":\"white\",\"plot_bgcolor\":\"#E5ECF6\",\"polar\":{\"bgcolor\":\"#E5ECF6\",\"angularaxis\":{\"gridcolor\":\"white\",\"linecolor\":\"white\",\"ticks\":\"\"},\"radialaxis\":{\"gridcolor\":\"white\",\"linecolor\":\"white\",\"ticks\":\"\"}},\"ternary\":{\"bgcolor\":\"#E5ECF6\",\"aaxis\":{\"gridcolor\":\"white\",\"linecolor\":\"white\",\"ticks\":\"\"},\"baxis\":{\"gridcolor\":\"white\",\"linecolor\":\"white\",\"ticks\":\"\"},\"caxis\":{\"gridcolor\":\"white\",\"linecolor\":\"white\",\"ticks\":\"\"}},\"coloraxis\":{\"colorbar\":{\"outlinewidth\":0,\"ticks\":\"\"}},\"colorscale\":{\"sequential\":[[0.0,\"#0d0887\"],[0.1111111111111111,\"#46039f\"],[0.2222222222222222,\"#7201a8\"],[0.3333333333333333,\"#9c179e\"],[0.4444444444444444,\"#bd3786\"],[0.5555555555555556,\"#d8576b\"],[0.6666666666666666,\"#ed7953\"],[0.7777777777777778,\"#fb9f3a\"],[0.8888888888888888,\"#fdca26\"],[1.0,\"#f0f921\"]],\"sequentialminus\":[[0.0,\"#0d0887\"],[0.1111111111111111,\"#46039f\"],[0.2222222222222222,\"#7201a8\"],[0.3333333333333333,\"#9c179e\"],[0.4444444444444444,\"#bd3786\"],[0.5555555555555556,\"#d8576b\"],[0.6666666666666666,\"#ed7953\"],[0.7777777777777778,\"#fb9f3a\"],[0.8888888888888888,\"#fdca26\"],[1.0,\"#f0f921\"]],\"diverging\":[[0,\"#8e0152\"],[0.1,\"#c51b7d\"],[0.2,\"#de77ae\"],[0.3,\"#f1b6da\"],[0.4,\"#fde0ef\"],[0.5,\"#f7f7f7\"],[0.6,\"#e6f5d0\"],[0.7,\"#b8e186\"],[0.8,\"#7fbc41\"],[0.9,\"#4d9221\"],[1,\"#276419\"]]},\"xaxis\":{\"gridcolor\":\"white\",\"linecolor\":\"white\",\"ticks\":\"\",\"title\":{\"standoff\":15},\"zerolinecolor\":\"white\",\"automargin\":true,\"zerolinewidth\":2},\"yaxis\":{\"gridcolor\":\"white\",\"linecolor\":\"white\",\"ticks\":\"\",\"title\":{\"standoff\":15},\"zerolinecolor\":\"white\",\"automargin\":true,\"zerolinewidth\":2},\"scene\":{\"xaxis\":{\"backgroundcolor\":\"#E5ECF6\",\"gridcolor\":\"white\",\"linecolor\":\"white\",\"showbackground\":true,\"ticks\":\"\",\"zerolinecolor\":\"white\",\"gridwidth\":2},\"yaxis\":{\"backgroundcolor\":\"#E5ECF6\",\"gridcolor\":\"white\",\"linecolor\":\"white\",\"showbackground\":true,\"ticks\":\"\",\"zerolinecolor\":\"white\",\"gridwidth\":2},\"zaxis\":{\"backgroundcolor\":\"#E5ECF6\",\"gridcolor\":\"white\",\"linecolor\":\"white\",\"showbackground\":true,\"ticks\":\"\",\"zerolinecolor\":\"white\",\"gridwidth\":2}},\"shapedefaults\":{\"line\":{\"color\":\"#2a3f5f\"}},\"annotationdefaults\":{\"arrowcolor\":\"#2a3f5f\",\"arrowhead\":0,\"arrowwidth\":1},\"geo\":{\"bgcolor\":\"white\",\"landcolor\":\"#E5ECF6\",\"subunitcolor\":\"white\",\"showland\":true,\"showlakes\":true,\"lakecolor\":\"white\"},\"title\":{\"x\":0.05},\"mapbox\":{\"style\":\"light\"}}},\"title\":{\"text\":\"CAC by Marketing Channel\"},\"xaxis\":{\"title\":{\"text\":\"Marketing Channels\"}},\"yaxis\":{\"title\":{\"text\":\"Customer Acquisition Cost\"}}},                        {\"responsive\": true}                    ).then(function(){\n",
       "                            \n",
       "var gd = document.getElementById('8bf013a7-72a5-43e0-809f-bb1afb5f7329');\n",
       "var x = new MutationObserver(function (mutations, observer) {{\n",
       "        var display = window.getComputedStyle(gd).display;\n",
       "        if (!display || display === 'none') {{\n",
       "            console.log([gd, 'removed!']);\n",
       "            Plotly.purge(gd);\n",
       "            observer.disconnect();\n",
       "        }}\n",
       "}});\n",
       "\n",
       "// Listen for the removal of the full notebook cells\n",
       "var notebookContainer = gd.closest('#notebook-container');\n",
       "if (notebookContainer) {{\n",
       "    x.observe(notebookContainer, {childList: true});\n",
       "}}\n",
       "\n",
       "// Listen for the clearing of the current output cell\n",
       "var outputEl = gd.closest('.output');\n",
       "if (outputEl) {{\n",
       "    x.observe(outputEl, {childList: true});\n",
       "}}\n",
       "\n",
       "                        })                };                });            </script>        </div>"
      ]
     },
     "metadata": {},
     "output_type": "display_data"
    }
   ],
   "source": [
    "fig1 = go.Figure(go.Bar(x=data['Marketing_Channel'], y=data['CAC']))\n",
    "fig1.update_layout(title=\"CAC by Marketing Channel\", xaxis_title='Marketing Channels', yaxis_title='Customer Acquisition Cost')\n",
    "fig1.show()"
   ]
  },
  {
   "cell_type": "code",
   "execution_count": 59,
   "id": "c6400229",
   "metadata": {},
   "outputs": [
    {
     "data": {
      "application/vnd.plotly.v1+json": {
       "config": {
        "plotlyServerURL": "https://plot.ly"
       },
       "data": [
        {
         "hovertemplate": "Marketing_Channel=Email Marketing<br>New_Customers=%{x}<br>CAC=%{y}<extra></extra>",
         "legendgroup": "Email Marketing",
         "marker": {
          "color": "#636efa",
          "symbol": "circle"
         },
         "mode": "markers",
         "name": "Email Marketing",
         "orientation": "v",
         "showlegend": true,
         "type": "scatter",
         "x": [
          16,
          13,
          35,
          23,
          11,
          13,
          25,
          14,
          48,
          27,
          19,
          26,
          17,
          18,
          10,
          13,
          40,
          38,
          42,
          42,
          24,
          49,
          41,
          19,
          18,
          45,
          43,
          16,
          37,
          38,
          24,
          31,
          30,
          14,
          15,
          37,
          33,
          46,
          24,
          16,
          17,
          46,
          49,
          48,
          31,
          19,
          23,
          34,
          13,
          29,
          12,
          13,
          10,
          23,
          23,
          18,
          41,
          37,
          24,
          42,
          32,
          14,
          37,
          14,
          15,
          37,
          25,
          43,
          24,
          20,
          14,
          50,
          19,
          22,
          21,
          41,
          46,
          50,
          29,
          42,
          38,
          38,
          43,
          49,
          33,
          28,
          31,
          48,
          13,
          50,
          31,
          28,
          29,
          18,
          15,
          31,
          18,
          21,
          23,
          24,
          12,
          49,
          34,
          36,
          38,
          44,
          40,
          22,
          33,
          38,
          28,
          36,
          22,
          48,
          45,
          17,
          28,
          27,
          15,
          24,
          34,
          15,
          33,
          19
         ],
         "xaxis": "x",
         "y": [
          218.06424025,
          85.26216807692307,
          102.0285312,
          100.3210095652174,
          364.36720854545456,
          332.89978007692304,
          53.10499724,
          171.41724107142858,
          33.53186214583334,
          136.21612511111113,
          171.3620172631579,
          156.44586126923076,
          201.70529270588236,
          81.00730477777778,
          427.7204697,
          296.92760153846154,
          110.02932390000001,
          89.51701207894737,
          117.50898585714285,
          59.10198821428571,
          125.99346495833333,
          48.26376936734694,
          50.739746,
          109.1359027368421,
          240.16244866666668,
          76.47392926666667,
          40.17114951162791,
          131.5671439375,
          104.87293664864865,
          77.74503650000001,
          168.02744225,
          115.60037416129032,
          110.87407803333333,
          165.94037064285712,
          254.09465126666666,
          40.07090645945946,
          44.79451409090909,
          69.85730145652174,
          187.1199558333333,
          206.0160549375,
          70.91216876470588,
          63.28079889130435,
          71.79148628571429,
          46.1529593125,
          61.37898541935484,
          233.7192980526316,
          158.3353282173913,
          47.88906982352941,
          280.36401315384614,
          39.98079782758621,
          227.34288808333335,
          372.8957237692308,
          434.38344559999996,
          143.5128885652174,
          217.31694208695654,
          204.95146316666668,
          113.76319882926829,
          46.647475378378374,
          99.66017604166666,
          55.553180357142864,
          138.4666368125,
          165.65818957142855,
          129.21011237837837,
          201.378831,
          314.0460695333333,
          74.39092918918918,
          59.42817332,
          37.98866639534884,
          193.82164641666668,
          73.4932298,
          309.1837639285714,
          77.32826608,
          237.75289584210526,
          95.68134595454545,
          198.09641561904763,
          53.51764387804878,
          108.60020289130435,
          23.49178392,
          102.80395165517241,
          92.25880240476191,
          30.09464207894737,
          118.166235,
          87.81406165116279,
          94.1570662857143,
          126.80526851515151,
          89.26301282142857,
          105.28104025806451,
          86.87662283333333,
          129.22573815384615,
          26.31746806,
          63.33287635483871,
          71.9967627857143,
          115.5271317586207,
          149.84643077777775,
          292.0810467333333,
          62.86525187096774,
          182.64948716666666,
          189.46073166666667,
          52.0076957826087,
          89.36569191666666,
          362.779039,
          94.15540440816326,
          81.2733165,
          87.71197322222223,
          113.12524342105263,
          96.04440852272728,
          36.51697075,
          220.52605322727274,
          47.36448666666667,
          116.85690494736843,
          175.70603467857146,
          115.63132983333334,
          143.01314695454545,
          58.732168979166666,
          31.852986866666665,
          266.87878711764705,
          115.91534032142856,
          46.40252462962963,
          103.94053666666667,
          199.37692216666667,
          78.72079452941176,
          264.6050706,
          49.03307909090909,
          59.519218263157896
         ],
         "yaxis": "y"
        },
        {
         "hovertemplate": "<b>OLS trendline</b><br>CAC = -5.39481 * New_Customers + 288.798<br>R<sup>2</sup>=0.503723<br><br>Marketing_Channel=Email Marketing<br>New_Customers=%{x}<br>CAC=%{y} <b>(trend)</b><extra></extra>",
         "legendgroup": "Email Marketing",
         "marker": {
          "color": "#636efa",
          "symbol": "circle"
         },
         "mode": "lines",
         "name": "Email Marketing",
         "showlegend": false,
         "type": "scatter",
         "x": [
          10,
          10,
          11,
          12,
          12,
          13,
          13,
          13,
          13,
          13,
          13,
          14,
          14,
          14,
          14,
          14,
          15,
          15,
          15,
          15,
          15,
          16,
          16,
          16,
          17,
          17,
          17,
          18,
          18,
          18,
          18,
          18,
          19,
          19,
          19,
          19,
          19,
          20,
          21,
          21,
          22,
          22,
          22,
          23,
          23,
          23,
          23,
          23,
          24,
          24,
          24,
          24,
          24,
          24,
          24,
          25,
          25,
          26,
          27,
          27,
          28,
          28,
          28,
          28,
          29,
          29,
          29,
          30,
          31,
          31,
          31,
          31,
          31,
          32,
          33,
          33,
          33,
          33,
          34,
          34,
          34,
          35,
          36,
          36,
          37,
          37,
          37,
          37,
          37,
          38,
          38,
          38,
          38,
          38,
          38,
          40,
          40,
          41,
          41,
          41,
          42,
          42,
          42,
          42,
          43,
          43,
          43,
          44,
          45,
          45,
          46,
          46,
          46,
          48,
          48,
          48,
          48,
          49,
          49,
          49,
          49,
          50,
          50,
          50
         ],
         "xaxis": "x",
         "y": [
          234.8495759616668,
          234.8495759616668,
          229.45476530273305,
          224.0599546437993,
          224.0599546437993,
          218.66514398486552,
          218.66514398486552,
          218.66514398486552,
          218.66514398486552,
          218.66514398486552,
          218.66514398486552,
          213.27033332593177,
          213.27033332593177,
          213.27033332593177,
          213.27033332593177,
          213.27033332593177,
          207.875522666998,
          207.875522666998,
          207.875522666998,
          207.875522666998,
          207.875522666998,
          202.48071200806424,
          202.48071200806424,
          202.48071200806424,
          197.0859013491305,
          197.0859013491305,
          197.0859013491305,
          191.69109069019675,
          191.69109069019675,
          191.69109069019675,
          191.69109069019675,
          191.69109069019675,
          186.296280031263,
          186.296280031263,
          186.296280031263,
          186.296280031263,
          186.296280031263,
          180.90146937232925,
          175.5066587133955,
          175.5066587133955,
          170.11184805446172,
          170.11184805446172,
          170.11184805446172,
          164.71703739552797,
          164.71703739552797,
          164.71703739552797,
          164.71703739552797,
          164.71703739552797,
          159.32222673659422,
          159.32222673659422,
          159.32222673659422,
          159.32222673659422,
          159.32222673659422,
          159.32222673659422,
          159.32222673659422,
          153.92741607766047,
          153.92741607766047,
          148.5326054187267,
          143.13779475979294,
          143.13779475979294,
          137.7429841008592,
          137.7429841008592,
          137.7429841008592,
          137.7429841008592,
          132.34817344192544,
          132.34817344192544,
          132.34817344192544,
          126.95336278299166,
          121.55855212405791,
          121.55855212405791,
          121.55855212405791,
          121.55855212405791,
          121.55855212405791,
          116.16374146512416,
          110.76893080619041,
          110.76893080619041,
          110.76893080619041,
          110.76893080619041,
          105.37412014725666,
          105.37412014725666,
          105.37412014725666,
          99.97930948832288,
          94.58449882938913,
          94.58449882938913,
          89.18968817045538,
          89.18968817045538,
          89.18968817045538,
          89.18968817045538,
          89.18968817045538,
          83.79487751152163,
          83.79487751152163,
          83.79487751152163,
          83.79487751152163,
          83.79487751152163,
          83.79487751152163,
          73.0052561936541,
          73.0052561936541,
          67.61044553472036,
          67.61044553472036,
          67.61044553472036,
          62.215634875786606,
          62.215634875786606,
          62.215634875786606,
          62.215634875786606,
          56.820824216852856,
          56.820824216852856,
          56.820824216852856,
          51.42601355791908,
          46.03120289898533,
          46.03120289898533,
          40.63639224005158,
          40.63639224005158,
          40.63639224005158,
          29.846770922184078,
          29.846770922184078,
          29.846770922184078,
          29.846770922184078,
          24.451960263250328,
          24.451960263250328,
          24.451960263250328,
          24.451960263250328,
          19.057149604316578,
          19.057149604316578,
          19.057149604316578
         ],
         "yaxis": "y"
        },
        {
         "hovertemplate": "Marketing_Channel=Online Ads<br>New_Customers=%{x}<br>CAC=%{y}<extra></extra>",
         "legendgroup": "Online Ads",
         "marker": {
          "color": "#EF553B",
          "symbol": "circle"
         },
         "mode": "markers",
         "name": "Online Ads",
         "orientation": "v",
         "showlegend": true,
         "type": "scatter",
         "x": [
          33,
          32,
          22,
          39,
          15,
          50,
          48,
          31,
          46,
          23,
          24,
          31,
          32,
          25,
          30,
          11,
          21,
          43,
          33,
          47,
          29,
          39,
          40,
          48,
          50,
          30,
          34,
          48,
          42,
          23,
          39,
          26,
          15,
          18,
          13,
          17,
          37,
          28,
          32,
          40,
          32,
          24,
          37,
          49,
          45,
          11,
          27,
          27,
          29,
          32,
          10,
          19,
          50,
          39,
          29,
          30,
          13,
          15,
          38,
          27,
          42,
          24,
          29,
          28,
          17,
          10,
          21,
          18,
          44,
          12,
          11,
          46,
          28,
          17,
          39,
          37,
          35,
          29,
          31,
          42,
          32,
          25,
          19,
          14,
          47,
          38,
          30,
          19,
          38,
          29,
          14,
          15,
          42,
          12,
          38,
          46,
          31,
          42,
          25,
          34,
          14,
          47,
          29,
          37,
          33,
          29,
          18,
          19,
          14,
          28,
          44,
          31,
          48,
          19,
          49,
          38,
          33,
          25,
          43,
          26,
          16,
          43,
          15,
          42,
          36,
          24,
          11,
          16,
          12,
          40
         ],
         "xaxis": "x",
         "y": [
          33.571691151515154,
          101.798997875,
          129.3997170909091,
          64.52347325641026,
          123.10940913333334,
          80.89837664,
          52.427184624999995,
          64.80922990322581,
          68.64513460869566,
          179.34487817391306,
          199.9352887916667,
          57.98202351612903,
          151.840096625,
          57.295799960000004,
          74.9276326,
          337.21719518181817,
          230.12815966666668,
          81.60394376744186,
          44.97637151515152,
          87.88385925531915,
          49.03984424137931,
          124.18334023076922,
          95.730864375,
          81.75218452083332,
          39.50907514,
          83.86524056666667,
          32.788235029411766,
          91.7460696875,
          56.22274697619047,
          58.36747165217391,
          75.98167538461539,
          111.27084442307692,
          138.9110472,
          174.63643677777776,
          133.8922592307692,
          182.2674985882353,
          48.012711135135135,
          61.34879196428572,
          65.53891584375,
          74.08786945,
          89.924618125,
          178.685940875,
          70.34675051351351,
          24.784414224489794,
          35.484229733333336,
          295.5780352727273,
          184.28416633333333,
          126.86187425925927,
          143.5504592758621,
          96.57156690625,
          280.205786,
          180.97492889473685,
          79.20714444000001,
          33.33998656410256,
          74.65645365517241,
          64.19683126666666,
          288.4261292307692,
          315.6449222666667,
          33.832614394736844,
          82.60915740740741,
          78.01971897619048,
          95.38693054166667,
          165.6256934827586,
          41.46166760714285,
          169.52960547058825,
          360.6037958,
          159.11040480952383,
          196.61882655555556,
          31.02203693181818,
          179.40593175,
          386.7512853636363,
          56.884787565217394,
          113.22765632142857,
          156.05825194117648,
          46.51879366666667,
          132.2320881891892,
          91.68587531428571,
          47.33920017241379,
          160.2912438064516,
          71.2738575952381,
          61.71636325,
          187.498904,
          249.3154513157895,
          216.4964787857143,
          62.94811461702128,
          41.95741247368421,
          76.23698003333334,
          92.34786815789474,
          99.73667657894737,
          137.20071055172414,
          351.66232535714283,
          188.51415319999998,
          86.16965014285714,
          314.2348661666667,
          94.71964763157895,
          95.80567758695652,
          113.69819570967742,
          118.80246885714286,
          55.75090024,
          46.53762302941177,
          248.4886767142857,
          34.72132953191489,
          61.960965379310345,
          58.9438652972973,
          98.90048690909092,
          129.07579210344826,
          233.08002655555558,
          180.4347364736842,
          172.09170164285715,
          126.65969685714286,
          88.26621606818182,
          113.32233596774194,
          46.57774033333333,
          174.64711689473683,
          44.4988123877551,
          44.80421794736842,
          148.05934318181818,
          124.9363798,
          57.281399953488375,
          141.8985841923077,
          120.9554755625,
          25.583688348837207,
          310.73490899999996,
          110.41787033333334,
          126.3621453888889,
          110.81408791666667,
          126.91695809090908,
          164.5289714375,
          231.12769533333335,
          110.545019325
         ],
         "yaxis": "y"
        },
        {
         "hovertemplate": "<b>OLS trendline</b><br>CAC = -5.19966 * New_Customers + 277.966<br>R<sup>2</sup>=0.554830<br><br>Marketing_Channel=Online Ads<br>New_Customers=%{x}<br>CAC=%{y} <b>(trend)</b><extra></extra>",
         "legendgroup": "Online Ads",
         "marker": {
          "color": "#EF553B",
          "symbol": "circle"
         },
         "mode": "lines",
         "name": "Online Ads",
         "showlegend": false,
         "type": "scatter",
         "x": [
          10,
          10,
          11,
          11,
          11,
          11,
          12,
          12,
          12,
          13,
          13,
          14,
          14,
          14,
          14,
          15,
          15,
          15,
          15,
          15,
          16,
          16,
          17,
          17,
          17,
          18,
          18,
          18,
          19,
          19,
          19,
          19,
          19,
          21,
          21,
          22,
          23,
          23,
          24,
          24,
          24,
          24,
          25,
          25,
          25,
          25,
          26,
          26,
          27,
          27,
          27,
          28,
          28,
          28,
          28,
          29,
          29,
          29,
          29,
          29,
          29,
          29,
          29,
          30,
          30,
          30,
          30,
          31,
          31,
          31,
          31,
          31,
          32,
          32,
          32,
          32,
          32,
          32,
          33,
          33,
          33,
          33,
          34,
          34,
          35,
          36,
          37,
          37,
          37,
          37,
          38,
          38,
          38,
          38,
          38,
          39,
          39,
          39,
          39,
          39,
          40,
          40,
          40,
          42,
          42,
          42,
          42,
          42,
          42,
          43,
          43,
          43,
          44,
          44,
          45,
          46,
          46,
          46,
          47,
          47,
          47,
          48,
          48,
          48,
          48,
          49,
          49,
          50,
          50,
          50
         ],
         "xaxis": "x",
         "y": [
          225.9692437348964,
          225.9692437348964,
          220.76957897154202,
          220.76957897154202,
          220.76957897154202,
          220.76957897154202,
          215.56991420818764,
          215.56991420818764,
          215.56991420818764,
          210.37024944483323,
          210.37024944483323,
          205.17058468147889,
          205.17058468147889,
          205.17058468147889,
          205.17058468147889,
          199.97091991812448,
          199.97091991812448,
          199.97091991812448,
          199.97091991812448,
          199.97091991812448,
          194.77125515477013,
          194.77125515477013,
          189.57159039141573,
          189.57159039141573,
          189.57159039141573,
          184.37192562806138,
          184.37192562806138,
          184.37192562806138,
          179.17226086470697,
          179.17226086470697,
          179.17226086470697,
          179.17226086470697,
          179.17226086470697,
          168.77293133799822,
          168.77293133799822,
          163.57326657464387,
          158.37360181128946,
          158.37360181128946,
          153.17393704793508,
          153.17393704793508,
          153.17393704793508,
          153.17393704793508,
          147.9742722845807,
          147.9742722845807,
          147.9742722845807,
          147.9742722845807,
          142.77460752122633,
          142.77460752122633,
          137.57494275787195,
          137.57494275787195,
          137.57494275787195,
          132.37527799451757,
          132.37527799451757,
          132.37527799451757,
          132.37527799451757,
          127.1756132311632,
          127.1756132311632,
          127.1756132311632,
          127.1756132311632,
          127.1756132311632,
          127.1756132311632,
          127.1756132311632,
          127.1756132311632,
          121.97594846780882,
          121.97594846780882,
          121.97594846780882,
          121.97594846780882,
          116.77628370445444,
          116.77628370445444,
          116.77628370445444,
          116.77628370445444,
          116.77628370445444,
          111.57661894110007,
          111.57661894110007,
          111.57661894110007,
          111.57661894110007,
          111.57661894110007,
          111.57661894110007,
          106.37695417774569,
          106.37695417774569,
          106.37695417774569,
          106.37695417774569,
          101.17728941439131,
          101.17728941439131,
          95.97762465103693,
          90.77795988768256,
          85.57829512432818,
          85.57829512432818,
          85.57829512432818,
          85.57829512432818,
          80.3786303609738,
          80.3786303609738,
          80.3786303609738,
          80.3786303609738,
          80.3786303609738,
          75.17896559761942,
          75.17896559761942,
          75.17896559761942,
          75.17896559761942,
          75.17896559761942,
          69.97930083426505,
          69.97930083426505,
          69.97930083426505,
          59.57997130755629,
          59.57997130755629,
          59.57997130755629,
          59.57997130755629,
          59.57997130755629,
          59.57997130755629,
          54.380306544201915,
          54.380306544201915,
          54.380306544201915,
          49.18064178084754,
          49.18064178084754,
          43.98097701749316,
          38.78131225413878,
          38.78131225413878,
          38.78131225413878,
          33.581647490784405,
          33.581647490784405,
          33.581647490784405,
          28.38198272743,
          28.38198272743,
          28.38198272743,
          28.38198272743,
          23.182317964075622,
          23.182317964075622,
          17.982653200721245,
          17.982653200721245,
          17.982653200721245
         ],
         "yaxis": "y"
        },
        {
         "hovertemplate": "Marketing_Channel=Social Media<br>New_Customers=%{x}<br>CAC=%{y}<extra></extra>",
         "legendgroup": "Social Media",
         "marker": {
          "color": "#00cc96",
          "symbol": "circle"
         },
         "mode": "markers",
         "name": "Social Media",
         "orientation": "v",
         "showlegend": true,
         "type": "scatter",
         "x": [
          44,
          17,
          45,
          23,
          44,
          47,
          26,
          18,
          36,
          17,
          16,
          11,
          13,
          16,
          38,
          15,
          30,
          14,
          49,
          39,
          48,
          36,
          35,
          36,
          37,
          40,
          45,
          31,
          13,
          16,
          42,
          19,
          45,
          27,
          45,
          46,
          11,
          15,
          43,
          31,
          20,
          46,
          48,
          15,
          20,
          36,
          23,
          17,
          37,
          28,
          47,
          35,
          45,
          39,
          30,
          46,
          35,
          35,
          49,
          35,
          31,
          17,
          43,
          32,
          19,
          26,
          48,
          46,
          38,
          39,
          28,
          39,
          47,
          22,
          40,
          19,
          12,
          38,
          43,
          20,
          33,
          31,
          16,
          45,
          26,
          48,
          19,
          31,
          15,
          19,
          48,
          45,
          34,
          43,
          15,
          42,
          31,
          16,
          43,
          18,
          20,
          49,
          34,
          42,
          18,
          13,
          40,
          33,
          20,
          38,
          19,
          11,
          13,
          25,
          30,
          31,
          18,
          28
         ],
         "xaxis": "x",
         "y": [
          58.547296022727274,
          70.65520788235294,
          80.01280828888889,
          174.64925286956523,
          86.31499738636363,
          23.461993659574468,
          99.48529869230768,
          72.44366172222222,
          104.51271288888888,
          82.80030717647058,
          149.3009413125,
          322.03094763636363,
          331.9099418461538,
          303.8684328125,
          111.38939144736842,
          195.5993344,
          91.40993239999999,
          314.7751885714286,
          92.3780558367347,
          107.4699853076923,
          94.19333164583333,
          104.51214883333334,
          119.1923278,
          38.117038944444445,
          60.13038164864865,
          99.593543675,
          89.97240973333334,
          158.27187393548388,
          146.91789646153845,
          306.07373275,
          90.2302279047619,
          235.4655152105263,
          61.37500428888889,
          176.45386618518518,
          28.807304022222223,
          107.82880526086956,
          435.4873455454545,
          122.07677486666667,
          42.886064674418606,
          32.603319032258064,
          140.1007409,
          83.2135504347826,
          79.41562983333334,
          187.74168706666666,
          207.56560535,
          46.21364325,
          173.73177773913042,
          126.73190311764705,
          101.47870175675675,
          170.38232010714287,
          63.8699725106383,
          57.184903142857145,
          81.78964528888888,
          82.06119066666666,
          75.26895429999999,
          49.84989445652173,
          87.38242882857143,
          50.009433314285715,
          82.44820702040816,
          55.919709971428574,
          91.79972829032258,
          178.5581211764706,
          48.69068806976745,
          100.158134625,
          133.38652910526315,
          171.38875915384614,
          55.411868625000004,
          68.57222415217392,
          107.95204999999999,
          29.43790884615385,
          98.61517282142857,
          73.79390779487179,
          103.76201110638297,
          200.42569754545454,
          56.6661154,
          212.5056440526316,
          227.99049066666666,
          93.02608723684212,
          64.52823737209302,
          59.198193749999994,
          65.86276072727273,
          144.62446435483872,
          290.707254,
          34.94379735555555,
          77.7425705,
          21.616452624999997,
          222.02801621052632,
          148.54315141935484,
          247.36290286666664,
          145.6273228421053,
          41.67485204166667,
          56.41717768888889,
          86.25977188235295,
          76.72669118604652,
          331.384545,
          116.94709376190477,
          110.50406361290322,
          217.7227908125,
          84.575027,
          199.186802,
          199.496173,
          88.20184648979593,
          143.20820555882352,
          100.43691847619047,
          205.0729737222222,
          256.78772053846154,
          107.241730125,
          144.27780506060608,
          94.27344000000001,
          113.03740542105264,
          116.25056305263158,
          126.25163581818182,
          118.66586115384615,
          191.35585372000003,
          98.57960503333334,
          155.0350355483871,
          137.89554638888887,
          171.50788139285714
         ],
         "yaxis": "y"
        },
        {
         "hovertemplate": "<b>OLS trendline</b><br>CAC = -4.65071 * New_Customers + 270.117<br>R<sup>2</sup>=0.513948<br><br>Marketing_Channel=Social Media<br>New_Customers=%{x}<br>CAC=%{y} <b>(trend)</b><extra></extra>",
         "legendgroup": "Social Media",
         "marker": {
          "color": "#00cc96",
          "symbol": "circle"
         },
         "mode": "lines",
         "name": "Social Media",
         "showlegend": false,
         "type": "scatter",
         "x": [
          11,
          11,
          11,
          12,
          13,
          13,
          13,
          13,
          14,
          15,
          15,
          15,
          15,
          15,
          16,
          16,
          16,
          16,
          16,
          17,
          17,
          17,
          17,
          18,
          18,
          18,
          18,
          19,
          19,
          19,
          19,
          19,
          19,
          20,
          20,
          20,
          20,
          20,
          22,
          23,
          23,
          25,
          26,
          26,
          26,
          27,
          28,
          28,
          28,
          30,
          30,
          30,
          31,
          31,
          31,
          31,
          31,
          31,
          31,
          32,
          33,
          33,
          34,
          34,
          35,
          35,
          35,
          35,
          35,
          36,
          36,
          36,
          36,
          37,
          37,
          38,
          38,
          38,
          38,
          39,
          39,
          39,
          39,
          40,
          40,
          40,
          42,
          42,
          42,
          43,
          43,
          43,
          43,
          43,
          44,
          44,
          45,
          45,
          45,
          45,
          45,
          45,
          45,
          46,
          46,
          46,
          46,
          47,
          47,
          47,
          48,
          48,
          48,
          48,
          48,
          49,
          49,
          49
         ],
         "xaxis": "x",
         "y": [
          218.95958879624683,
          218.95958879624683,
          218.95958879624683,
          214.30888119210744,
          209.658173587968,
          209.658173587968,
          209.658173587968,
          209.658173587968,
          205.00746598382858,
          200.35675837968915,
          200.35675837968915,
          200.35675837968915,
          200.35675837968915,
          200.35675837968915,
          195.70605077554973,
          195.70605077554973,
          195.70605077554973,
          195.70605077554973,
          195.70605077554973,
          191.05534317141033,
          191.05534317141033,
          191.05534317141033,
          191.05534317141033,
          186.4046355672709,
          186.4046355672709,
          186.4046355672709,
          186.4046355672709,
          181.7539279631315,
          181.7539279631315,
          181.7539279631315,
          181.7539279631315,
          181.7539279631315,
          181.7539279631315,
          177.10322035899208,
          177.10322035899208,
          177.10322035899208,
          177.10322035899208,
          177.10322035899208,
          167.80180515071322,
          163.1510975465738,
          163.1510975465738,
          153.84968233829497,
          149.19897473415557,
          149.19897473415557,
          149.19897473415557,
          144.54826713001614,
          139.89755952587672,
          139.89755952587672,
          139.89755952587672,
          130.59614431759786,
          130.59614431759786,
          130.59614431759786,
          125.94543671345846,
          125.94543671345846,
          125.94543671345846,
          125.94543671345846,
          125.94543671345846,
          125.94543671345846,
          125.94543671345846,
          121.29472910931904,
          116.64402150517961,
          116.64402150517961,
          111.99331390104021,
          111.99331390104021,
          107.34260629690078,
          107.34260629690078,
          107.34260629690078,
          107.34260629690078,
          107.34260629690078,
          102.69189869276136,
          102.69189869276136,
          102.69189869276136,
          102.69189869276136,
          98.04119108862193,
          98.04119108862193,
          93.39048348448253,
          93.39048348448253,
          93.39048348448253,
          93.39048348448253,
          88.7397758803431,
          88.7397758803431,
          88.7397758803431,
          88.7397758803431,
          84.08906827620368,
          84.08906827620368,
          84.08906827620368,
          74.78765306792485,
          74.78765306792485,
          74.78765306792485,
          70.13694546378542,
          70.13694546378542,
          70.13694546378542,
          70.13694546378542,
          70.13694546378542,
          65.486237859646,
          65.486237859646,
          60.8355302555066,
          60.8355302555066,
          60.8355302555066,
          60.8355302555066,
          60.8355302555066,
          60.8355302555066,
          60.8355302555066,
          56.18482265136717,
          56.18482265136717,
          56.18482265136717,
          56.18482265136717,
          51.53411504722774,
          51.53411504722774,
          51.53411504722774,
          46.883407443088345,
          46.883407443088345,
          46.883407443088345,
          46.883407443088345,
          46.883407443088345,
          42.23269983894892,
          42.23269983894892,
          42.23269983894892
         ],
         "yaxis": "y"
        },
        {
         "hovertemplate": "Marketing_Channel=Referral<br>New_Customers=%{x}<br>CAC=%{y}<extra></extra>",
         "legendgroup": "Referral",
         "marker": {
          "color": "#ab63fa",
          "symbol": "circle"
         },
         "mode": "markers",
         "name": "Referral",
         "orientation": "v",
         "showlegend": true,
         "type": "scatter",
         "x": [
          27,
          18,
          23,
          47,
          19,
          10,
          18,
          21,
          11,
          14,
          38,
          12,
          43,
          35,
          37,
          14,
          27,
          47,
          28,
          37,
          17,
          45,
          16,
          30,
          33,
          19,
          15,
          16,
          47,
          45,
          45,
          36,
          32,
          48,
          29,
          23,
          33,
          11,
          21,
          21,
          35,
          14,
          36,
          33,
          19,
          49,
          27,
          38,
          37,
          41,
          48,
          32,
          17,
          41,
          43,
          48,
          26,
          30,
          34,
          35,
          37,
          50,
          36,
          11,
          30,
          20,
          33,
          16,
          47,
          15,
          42,
          22,
          16,
          21,
          50,
          39,
          50,
          49,
          30,
          50,
          14,
          40,
          27,
          47,
          13,
          32,
          42,
          38,
          12,
          13,
          33,
          14,
          49,
          48,
          34,
          45,
          30,
          48,
          13,
          16,
          15,
          21,
          36,
          34,
          32,
          35,
          33,
          11,
          41,
          22,
          42,
          20,
          21,
          12,
          38,
          28,
          24,
          25,
          29,
          46,
          39,
          20,
          37,
          38,
          32,
          35,
          42,
          33
         ],
         "xaxis": "x",
         "y": [
          57.14066477777778,
          59.862952666666665,
          217.37527452173913,
          76.74507704255319,
          56.92210889473684,
          150.4883899,
          103.99212022222223,
          79.57888442857143,
          362.88205527272726,
          292.1373957142857,
          71.40821192105263,
          366.52520899999996,
          99.7517133023256,
          78.34138800000001,
          106.35624908108107,
          225.19225899999998,
          49.87598488888889,
          60.82625246808511,
          66.01712146428572,
          102.8306757027027,
          61.212026941176475,
          106.49445135555555,
          117.899100125,
          125.5716207,
          94.65720378787879,
          142.21132899999998,
          133.707647,
          110.646073375,
          39.692309787234045,
          65.26209664444444,
          86.62977786666667,
          59.22207813888888,
          43.8157635,
          22.012363937499998,
          108.15656403448276,
          65.43991182608696,
          52.65014187878788,
          133.98238627272727,
          193.2273229047619,
          131.9468579047619,
          63.47202791428572,
          248.86494885714288,
          47.09039425,
          102.28014484848485,
          247.13916726315787,
          71.4333067142857,
          100.02058755555555,
          83.63814513157895,
          97.04159172972973,
          113.01575075609756,
          89.7192633125,
          46.79420728125,
          223.4667494117647,
          72.56538724390244,
          30.738776930232557,
          28.44390722916667,
          79.92477323076923,
          134.1691774,
          87.2618590882353,
          107.84841988571429,
          131.91186235135135,
          99.04953718,
          100.85115405555555,
          222.46522154545454,
          134.19242053333335,
          175.08174845000002,
          96.87510775757576,
          237.06250725,
          73.09546102127659,
          213.55706853333334,
          103.30704242857142,
          223.6808422727273,
          189.560222875,
          203.91418538095235,
          42.627118659999994,
          85.8397664102564,
          47.60991534,
          65.46264628571429,
          105.79067506666667,
          56.42756934,
          234.79932628571427,
          48.356244600000004,
          141.51524162962963,
          90.3326725531915,
          195.71653923076923,
          114.2111036875,
          101.9759573095238,
          79.18854213157894,
          280.06014308333334,
          344.5231733076923,
          136.2654998787879,
          221.70031049999997,
          79.38316959183673,
          54.9982183125,
          47.57190808823529,
          52.316554133333334,
          147.91229123333332,
          52.500783125,
          345.34862076923076,
          79.6051868125,
          312.2477596666667,
          189.86026033333331,
          86.79625758333333,
          83.6646956764706,
          74.4457030625,
          101.59299454285714,
          110.08846254545455,
          190.7201382727273,
          72.85144258536586,
          209.84641654545456,
          88.35851985714287,
          196.4719536,
          64.78730966666667,
          127.38659925,
          122.47231310526317,
          72.42429778571429,
          121.97463829166666,
          159.44949612,
          81.20210396551724,
          105.78262691304347,
          99.91966276923077,
          52.783731,
          71.16711954054054,
          58.3541667631579,
          92.828077375,
          80.41642937142858,
          87.66535416666667,
          120.38062078787878
         ],
         "yaxis": "y"
        },
        {
         "hovertemplate": "<b>OLS trendline</b><br>CAC = -4.22997 * New_Customers + 248.906<br>R<sup>2</sup>=0.464859<br><br>Marketing_Channel=Referral<br>New_Customers=%{x}<br>CAC=%{y} <b>(trend)</b><extra></extra>",
         "legendgroup": "Referral",
         "marker": {
          "color": "#ab63fa",
          "symbol": "circle"
         },
         "mode": "lines",
         "name": "Referral",
         "showlegend": false,
         "type": "scatter",
         "x": [
          10,
          11,
          11,
          11,
          11,
          12,
          12,
          12,
          13,
          13,
          13,
          14,
          14,
          14,
          14,
          14,
          15,
          15,
          15,
          16,
          16,
          16,
          16,
          16,
          17,
          17,
          18,
          18,
          19,
          19,
          19,
          20,
          20,
          20,
          21,
          21,
          21,
          21,
          21,
          21,
          22,
          22,
          23,
          23,
          24,
          25,
          26,
          27,
          27,
          27,
          27,
          28,
          28,
          29,
          29,
          30,
          30,
          30,
          30,
          30,
          32,
          32,
          32,
          32,
          32,
          33,
          33,
          33,
          33,
          33,
          33,
          33,
          34,
          34,
          34,
          35,
          35,
          35,
          35,
          35,
          36,
          36,
          36,
          36,
          37,
          37,
          37,
          37,
          37,
          38,
          38,
          38,
          38,
          38,
          39,
          39,
          40,
          41,
          41,
          41,
          42,
          42,
          42,
          42,
          43,
          43,
          45,
          45,
          45,
          45,
          46,
          47,
          47,
          47,
          47,
          47,
          48,
          48,
          48,
          48,
          48,
          49,
          49,
          49,
          50,
          50,
          50,
          50
         ],
         "xaxis": "x",
         "y": [
          206.60649014411482,
          202.3765235179648,
          202.3765235179648,
          202.3765235179648,
          202.3765235179648,
          198.14655689181478,
          198.14655689181478,
          198.14655689181478,
          193.91659026566478,
          193.91659026566478,
          193.91659026566478,
          189.68662363951478,
          189.68662363951478,
          189.68662363951478,
          189.68662363951478,
          189.68662363951478,
          185.45665701336475,
          185.45665701336475,
          185.45665701336475,
          181.22669038721475,
          181.22669038721475,
          181.22669038721475,
          181.22669038721475,
          181.22669038721475,
          176.99672376106474,
          176.99672376106474,
          172.7667571349147,
          172.7667571349147,
          168.5367905087647,
          168.5367905087647,
          168.5367905087647,
          164.3068238826147,
          164.3068238826147,
          164.3068238826147,
          160.07685725646468,
          160.07685725646468,
          160.07685725646468,
          160.07685725646468,
          160.07685725646468,
          160.07685725646468,
          155.84689063031468,
          155.84689063031468,
          151.61692400416467,
          151.61692400416467,
          147.38695737801464,
          143.1569907518646,
          138.9270241257146,
          134.6970574995646,
          134.6970574995646,
          134.6970574995646,
          134.6970574995646,
          130.46709087341458,
          130.46709087341458,
          126.23712424726457,
          126.23712424726457,
          122.00715762111457,
          122.00715762111457,
          122.00715762111457,
          122.00715762111457,
          122.00715762111457,
          113.54722436881454,
          113.54722436881454,
          113.54722436881454,
          113.54722436881454,
          113.54722436881454,
          109.31725774266454,
          109.31725774266454,
          109.31725774266454,
          109.31725774266454,
          109.31725774266454,
          109.31725774266454,
          109.31725774266454,
          105.0872911165145,
          105.0872911165145,
          105.0872911165145,
          100.8573244903645,
          100.8573244903645,
          100.8573244903645,
          100.8573244903645,
          100.8573244903645,
          96.62735786421447,
          96.62735786421447,
          96.62735786421447,
          96.62735786421447,
          92.39739123806447,
          92.39739123806447,
          92.39739123806447,
          92.39739123806447,
          92.39739123806447,
          88.16742461191447,
          88.16742461191447,
          88.16742461191447,
          88.16742461191447,
          88.16742461191447,
          83.93745798576444,
          83.93745798576444,
          79.70749135961444,
          75.47752473346443,
          75.47752473346443,
          75.47752473346443,
          71.2475581073144,
          71.2475581073144,
          71.2475581073144,
          71.2475581073144,
          67.0175914811644,
          67.0175914811644,
          58.55765822886437,
          58.55765822886437,
          58.55765822886437,
          58.55765822886437,
          54.32769160271437,
          50.097724976564336,
          50.097724976564336,
          50.097724976564336,
          50.097724976564336,
          50.097724976564336,
          45.867758350414334,
          45.867758350414334,
          45.867758350414334,
          45.867758350414334,
          45.867758350414334,
          41.63779172426433,
          41.63779172426433,
          41.63779172426433,
          37.4078250981143,
          37.4078250981143,
          37.4078250981143,
          37.4078250981143
         ],
         "yaxis": "y"
        }
       ],
       "layout": {
        "legend": {
         "title": {
          "text": "Marketing_Channel"
         },
         "tracegroupgap": 0
        },
        "template": {
         "data": {
          "bar": [
           {
            "error_x": {
             "color": "#2a3f5f"
            },
            "error_y": {
             "color": "#2a3f5f"
            },
            "marker": {
             "line": {
              "color": "#E5ECF6",
              "width": 0.5
             },
             "pattern": {
              "fillmode": "overlay",
              "size": 10,
              "solidity": 0.2
             }
            },
            "type": "bar"
           }
          ],
          "barpolar": [
           {
            "marker": {
             "line": {
              "color": "#E5ECF6",
              "width": 0.5
             },
             "pattern": {
              "fillmode": "overlay",
              "size": 10,
              "solidity": 0.2
             }
            },
            "type": "barpolar"
           }
          ],
          "carpet": [
           {
            "aaxis": {
             "endlinecolor": "#2a3f5f",
             "gridcolor": "white",
             "linecolor": "white",
             "minorgridcolor": "white",
             "startlinecolor": "#2a3f5f"
            },
            "baxis": {
             "endlinecolor": "#2a3f5f",
             "gridcolor": "white",
             "linecolor": "white",
             "minorgridcolor": "white",
             "startlinecolor": "#2a3f5f"
            },
            "type": "carpet"
           }
          ],
          "choropleth": [
           {
            "colorbar": {
             "outlinewidth": 0,
             "ticks": ""
            },
            "type": "choropleth"
           }
          ],
          "contour": [
           {
            "colorbar": {
             "outlinewidth": 0,
             "ticks": ""
            },
            "colorscale": [
             [
              0,
              "#0d0887"
             ],
             [
              0.1111111111111111,
              "#46039f"
             ],
             [
              0.2222222222222222,
              "#7201a8"
             ],
             [
              0.3333333333333333,
              "#9c179e"
             ],
             [
              0.4444444444444444,
              "#bd3786"
             ],
             [
              0.5555555555555556,
              "#d8576b"
             ],
             [
              0.6666666666666666,
              "#ed7953"
             ],
             [
              0.7777777777777778,
              "#fb9f3a"
             ],
             [
              0.8888888888888888,
              "#fdca26"
             ],
             [
              1,
              "#f0f921"
             ]
            ],
            "type": "contour"
           }
          ],
          "contourcarpet": [
           {
            "colorbar": {
             "outlinewidth": 0,
             "ticks": ""
            },
            "type": "contourcarpet"
           }
          ],
          "heatmap": [
           {
            "colorbar": {
             "outlinewidth": 0,
             "ticks": ""
            },
            "colorscale": [
             [
              0,
              "#0d0887"
             ],
             [
              0.1111111111111111,
              "#46039f"
             ],
             [
              0.2222222222222222,
              "#7201a8"
             ],
             [
              0.3333333333333333,
              "#9c179e"
             ],
             [
              0.4444444444444444,
              "#bd3786"
             ],
             [
              0.5555555555555556,
              "#d8576b"
             ],
             [
              0.6666666666666666,
              "#ed7953"
             ],
             [
              0.7777777777777778,
              "#fb9f3a"
             ],
             [
              0.8888888888888888,
              "#fdca26"
             ],
             [
              1,
              "#f0f921"
             ]
            ],
            "type": "heatmap"
           }
          ],
          "heatmapgl": [
           {
            "colorbar": {
             "outlinewidth": 0,
             "ticks": ""
            },
            "colorscale": [
             [
              0,
              "#0d0887"
             ],
             [
              0.1111111111111111,
              "#46039f"
             ],
             [
              0.2222222222222222,
              "#7201a8"
             ],
             [
              0.3333333333333333,
              "#9c179e"
             ],
             [
              0.4444444444444444,
              "#bd3786"
             ],
             [
              0.5555555555555556,
              "#d8576b"
             ],
             [
              0.6666666666666666,
              "#ed7953"
             ],
             [
              0.7777777777777778,
              "#fb9f3a"
             ],
             [
              0.8888888888888888,
              "#fdca26"
             ],
             [
              1,
              "#f0f921"
             ]
            ],
            "type": "heatmapgl"
           }
          ],
          "histogram": [
           {
            "marker": {
             "pattern": {
              "fillmode": "overlay",
              "size": 10,
              "solidity": 0.2
             }
            },
            "type": "histogram"
           }
          ],
          "histogram2d": [
           {
            "colorbar": {
             "outlinewidth": 0,
             "ticks": ""
            },
            "colorscale": [
             [
              0,
              "#0d0887"
             ],
             [
              0.1111111111111111,
              "#46039f"
             ],
             [
              0.2222222222222222,
              "#7201a8"
             ],
             [
              0.3333333333333333,
              "#9c179e"
             ],
             [
              0.4444444444444444,
              "#bd3786"
             ],
             [
              0.5555555555555556,
              "#d8576b"
             ],
             [
              0.6666666666666666,
              "#ed7953"
             ],
             [
              0.7777777777777778,
              "#fb9f3a"
             ],
             [
              0.8888888888888888,
              "#fdca26"
             ],
             [
              1,
              "#f0f921"
             ]
            ],
            "type": "histogram2d"
           }
          ],
          "histogram2dcontour": [
           {
            "colorbar": {
             "outlinewidth": 0,
             "ticks": ""
            },
            "colorscale": [
             [
              0,
              "#0d0887"
             ],
             [
              0.1111111111111111,
              "#46039f"
             ],
             [
              0.2222222222222222,
              "#7201a8"
             ],
             [
              0.3333333333333333,
              "#9c179e"
             ],
             [
              0.4444444444444444,
              "#bd3786"
             ],
             [
              0.5555555555555556,
              "#d8576b"
             ],
             [
              0.6666666666666666,
              "#ed7953"
             ],
             [
              0.7777777777777778,
              "#fb9f3a"
             ],
             [
              0.8888888888888888,
              "#fdca26"
             ],
             [
              1,
              "#f0f921"
             ]
            ],
            "type": "histogram2dcontour"
           }
          ],
          "mesh3d": [
           {
            "colorbar": {
             "outlinewidth": 0,
             "ticks": ""
            },
            "type": "mesh3d"
           }
          ],
          "parcoords": [
           {
            "line": {
             "colorbar": {
              "outlinewidth": 0,
              "ticks": ""
             }
            },
            "type": "parcoords"
           }
          ],
          "pie": [
           {
            "automargin": true,
            "type": "pie"
           }
          ],
          "scatter": [
           {
            "fillpattern": {
             "fillmode": "overlay",
             "size": 10,
             "solidity": 0.2
            },
            "type": "scatter"
           }
          ],
          "scatter3d": [
           {
            "line": {
             "colorbar": {
              "outlinewidth": 0,
              "ticks": ""
             }
            },
            "marker": {
             "colorbar": {
              "outlinewidth": 0,
              "ticks": ""
             }
            },
            "type": "scatter3d"
           }
          ],
          "scattercarpet": [
           {
            "marker": {
             "colorbar": {
              "outlinewidth": 0,
              "ticks": ""
             }
            },
            "type": "scattercarpet"
           }
          ],
          "scattergeo": [
           {
            "marker": {
             "colorbar": {
              "outlinewidth": 0,
              "ticks": ""
             }
            },
            "type": "scattergeo"
           }
          ],
          "scattergl": [
           {
            "marker": {
             "colorbar": {
              "outlinewidth": 0,
              "ticks": ""
             }
            },
            "type": "scattergl"
           }
          ],
          "scattermapbox": [
           {
            "marker": {
             "colorbar": {
              "outlinewidth": 0,
              "ticks": ""
             }
            },
            "type": "scattermapbox"
           }
          ],
          "scatterpolar": [
           {
            "marker": {
             "colorbar": {
              "outlinewidth": 0,
              "ticks": ""
             }
            },
            "type": "scatterpolar"
           }
          ],
          "scatterpolargl": [
           {
            "marker": {
             "colorbar": {
              "outlinewidth": 0,
              "ticks": ""
             }
            },
            "type": "scatterpolargl"
           }
          ],
          "scatterternary": [
           {
            "marker": {
             "colorbar": {
              "outlinewidth": 0,
              "ticks": ""
             }
            },
            "type": "scatterternary"
           }
          ],
          "surface": [
           {
            "colorbar": {
             "outlinewidth": 0,
             "ticks": ""
            },
            "colorscale": [
             [
              0,
              "#0d0887"
             ],
             [
              0.1111111111111111,
              "#46039f"
             ],
             [
              0.2222222222222222,
              "#7201a8"
             ],
             [
              0.3333333333333333,
              "#9c179e"
             ],
             [
              0.4444444444444444,
              "#bd3786"
             ],
             [
              0.5555555555555556,
              "#d8576b"
             ],
             [
              0.6666666666666666,
              "#ed7953"
             ],
             [
              0.7777777777777778,
              "#fb9f3a"
             ],
             [
              0.8888888888888888,
              "#fdca26"
             ],
             [
              1,
              "#f0f921"
             ]
            ],
            "type": "surface"
           }
          ],
          "table": [
           {
            "cells": {
             "fill": {
              "color": "#EBF0F8"
             },
             "line": {
              "color": "white"
             }
            },
            "header": {
             "fill": {
              "color": "#C8D4E3"
             },
             "line": {
              "color": "white"
             }
            },
            "type": "table"
           }
          ]
         },
         "layout": {
          "annotationdefaults": {
           "arrowcolor": "#2a3f5f",
           "arrowhead": 0,
           "arrowwidth": 1
          },
          "autotypenumbers": "strict",
          "coloraxis": {
           "colorbar": {
            "outlinewidth": 0,
            "ticks": ""
           }
          },
          "colorscale": {
           "diverging": [
            [
             0,
             "#8e0152"
            ],
            [
             0.1,
             "#c51b7d"
            ],
            [
             0.2,
             "#de77ae"
            ],
            [
             0.3,
             "#f1b6da"
            ],
            [
             0.4,
             "#fde0ef"
            ],
            [
             0.5,
             "#f7f7f7"
            ],
            [
             0.6,
             "#e6f5d0"
            ],
            [
             0.7,
             "#b8e186"
            ],
            [
             0.8,
             "#7fbc41"
            ],
            [
             0.9,
             "#4d9221"
            ],
            [
             1,
             "#276419"
            ]
           ],
           "sequential": [
            [
             0,
             "#0d0887"
            ],
            [
             0.1111111111111111,
             "#46039f"
            ],
            [
             0.2222222222222222,
             "#7201a8"
            ],
            [
             0.3333333333333333,
             "#9c179e"
            ],
            [
             0.4444444444444444,
             "#bd3786"
            ],
            [
             0.5555555555555556,
             "#d8576b"
            ],
            [
             0.6666666666666666,
             "#ed7953"
            ],
            [
             0.7777777777777778,
             "#fb9f3a"
            ],
            [
             0.8888888888888888,
             "#fdca26"
            ],
            [
             1,
             "#f0f921"
            ]
           ],
           "sequentialminus": [
            [
             0,
             "#0d0887"
            ],
            [
             0.1111111111111111,
             "#46039f"
            ],
            [
             0.2222222222222222,
             "#7201a8"
            ],
            [
             0.3333333333333333,
             "#9c179e"
            ],
            [
             0.4444444444444444,
             "#bd3786"
            ],
            [
             0.5555555555555556,
             "#d8576b"
            ],
            [
             0.6666666666666666,
             "#ed7953"
            ],
            [
             0.7777777777777778,
             "#fb9f3a"
            ],
            [
             0.8888888888888888,
             "#fdca26"
            ],
            [
             1,
             "#f0f921"
            ]
           ]
          },
          "colorway": [
           "#636efa",
           "#EF553B",
           "#00cc96",
           "#ab63fa",
           "#FFA15A",
           "#19d3f3",
           "#FF6692",
           "#B6E880",
           "#FF97FF",
           "#FECB52"
          ],
          "font": {
           "color": "#2a3f5f"
          },
          "geo": {
           "bgcolor": "white",
           "lakecolor": "white",
           "landcolor": "#E5ECF6",
           "showlakes": true,
           "showland": true,
           "subunitcolor": "white"
          },
          "hoverlabel": {
           "align": "left"
          },
          "hovermode": "closest",
          "mapbox": {
           "style": "light"
          },
          "paper_bgcolor": "white",
          "plot_bgcolor": "#E5ECF6",
          "polar": {
           "angularaxis": {
            "gridcolor": "white",
            "linecolor": "white",
            "ticks": ""
           },
           "bgcolor": "#E5ECF6",
           "radialaxis": {
            "gridcolor": "white",
            "linecolor": "white",
            "ticks": ""
           }
          },
          "scene": {
           "xaxis": {
            "backgroundcolor": "#E5ECF6",
            "gridcolor": "white",
            "gridwidth": 2,
            "linecolor": "white",
            "showbackground": true,
            "ticks": "",
            "zerolinecolor": "white"
           },
           "yaxis": {
            "backgroundcolor": "#E5ECF6",
            "gridcolor": "white",
            "gridwidth": 2,
            "linecolor": "white",
            "showbackground": true,
            "ticks": "",
            "zerolinecolor": "white"
           },
           "zaxis": {
            "backgroundcolor": "#E5ECF6",
            "gridcolor": "white",
            "gridwidth": 2,
            "linecolor": "white",
            "showbackground": true,
            "ticks": "",
            "zerolinecolor": "white"
           }
          },
          "shapedefaults": {
           "line": {
            "color": "#2a3f5f"
           }
          },
          "ternary": {
           "aaxis": {
            "gridcolor": "white",
            "linecolor": "white",
            "ticks": ""
           },
           "baxis": {
            "gridcolor": "white",
            "linecolor": "white",
            "ticks": ""
           },
           "bgcolor": "#E5ECF6",
           "caxis": {
            "gridcolor": "white",
            "linecolor": "white",
            "ticks": ""
           }
          },
          "title": {
           "x": 0.05
          },
          "xaxis": {
           "automargin": true,
           "gridcolor": "white",
           "linecolor": "white",
           "ticks": "",
           "title": {
            "standoff": 15
           },
           "zerolinecolor": "white",
           "zerolinewidth": 2
          },
          "yaxis": {
           "automargin": true,
           "gridcolor": "white",
           "linecolor": "white",
           "ticks": "",
           "title": {
            "standoff": 15
           },
           "zerolinecolor": "white",
           "zerolinewidth": 2
          }
         }
        },
        "title": {
         "text": "New Customer vs. CAC"
        },
        "xaxis": {
         "anchor": "y",
         "domain": [
          0,
          1
         ],
         "title": {
          "text": "New_Customers"
         }
        },
        "yaxis": {
         "anchor": "x",
         "domain": [
          0,
          1
         ],
         "title": {
          "text": "CAC"
         }
        }
       }
      },
      "text/html": [
       "<div>                            <div id=\"f137c1a6-380f-416e-a201-cd62665db982\" class=\"plotly-graph-div\" style=\"height:525px; width:100%;\"></div>            <script type=\"text/javascript\">                require([\"plotly\"], function(Plotly) {                    window.PLOTLYENV=window.PLOTLYENV || {};                                    if (document.getElementById(\"f137c1a6-380f-416e-a201-cd62665db982\")) {                    Plotly.newPlot(                        \"f137c1a6-380f-416e-a201-cd62665db982\",                        [{\"hovertemplate\":\"Marketing_Channel=Email Marketing<br>New_Customers=%{x}<br>CAC=%{y}<extra></extra>\",\"legendgroup\":\"Email Marketing\",\"marker\":{\"color\":\"#636efa\",\"symbol\":\"circle\"},\"mode\":\"markers\",\"name\":\"Email Marketing\",\"orientation\":\"v\",\"showlegend\":true,\"x\":[16,13,35,23,11,13,25,14,48,27,19,26,17,18,10,13,40,38,42,42,24,49,41,19,18,45,43,16,37,38,24,31,30,14,15,37,33,46,24,16,17,46,49,48,31,19,23,34,13,29,12,13,10,23,23,18,41,37,24,42,32,14,37,14,15,37,25,43,24,20,14,50,19,22,21,41,46,50,29,42,38,38,43,49,33,28,31,48,13,50,31,28,29,18,15,31,18,21,23,24,12,49,34,36,38,44,40,22,33,38,28,36,22,48,45,17,28,27,15,24,34,15,33,19],\"xaxis\":\"x\",\"y\":[218.06424025,85.26216807692307,102.0285312,100.3210095652174,364.36720854545456,332.89978007692304,53.10499724,171.41724107142858,33.53186214583334,136.21612511111113,171.3620172631579,156.44586126923076,201.70529270588236,81.00730477777778,427.7204697,296.92760153846154,110.02932390000001,89.51701207894737,117.50898585714285,59.10198821428571,125.99346495833333,48.26376936734694,50.739746,109.1359027368421,240.16244866666668,76.47392926666667,40.17114951162791,131.5671439375,104.87293664864865,77.74503650000001,168.02744225,115.60037416129032,110.87407803333333,165.94037064285712,254.09465126666666,40.07090645945946,44.79451409090909,69.85730145652174,187.1199558333333,206.0160549375,70.91216876470588,63.28079889130435,71.79148628571429,46.1529593125,61.37898541935484,233.7192980526316,158.3353282173913,47.88906982352941,280.36401315384614,39.98079782758621,227.34288808333335,372.8957237692308,434.38344559999996,143.5128885652174,217.31694208695654,204.95146316666668,113.76319882926829,46.647475378378374,99.66017604166666,55.553180357142864,138.4666368125,165.65818957142855,129.21011237837837,201.378831,314.0460695333333,74.39092918918918,59.42817332,37.98866639534884,193.82164641666668,73.4932298,309.1837639285714,77.32826608,237.75289584210526,95.68134595454545,198.09641561904763,53.51764387804878,108.60020289130435,23.49178392,102.80395165517241,92.25880240476191,30.09464207894737,118.166235,87.81406165116279,94.1570662857143,126.80526851515151,89.26301282142857,105.28104025806451,86.87662283333333,129.22573815384615,26.31746806,63.33287635483871,71.9967627857143,115.5271317586207,149.84643077777775,292.0810467333333,62.86525187096774,182.64948716666666,189.46073166666667,52.0076957826087,89.36569191666666,362.779039,94.15540440816326,81.2733165,87.71197322222223,113.12524342105263,96.04440852272728,36.51697075,220.52605322727274,47.36448666666667,116.85690494736843,175.70603467857146,115.63132983333334,143.01314695454545,58.732168979166666,31.852986866666665,266.87878711764705,115.91534032142856,46.40252462962963,103.94053666666667,199.37692216666667,78.72079452941176,264.6050706,49.03307909090909,59.519218263157896],\"yaxis\":\"y\",\"type\":\"scatter\"},{\"hovertemplate\":\"<b>OLS trendline</b><br>CAC = -5.39481 * New_Customers + 288.798<br>R<sup>2</sup>=0.503723<br><br>Marketing_Channel=Email Marketing<br>New_Customers=%{x}<br>CAC=%{y} <b>(trend)</b><extra></extra>\",\"legendgroup\":\"Email Marketing\",\"marker\":{\"color\":\"#636efa\",\"symbol\":\"circle\"},\"mode\":\"lines\",\"name\":\"Email Marketing\",\"showlegend\":false,\"x\":[10,10,11,12,12,13,13,13,13,13,13,14,14,14,14,14,15,15,15,15,15,16,16,16,17,17,17,18,18,18,18,18,19,19,19,19,19,20,21,21,22,22,22,23,23,23,23,23,24,24,24,24,24,24,24,25,25,26,27,27,28,28,28,28,29,29,29,30,31,31,31,31,31,32,33,33,33,33,34,34,34,35,36,36,37,37,37,37,37,38,38,38,38,38,38,40,40,41,41,41,42,42,42,42,43,43,43,44,45,45,46,46,46,48,48,48,48,49,49,49,49,50,50,50],\"xaxis\":\"x\",\"y\":[234.8495759616668,234.8495759616668,229.45476530273305,224.0599546437993,224.0599546437993,218.66514398486552,218.66514398486552,218.66514398486552,218.66514398486552,218.66514398486552,218.66514398486552,213.27033332593177,213.27033332593177,213.27033332593177,213.27033332593177,213.27033332593177,207.875522666998,207.875522666998,207.875522666998,207.875522666998,207.875522666998,202.48071200806424,202.48071200806424,202.48071200806424,197.0859013491305,197.0859013491305,197.0859013491305,191.69109069019675,191.69109069019675,191.69109069019675,191.69109069019675,191.69109069019675,186.296280031263,186.296280031263,186.296280031263,186.296280031263,186.296280031263,180.90146937232925,175.5066587133955,175.5066587133955,170.11184805446172,170.11184805446172,170.11184805446172,164.71703739552797,164.71703739552797,164.71703739552797,164.71703739552797,164.71703739552797,159.32222673659422,159.32222673659422,159.32222673659422,159.32222673659422,159.32222673659422,159.32222673659422,159.32222673659422,153.92741607766047,153.92741607766047,148.5326054187267,143.13779475979294,143.13779475979294,137.7429841008592,137.7429841008592,137.7429841008592,137.7429841008592,132.34817344192544,132.34817344192544,132.34817344192544,126.95336278299166,121.55855212405791,121.55855212405791,121.55855212405791,121.55855212405791,121.55855212405791,116.16374146512416,110.76893080619041,110.76893080619041,110.76893080619041,110.76893080619041,105.37412014725666,105.37412014725666,105.37412014725666,99.97930948832288,94.58449882938913,94.58449882938913,89.18968817045538,89.18968817045538,89.18968817045538,89.18968817045538,89.18968817045538,83.79487751152163,83.79487751152163,83.79487751152163,83.79487751152163,83.79487751152163,83.79487751152163,73.0052561936541,73.0052561936541,67.61044553472036,67.61044553472036,67.61044553472036,62.215634875786606,62.215634875786606,62.215634875786606,62.215634875786606,56.820824216852856,56.820824216852856,56.820824216852856,51.42601355791908,46.03120289898533,46.03120289898533,40.63639224005158,40.63639224005158,40.63639224005158,29.846770922184078,29.846770922184078,29.846770922184078,29.846770922184078,24.451960263250328,24.451960263250328,24.451960263250328,24.451960263250328,19.057149604316578,19.057149604316578,19.057149604316578],\"yaxis\":\"y\",\"type\":\"scatter\"},{\"hovertemplate\":\"Marketing_Channel=Online Ads<br>New_Customers=%{x}<br>CAC=%{y}<extra></extra>\",\"legendgroup\":\"Online Ads\",\"marker\":{\"color\":\"#EF553B\",\"symbol\":\"circle\"},\"mode\":\"markers\",\"name\":\"Online Ads\",\"orientation\":\"v\",\"showlegend\":true,\"x\":[33,32,22,39,15,50,48,31,46,23,24,31,32,25,30,11,21,43,33,47,29,39,40,48,50,30,34,48,42,23,39,26,15,18,13,17,37,28,32,40,32,24,37,49,45,11,27,27,29,32,10,19,50,39,29,30,13,15,38,27,42,24,29,28,17,10,21,18,44,12,11,46,28,17,39,37,35,29,31,42,32,25,19,14,47,38,30,19,38,29,14,15,42,12,38,46,31,42,25,34,14,47,29,37,33,29,18,19,14,28,44,31,48,19,49,38,33,25,43,26,16,43,15,42,36,24,11,16,12,40],\"xaxis\":\"x\",\"y\":[33.571691151515154,101.798997875,129.3997170909091,64.52347325641026,123.10940913333334,80.89837664,52.427184624999995,64.80922990322581,68.64513460869566,179.34487817391306,199.9352887916667,57.98202351612903,151.840096625,57.295799960000004,74.9276326,337.21719518181817,230.12815966666668,81.60394376744186,44.97637151515152,87.88385925531915,49.03984424137931,124.18334023076922,95.730864375,81.75218452083332,39.50907514,83.86524056666667,32.788235029411766,91.7460696875,56.22274697619047,58.36747165217391,75.98167538461539,111.27084442307692,138.9110472,174.63643677777776,133.8922592307692,182.2674985882353,48.012711135135135,61.34879196428572,65.53891584375,74.08786945,89.924618125,178.685940875,70.34675051351351,24.784414224489794,35.484229733333336,295.5780352727273,184.28416633333333,126.86187425925927,143.5504592758621,96.57156690625,280.205786,180.97492889473685,79.20714444000001,33.33998656410256,74.65645365517241,64.19683126666666,288.4261292307692,315.6449222666667,33.832614394736844,82.60915740740741,78.01971897619048,95.38693054166667,165.6256934827586,41.46166760714285,169.52960547058825,360.6037958,159.11040480952383,196.61882655555556,31.02203693181818,179.40593175,386.7512853636363,56.884787565217394,113.22765632142857,156.05825194117648,46.51879366666667,132.2320881891892,91.68587531428571,47.33920017241379,160.2912438064516,71.2738575952381,61.71636325,187.498904,249.3154513157895,216.4964787857143,62.94811461702128,41.95741247368421,76.23698003333334,92.34786815789474,99.73667657894737,137.20071055172414,351.66232535714283,188.51415319999998,86.16965014285714,314.2348661666667,94.71964763157895,95.80567758695652,113.69819570967742,118.80246885714286,55.75090024,46.53762302941177,248.4886767142857,34.72132953191489,61.960965379310345,58.9438652972973,98.90048690909092,129.07579210344826,233.08002655555558,180.4347364736842,172.09170164285715,126.65969685714286,88.26621606818182,113.32233596774194,46.57774033333333,174.64711689473683,44.4988123877551,44.80421794736842,148.05934318181818,124.9363798,57.281399953488375,141.8985841923077,120.9554755625,25.583688348837207,310.73490899999996,110.41787033333334,126.3621453888889,110.81408791666667,126.91695809090908,164.5289714375,231.12769533333335,110.545019325],\"yaxis\":\"y\",\"type\":\"scatter\"},{\"hovertemplate\":\"<b>OLS trendline</b><br>CAC = -5.19966 * New_Customers + 277.966<br>R<sup>2</sup>=0.554830<br><br>Marketing_Channel=Online Ads<br>New_Customers=%{x}<br>CAC=%{y} <b>(trend)</b><extra></extra>\",\"legendgroup\":\"Online Ads\",\"marker\":{\"color\":\"#EF553B\",\"symbol\":\"circle\"},\"mode\":\"lines\",\"name\":\"Online Ads\",\"showlegend\":false,\"x\":[10,10,11,11,11,11,12,12,12,13,13,14,14,14,14,15,15,15,15,15,16,16,17,17,17,18,18,18,19,19,19,19,19,21,21,22,23,23,24,24,24,24,25,25,25,25,26,26,27,27,27,28,28,28,28,29,29,29,29,29,29,29,29,30,30,30,30,31,31,31,31,31,32,32,32,32,32,32,33,33,33,33,34,34,35,36,37,37,37,37,38,38,38,38,38,39,39,39,39,39,40,40,40,42,42,42,42,42,42,43,43,43,44,44,45,46,46,46,47,47,47,48,48,48,48,49,49,50,50,50],\"xaxis\":\"x\",\"y\":[225.9692437348964,225.9692437348964,220.76957897154202,220.76957897154202,220.76957897154202,220.76957897154202,215.56991420818764,215.56991420818764,215.56991420818764,210.37024944483323,210.37024944483323,205.17058468147889,205.17058468147889,205.17058468147889,205.17058468147889,199.97091991812448,199.97091991812448,199.97091991812448,199.97091991812448,199.97091991812448,194.77125515477013,194.77125515477013,189.57159039141573,189.57159039141573,189.57159039141573,184.37192562806138,184.37192562806138,184.37192562806138,179.17226086470697,179.17226086470697,179.17226086470697,179.17226086470697,179.17226086470697,168.77293133799822,168.77293133799822,163.57326657464387,158.37360181128946,158.37360181128946,153.17393704793508,153.17393704793508,153.17393704793508,153.17393704793508,147.9742722845807,147.9742722845807,147.9742722845807,147.9742722845807,142.77460752122633,142.77460752122633,137.57494275787195,137.57494275787195,137.57494275787195,132.37527799451757,132.37527799451757,132.37527799451757,132.37527799451757,127.1756132311632,127.1756132311632,127.1756132311632,127.1756132311632,127.1756132311632,127.1756132311632,127.1756132311632,127.1756132311632,121.97594846780882,121.97594846780882,121.97594846780882,121.97594846780882,116.77628370445444,116.77628370445444,116.77628370445444,116.77628370445444,116.77628370445444,111.57661894110007,111.57661894110007,111.57661894110007,111.57661894110007,111.57661894110007,111.57661894110007,106.37695417774569,106.37695417774569,106.37695417774569,106.37695417774569,101.17728941439131,101.17728941439131,95.97762465103693,90.77795988768256,85.57829512432818,85.57829512432818,85.57829512432818,85.57829512432818,80.3786303609738,80.3786303609738,80.3786303609738,80.3786303609738,80.3786303609738,75.17896559761942,75.17896559761942,75.17896559761942,75.17896559761942,75.17896559761942,69.97930083426505,69.97930083426505,69.97930083426505,59.57997130755629,59.57997130755629,59.57997130755629,59.57997130755629,59.57997130755629,59.57997130755629,54.380306544201915,54.380306544201915,54.380306544201915,49.18064178084754,49.18064178084754,43.98097701749316,38.78131225413878,38.78131225413878,38.78131225413878,33.581647490784405,33.581647490784405,33.581647490784405,28.38198272743,28.38198272743,28.38198272743,28.38198272743,23.182317964075622,23.182317964075622,17.982653200721245,17.982653200721245,17.982653200721245],\"yaxis\":\"y\",\"type\":\"scatter\"},{\"hovertemplate\":\"Marketing_Channel=Social Media<br>New_Customers=%{x}<br>CAC=%{y}<extra></extra>\",\"legendgroup\":\"Social Media\",\"marker\":{\"color\":\"#00cc96\",\"symbol\":\"circle\"},\"mode\":\"markers\",\"name\":\"Social Media\",\"orientation\":\"v\",\"showlegend\":true,\"x\":[44,17,45,23,44,47,26,18,36,17,16,11,13,16,38,15,30,14,49,39,48,36,35,36,37,40,45,31,13,16,42,19,45,27,45,46,11,15,43,31,20,46,48,15,20,36,23,17,37,28,47,35,45,39,30,46,35,35,49,35,31,17,43,32,19,26,48,46,38,39,28,39,47,22,40,19,12,38,43,20,33,31,16,45,26,48,19,31,15,19,48,45,34,43,15,42,31,16,43,18,20,49,34,42,18,13,40,33,20,38,19,11,13,25,30,31,18,28],\"xaxis\":\"x\",\"y\":[58.547296022727274,70.65520788235294,80.01280828888889,174.64925286956523,86.31499738636363,23.461993659574468,99.48529869230768,72.44366172222222,104.51271288888888,82.80030717647058,149.3009413125,322.03094763636363,331.9099418461538,303.8684328125,111.38939144736842,195.5993344,91.40993239999999,314.7751885714286,92.3780558367347,107.4699853076923,94.19333164583333,104.51214883333334,119.1923278,38.117038944444445,60.13038164864865,99.593543675,89.97240973333334,158.27187393548388,146.91789646153845,306.07373275,90.2302279047619,235.4655152105263,61.37500428888889,176.45386618518518,28.807304022222223,107.82880526086956,435.4873455454545,122.07677486666667,42.886064674418606,32.603319032258064,140.1007409,83.2135504347826,79.41562983333334,187.74168706666666,207.56560535,46.21364325,173.73177773913042,126.73190311764705,101.47870175675675,170.38232010714287,63.8699725106383,57.184903142857145,81.78964528888888,82.06119066666666,75.26895429999999,49.84989445652173,87.38242882857143,50.009433314285715,82.44820702040816,55.919709971428574,91.79972829032258,178.5581211764706,48.69068806976745,100.158134625,133.38652910526315,171.38875915384614,55.411868625000004,68.57222415217392,107.95204999999999,29.43790884615385,98.61517282142857,73.79390779487179,103.76201110638297,200.42569754545454,56.6661154,212.5056440526316,227.99049066666666,93.02608723684212,64.52823737209302,59.198193749999994,65.86276072727273,144.62446435483872,290.707254,34.94379735555555,77.7425705,21.616452624999997,222.02801621052632,148.54315141935484,247.36290286666664,145.6273228421053,41.67485204166667,56.41717768888889,86.25977188235295,76.72669118604652,331.384545,116.94709376190477,110.50406361290322,217.7227908125,84.575027,199.186802,199.496173,88.20184648979593,143.20820555882352,100.43691847619047,205.0729737222222,256.78772053846154,107.241730125,144.27780506060608,94.27344000000001,113.03740542105264,116.25056305263158,126.25163581818182,118.66586115384615,191.35585372000003,98.57960503333334,155.0350355483871,137.89554638888887,171.50788139285714],\"yaxis\":\"y\",\"type\":\"scatter\"},{\"hovertemplate\":\"<b>OLS trendline</b><br>CAC = -4.65071 * New_Customers + 270.117<br>R<sup>2</sup>=0.513948<br><br>Marketing_Channel=Social Media<br>New_Customers=%{x}<br>CAC=%{y} <b>(trend)</b><extra></extra>\",\"legendgroup\":\"Social Media\",\"marker\":{\"color\":\"#00cc96\",\"symbol\":\"circle\"},\"mode\":\"lines\",\"name\":\"Social Media\",\"showlegend\":false,\"x\":[11,11,11,12,13,13,13,13,14,15,15,15,15,15,16,16,16,16,16,17,17,17,17,18,18,18,18,19,19,19,19,19,19,20,20,20,20,20,22,23,23,25,26,26,26,27,28,28,28,30,30,30,31,31,31,31,31,31,31,32,33,33,34,34,35,35,35,35,35,36,36,36,36,37,37,38,38,38,38,39,39,39,39,40,40,40,42,42,42,43,43,43,43,43,44,44,45,45,45,45,45,45,45,46,46,46,46,47,47,47,48,48,48,48,48,49,49,49],\"xaxis\":\"x\",\"y\":[218.95958879624683,218.95958879624683,218.95958879624683,214.30888119210744,209.658173587968,209.658173587968,209.658173587968,209.658173587968,205.00746598382858,200.35675837968915,200.35675837968915,200.35675837968915,200.35675837968915,200.35675837968915,195.70605077554973,195.70605077554973,195.70605077554973,195.70605077554973,195.70605077554973,191.05534317141033,191.05534317141033,191.05534317141033,191.05534317141033,186.4046355672709,186.4046355672709,186.4046355672709,186.4046355672709,181.7539279631315,181.7539279631315,181.7539279631315,181.7539279631315,181.7539279631315,181.7539279631315,177.10322035899208,177.10322035899208,177.10322035899208,177.10322035899208,177.10322035899208,167.80180515071322,163.1510975465738,163.1510975465738,153.84968233829497,149.19897473415557,149.19897473415557,149.19897473415557,144.54826713001614,139.89755952587672,139.89755952587672,139.89755952587672,130.59614431759786,130.59614431759786,130.59614431759786,125.94543671345846,125.94543671345846,125.94543671345846,125.94543671345846,125.94543671345846,125.94543671345846,125.94543671345846,121.29472910931904,116.64402150517961,116.64402150517961,111.99331390104021,111.99331390104021,107.34260629690078,107.34260629690078,107.34260629690078,107.34260629690078,107.34260629690078,102.69189869276136,102.69189869276136,102.69189869276136,102.69189869276136,98.04119108862193,98.04119108862193,93.39048348448253,93.39048348448253,93.39048348448253,93.39048348448253,88.7397758803431,88.7397758803431,88.7397758803431,88.7397758803431,84.08906827620368,84.08906827620368,84.08906827620368,74.78765306792485,74.78765306792485,74.78765306792485,70.13694546378542,70.13694546378542,70.13694546378542,70.13694546378542,70.13694546378542,65.486237859646,65.486237859646,60.8355302555066,60.8355302555066,60.8355302555066,60.8355302555066,60.8355302555066,60.8355302555066,60.8355302555066,56.18482265136717,56.18482265136717,56.18482265136717,56.18482265136717,51.53411504722774,51.53411504722774,51.53411504722774,46.883407443088345,46.883407443088345,46.883407443088345,46.883407443088345,46.883407443088345,42.23269983894892,42.23269983894892,42.23269983894892],\"yaxis\":\"y\",\"type\":\"scatter\"},{\"hovertemplate\":\"Marketing_Channel=Referral<br>New_Customers=%{x}<br>CAC=%{y}<extra></extra>\",\"legendgroup\":\"Referral\",\"marker\":{\"color\":\"#ab63fa\",\"symbol\":\"circle\"},\"mode\":\"markers\",\"name\":\"Referral\",\"orientation\":\"v\",\"showlegend\":true,\"x\":[27,18,23,47,19,10,18,21,11,14,38,12,43,35,37,14,27,47,28,37,17,45,16,30,33,19,15,16,47,45,45,36,32,48,29,23,33,11,21,21,35,14,36,33,19,49,27,38,37,41,48,32,17,41,43,48,26,30,34,35,37,50,36,11,30,20,33,16,47,15,42,22,16,21,50,39,50,49,30,50,14,40,27,47,13,32,42,38,12,13,33,14,49,48,34,45,30,48,13,16,15,21,36,34,32,35,33,11,41,22,42,20,21,12,38,28,24,25,29,46,39,20,37,38,32,35,42,33],\"xaxis\":\"x\",\"y\":[57.14066477777778,59.862952666666665,217.37527452173913,76.74507704255319,56.92210889473684,150.4883899,103.99212022222223,79.57888442857143,362.88205527272726,292.1373957142857,71.40821192105263,366.52520899999996,99.7517133023256,78.34138800000001,106.35624908108107,225.19225899999998,49.87598488888889,60.82625246808511,66.01712146428572,102.8306757027027,61.212026941176475,106.49445135555555,117.899100125,125.5716207,94.65720378787879,142.21132899999998,133.707647,110.646073375,39.692309787234045,65.26209664444444,86.62977786666667,59.22207813888888,43.8157635,22.012363937499998,108.15656403448276,65.43991182608696,52.65014187878788,133.98238627272727,193.2273229047619,131.9468579047619,63.47202791428572,248.86494885714288,47.09039425,102.28014484848485,247.13916726315787,71.4333067142857,100.02058755555555,83.63814513157895,97.04159172972973,113.01575075609756,89.7192633125,46.79420728125,223.4667494117647,72.56538724390244,30.738776930232557,28.44390722916667,79.92477323076923,134.1691774,87.2618590882353,107.84841988571429,131.91186235135135,99.04953718,100.85115405555555,222.46522154545454,134.19242053333335,175.08174845000002,96.87510775757576,237.06250725,73.09546102127659,213.55706853333334,103.30704242857142,223.6808422727273,189.560222875,203.91418538095235,42.627118659999994,85.8397664102564,47.60991534,65.46264628571429,105.79067506666667,56.42756934,234.79932628571427,48.356244600000004,141.51524162962963,90.3326725531915,195.71653923076923,114.2111036875,101.9759573095238,79.18854213157894,280.06014308333334,344.5231733076923,136.2654998787879,221.70031049999997,79.38316959183673,54.9982183125,47.57190808823529,52.316554133333334,147.91229123333332,52.500783125,345.34862076923076,79.6051868125,312.2477596666667,189.86026033333331,86.79625758333333,83.6646956764706,74.4457030625,101.59299454285714,110.08846254545455,190.7201382727273,72.85144258536586,209.84641654545456,88.35851985714287,196.4719536,64.78730966666667,127.38659925,122.47231310526317,72.42429778571429,121.97463829166666,159.44949612,81.20210396551724,105.78262691304347,99.91966276923077,52.783731,71.16711954054054,58.3541667631579,92.828077375,80.41642937142858,87.66535416666667,120.38062078787878],\"yaxis\":\"y\",\"type\":\"scatter\"},{\"hovertemplate\":\"<b>OLS trendline</b><br>CAC = -4.22997 * New_Customers + 248.906<br>R<sup>2</sup>=0.464859<br><br>Marketing_Channel=Referral<br>New_Customers=%{x}<br>CAC=%{y} <b>(trend)</b><extra></extra>\",\"legendgroup\":\"Referral\",\"marker\":{\"color\":\"#ab63fa\",\"symbol\":\"circle\"},\"mode\":\"lines\",\"name\":\"Referral\",\"showlegend\":false,\"x\":[10,11,11,11,11,12,12,12,13,13,13,14,14,14,14,14,15,15,15,16,16,16,16,16,17,17,18,18,19,19,19,20,20,20,21,21,21,21,21,21,22,22,23,23,24,25,26,27,27,27,27,28,28,29,29,30,30,30,30,30,32,32,32,32,32,33,33,33,33,33,33,33,34,34,34,35,35,35,35,35,36,36,36,36,37,37,37,37,37,38,38,38,38,38,39,39,40,41,41,41,42,42,42,42,43,43,45,45,45,45,46,47,47,47,47,47,48,48,48,48,48,49,49,49,50,50,50,50],\"xaxis\":\"x\",\"y\":[206.60649014411482,202.3765235179648,202.3765235179648,202.3765235179648,202.3765235179648,198.14655689181478,198.14655689181478,198.14655689181478,193.91659026566478,193.91659026566478,193.91659026566478,189.68662363951478,189.68662363951478,189.68662363951478,189.68662363951478,189.68662363951478,185.45665701336475,185.45665701336475,185.45665701336475,181.22669038721475,181.22669038721475,181.22669038721475,181.22669038721475,181.22669038721475,176.99672376106474,176.99672376106474,172.7667571349147,172.7667571349147,168.5367905087647,168.5367905087647,168.5367905087647,164.3068238826147,164.3068238826147,164.3068238826147,160.07685725646468,160.07685725646468,160.07685725646468,160.07685725646468,160.07685725646468,160.07685725646468,155.84689063031468,155.84689063031468,151.61692400416467,151.61692400416467,147.38695737801464,143.1569907518646,138.9270241257146,134.6970574995646,134.6970574995646,134.6970574995646,134.6970574995646,130.46709087341458,130.46709087341458,126.23712424726457,126.23712424726457,122.00715762111457,122.00715762111457,122.00715762111457,122.00715762111457,122.00715762111457,113.54722436881454,113.54722436881454,113.54722436881454,113.54722436881454,113.54722436881454,109.31725774266454,109.31725774266454,109.31725774266454,109.31725774266454,109.31725774266454,109.31725774266454,109.31725774266454,105.0872911165145,105.0872911165145,105.0872911165145,100.8573244903645,100.8573244903645,100.8573244903645,100.8573244903645,100.8573244903645,96.62735786421447,96.62735786421447,96.62735786421447,96.62735786421447,92.39739123806447,92.39739123806447,92.39739123806447,92.39739123806447,92.39739123806447,88.16742461191447,88.16742461191447,88.16742461191447,88.16742461191447,88.16742461191447,83.93745798576444,83.93745798576444,79.70749135961444,75.47752473346443,75.47752473346443,75.47752473346443,71.2475581073144,71.2475581073144,71.2475581073144,71.2475581073144,67.0175914811644,67.0175914811644,58.55765822886437,58.55765822886437,58.55765822886437,58.55765822886437,54.32769160271437,50.097724976564336,50.097724976564336,50.097724976564336,50.097724976564336,50.097724976564336,45.867758350414334,45.867758350414334,45.867758350414334,45.867758350414334,45.867758350414334,41.63779172426433,41.63779172426433,41.63779172426433,37.4078250981143,37.4078250981143,37.4078250981143,37.4078250981143],\"yaxis\":\"y\",\"type\":\"scatter\"}],                        {\"template\":{\"data\":{\"histogram2dcontour\":[{\"type\":\"histogram2dcontour\",\"colorbar\":{\"outlinewidth\":0,\"ticks\":\"\"},\"colorscale\":[[0.0,\"#0d0887\"],[0.1111111111111111,\"#46039f\"],[0.2222222222222222,\"#7201a8\"],[0.3333333333333333,\"#9c179e\"],[0.4444444444444444,\"#bd3786\"],[0.5555555555555556,\"#d8576b\"],[0.6666666666666666,\"#ed7953\"],[0.7777777777777778,\"#fb9f3a\"],[0.8888888888888888,\"#fdca26\"],[1.0,\"#f0f921\"]]}],\"choropleth\":[{\"type\":\"choropleth\",\"colorbar\":{\"outlinewidth\":0,\"ticks\":\"\"}}],\"histogram2d\":[{\"type\":\"histogram2d\",\"colorbar\":{\"outlinewidth\":0,\"ticks\":\"\"},\"colorscale\":[[0.0,\"#0d0887\"],[0.1111111111111111,\"#46039f\"],[0.2222222222222222,\"#7201a8\"],[0.3333333333333333,\"#9c179e\"],[0.4444444444444444,\"#bd3786\"],[0.5555555555555556,\"#d8576b\"],[0.6666666666666666,\"#ed7953\"],[0.7777777777777778,\"#fb9f3a\"],[0.8888888888888888,\"#fdca26\"],[1.0,\"#f0f921\"]]}],\"heatmap\":[{\"type\":\"heatmap\",\"colorbar\":{\"outlinewidth\":0,\"ticks\":\"\"},\"colorscale\":[[0.0,\"#0d0887\"],[0.1111111111111111,\"#46039f\"],[0.2222222222222222,\"#7201a8\"],[0.3333333333333333,\"#9c179e\"],[0.4444444444444444,\"#bd3786\"],[0.5555555555555556,\"#d8576b\"],[0.6666666666666666,\"#ed7953\"],[0.7777777777777778,\"#fb9f3a\"],[0.8888888888888888,\"#fdca26\"],[1.0,\"#f0f921\"]]}],\"heatmapgl\":[{\"type\":\"heatmapgl\",\"colorbar\":{\"outlinewidth\":0,\"ticks\":\"\"},\"colorscale\":[[0.0,\"#0d0887\"],[0.1111111111111111,\"#46039f\"],[0.2222222222222222,\"#7201a8\"],[0.3333333333333333,\"#9c179e\"],[0.4444444444444444,\"#bd3786\"],[0.5555555555555556,\"#d8576b\"],[0.6666666666666666,\"#ed7953\"],[0.7777777777777778,\"#fb9f3a\"],[0.8888888888888888,\"#fdca26\"],[1.0,\"#f0f921\"]]}],\"contourcarpet\":[{\"type\":\"contourcarpet\",\"colorbar\":{\"outlinewidth\":0,\"ticks\":\"\"}}],\"contour\":[{\"type\":\"contour\",\"colorbar\":{\"outlinewidth\":0,\"ticks\":\"\"},\"colorscale\":[[0.0,\"#0d0887\"],[0.1111111111111111,\"#46039f\"],[0.2222222222222222,\"#7201a8\"],[0.3333333333333333,\"#9c179e\"],[0.4444444444444444,\"#bd3786\"],[0.5555555555555556,\"#d8576b\"],[0.6666666666666666,\"#ed7953\"],[0.7777777777777778,\"#fb9f3a\"],[0.8888888888888888,\"#fdca26\"],[1.0,\"#f0f921\"]]}],\"surface\":[{\"type\":\"surface\",\"colorbar\":{\"outlinewidth\":0,\"ticks\":\"\"},\"colorscale\":[[0.0,\"#0d0887\"],[0.1111111111111111,\"#46039f\"],[0.2222222222222222,\"#7201a8\"],[0.3333333333333333,\"#9c179e\"],[0.4444444444444444,\"#bd3786\"],[0.5555555555555556,\"#d8576b\"],[0.6666666666666666,\"#ed7953\"],[0.7777777777777778,\"#fb9f3a\"],[0.8888888888888888,\"#fdca26\"],[1.0,\"#f0f921\"]]}],\"mesh3d\":[{\"type\":\"mesh3d\",\"colorbar\":{\"outlinewidth\":0,\"ticks\":\"\"}}],\"scatter\":[{\"fillpattern\":{\"fillmode\":\"overlay\",\"size\":10,\"solidity\":0.2},\"type\":\"scatter\"}],\"parcoords\":[{\"type\":\"parcoords\",\"line\":{\"colorbar\":{\"outlinewidth\":0,\"ticks\":\"\"}}}],\"scatterpolargl\":[{\"type\":\"scatterpolargl\",\"marker\":{\"colorbar\":{\"outlinewidth\":0,\"ticks\":\"\"}}}],\"bar\":[{\"error_x\":{\"color\":\"#2a3f5f\"},\"error_y\":{\"color\":\"#2a3f5f\"},\"marker\":{\"line\":{\"color\":\"#E5ECF6\",\"width\":0.5},\"pattern\":{\"fillmode\":\"overlay\",\"size\":10,\"solidity\":0.2}},\"type\":\"bar\"}],\"scattergeo\":[{\"type\":\"scattergeo\",\"marker\":{\"colorbar\":{\"outlinewidth\":0,\"ticks\":\"\"}}}],\"scatterpolar\":[{\"type\":\"scatterpolar\",\"marker\":{\"colorbar\":{\"outlinewidth\":0,\"ticks\":\"\"}}}],\"histogram\":[{\"marker\":{\"pattern\":{\"fillmode\":\"overlay\",\"size\":10,\"solidity\":0.2}},\"type\":\"histogram\"}],\"scattergl\":[{\"type\":\"scattergl\",\"marker\":{\"colorbar\":{\"outlinewidth\":0,\"ticks\":\"\"}}}],\"scatter3d\":[{\"type\":\"scatter3d\",\"line\":{\"colorbar\":{\"outlinewidth\":0,\"ticks\":\"\"}},\"marker\":{\"colorbar\":{\"outlinewidth\":0,\"ticks\":\"\"}}}],\"scattermapbox\":[{\"type\":\"scattermapbox\",\"marker\":{\"colorbar\":{\"outlinewidth\":0,\"ticks\":\"\"}}}],\"scatterternary\":[{\"type\":\"scatterternary\",\"marker\":{\"colorbar\":{\"outlinewidth\":0,\"ticks\":\"\"}}}],\"scattercarpet\":[{\"type\":\"scattercarpet\",\"marker\":{\"colorbar\":{\"outlinewidth\":0,\"ticks\":\"\"}}}],\"carpet\":[{\"aaxis\":{\"endlinecolor\":\"#2a3f5f\",\"gridcolor\":\"white\",\"linecolor\":\"white\",\"minorgridcolor\":\"white\",\"startlinecolor\":\"#2a3f5f\"},\"baxis\":{\"endlinecolor\":\"#2a3f5f\",\"gridcolor\":\"white\",\"linecolor\":\"white\",\"minorgridcolor\":\"white\",\"startlinecolor\":\"#2a3f5f\"},\"type\":\"carpet\"}],\"table\":[{\"cells\":{\"fill\":{\"color\":\"#EBF0F8\"},\"line\":{\"color\":\"white\"}},\"header\":{\"fill\":{\"color\":\"#C8D4E3\"},\"line\":{\"color\":\"white\"}},\"type\":\"table\"}],\"barpolar\":[{\"marker\":{\"line\":{\"color\":\"#E5ECF6\",\"width\":0.5},\"pattern\":{\"fillmode\":\"overlay\",\"size\":10,\"solidity\":0.2}},\"type\":\"barpolar\"}],\"pie\":[{\"automargin\":true,\"type\":\"pie\"}]},\"layout\":{\"autotypenumbers\":\"strict\",\"colorway\":[\"#636efa\",\"#EF553B\",\"#00cc96\",\"#ab63fa\",\"#FFA15A\",\"#19d3f3\",\"#FF6692\",\"#B6E880\",\"#FF97FF\",\"#FECB52\"],\"font\":{\"color\":\"#2a3f5f\"},\"hovermode\":\"closest\",\"hoverlabel\":{\"align\":\"left\"},\"paper_bgcolor\":\"white\",\"plot_bgcolor\":\"#E5ECF6\",\"polar\":{\"bgcolor\":\"#E5ECF6\",\"angularaxis\":{\"gridcolor\":\"white\",\"linecolor\":\"white\",\"ticks\":\"\"},\"radialaxis\":{\"gridcolor\":\"white\",\"linecolor\":\"white\",\"ticks\":\"\"}},\"ternary\":{\"bgcolor\":\"#E5ECF6\",\"aaxis\":{\"gridcolor\":\"white\",\"linecolor\":\"white\",\"ticks\":\"\"},\"baxis\":{\"gridcolor\":\"white\",\"linecolor\":\"white\",\"ticks\":\"\"},\"caxis\":{\"gridcolor\":\"white\",\"linecolor\":\"white\",\"ticks\":\"\"}},\"coloraxis\":{\"colorbar\":{\"outlinewidth\":0,\"ticks\":\"\"}},\"colorscale\":{\"sequential\":[[0.0,\"#0d0887\"],[0.1111111111111111,\"#46039f\"],[0.2222222222222222,\"#7201a8\"],[0.3333333333333333,\"#9c179e\"],[0.4444444444444444,\"#bd3786\"],[0.5555555555555556,\"#d8576b\"],[0.6666666666666666,\"#ed7953\"],[0.7777777777777778,\"#fb9f3a\"],[0.8888888888888888,\"#fdca26\"],[1.0,\"#f0f921\"]],\"sequentialminus\":[[0.0,\"#0d0887\"],[0.1111111111111111,\"#46039f\"],[0.2222222222222222,\"#7201a8\"],[0.3333333333333333,\"#9c179e\"],[0.4444444444444444,\"#bd3786\"],[0.5555555555555556,\"#d8576b\"],[0.6666666666666666,\"#ed7953\"],[0.7777777777777778,\"#fb9f3a\"],[0.8888888888888888,\"#fdca26\"],[1.0,\"#f0f921\"]],\"diverging\":[[0,\"#8e0152\"],[0.1,\"#c51b7d\"],[0.2,\"#de77ae\"],[0.3,\"#f1b6da\"],[0.4,\"#fde0ef\"],[0.5,\"#f7f7f7\"],[0.6,\"#e6f5d0\"],[0.7,\"#b8e186\"],[0.8,\"#7fbc41\"],[0.9,\"#4d9221\"],[1,\"#276419\"]]},\"xaxis\":{\"gridcolor\":\"white\",\"linecolor\":\"white\",\"ticks\":\"\",\"title\":{\"standoff\":15},\"zerolinecolor\":\"white\",\"automargin\":true,\"zerolinewidth\":2},\"yaxis\":{\"gridcolor\":\"white\",\"linecolor\":\"white\",\"ticks\":\"\",\"title\":{\"standoff\":15},\"zerolinecolor\":\"white\",\"automargin\":true,\"zerolinewidth\":2},\"scene\":{\"xaxis\":{\"backgroundcolor\":\"#E5ECF6\",\"gridcolor\":\"white\",\"linecolor\":\"white\",\"showbackground\":true,\"ticks\":\"\",\"zerolinecolor\":\"white\",\"gridwidth\":2},\"yaxis\":{\"backgroundcolor\":\"#E5ECF6\",\"gridcolor\":\"white\",\"linecolor\":\"white\",\"showbackground\":true,\"ticks\":\"\",\"zerolinecolor\":\"white\",\"gridwidth\":2},\"zaxis\":{\"backgroundcolor\":\"#E5ECF6\",\"gridcolor\":\"white\",\"linecolor\":\"white\",\"showbackground\":true,\"ticks\":\"\",\"zerolinecolor\":\"white\",\"gridwidth\":2}},\"shapedefaults\":{\"line\":{\"color\":\"#2a3f5f\"}},\"annotationdefaults\":{\"arrowcolor\":\"#2a3f5f\",\"arrowhead\":0,\"arrowwidth\":1},\"geo\":{\"bgcolor\":\"white\",\"landcolor\":\"#E5ECF6\",\"subunitcolor\":\"white\",\"showland\":true,\"showlakes\":true,\"lakecolor\":\"white\"},\"title\":{\"x\":0.05},\"mapbox\":{\"style\":\"light\"}}},\"xaxis\":{\"anchor\":\"y\",\"domain\":[0.0,1.0],\"title\":{\"text\":\"New_Customers\"}},\"yaxis\":{\"anchor\":\"x\",\"domain\":[0.0,1.0],\"title\":{\"text\":\"CAC\"}},\"legend\":{\"title\":{\"text\":\"Marketing_Channel\"},\"tracegroupgap\":0},\"title\":{\"text\":\"New Customer vs. CAC\"}},                        {\"responsive\": true}                    ).then(function(){\n",
       "                            \n",
       "var gd = document.getElementById('f137c1a6-380f-416e-a201-cd62665db982');\n",
       "var x = new MutationObserver(function (mutations, observer) {{\n",
       "        var display = window.getComputedStyle(gd).display;\n",
       "        if (!display || display === 'none') {{\n",
       "            console.log([gd, 'removed!']);\n",
       "            Plotly.purge(gd);\n",
       "            observer.disconnect();\n",
       "        }}\n",
       "}});\n",
       "\n",
       "// Listen for the removal of the full notebook cells\n",
       "var notebookContainer = gd.closest('#notebook-container');\n",
       "if (notebookContainer) {{\n",
       "    x.observe(notebookContainer, {childList: true});\n",
       "}}\n",
       "\n",
       "// Listen for the clearing of the current output cell\n",
       "var outputEl = gd.closest('.output');\n",
       "if (outputEl) {{\n",
       "    x.observe(outputEl, {childList: true});\n",
       "}}\n",
       "\n",
       "                        })                };                });            </script>        </div>"
      ]
     },
     "metadata": {},
     "output_type": "display_data"
    }
   ],
   "source": [
    "fig2 = px.scatter(data, x='New_Customers', y='CAC', color='Marketing_Channel', title='New Customer vs. CAC', trendline='ols')\n",
    "fig2.show()"
   ]
  },
  {
   "cell_type": "code",
   "execution_count": 63,
   "id": "d8b235dd",
   "metadata": {},
   "outputs": [
    {
     "data": {
      "text/html": [
       "<div>\n",
       "<style scoped>\n",
       "    .dataframe tbody tr th:only-of-type {\n",
       "        vertical-align: middle;\n",
       "    }\n",
       "\n",
       "    .dataframe tbody tr th {\n",
       "        vertical-align: top;\n",
       "    }\n",
       "\n",
       "    .dataframe thead th {\n",
       "        text-align: right;\n",
       "    }\n",
       "</style>\n",
       "<table border=\"1\" class=\"dataframe\">\n",
       "  <thead>\n",
       "    <tr style=\"text-align: right;\">\n",
       "      <th></th>\n",
       "      <th>count</th>\n",
       "      <th>mean</th>\n",
       "      <th>std</th>\n",
       "      <th>min</th>\n",
       "      <th>25%</th>\n",
       "      <th>50%</th>\n",
       "      <th>75%</th>\n",
       "      <th>max</th>\n",
       "    </tr>\n",
       "    <tr>\n",
       "      <th>Marketing_Channel</th>\n",
       "      <th></th>\n",
       "      <th></th>\n",
       "      <th></th>\n",
       "      <th></th>\n",
       "      <th></th>\n",
       "      <th></th>\n",
       "      <th></th>\n",
       "      <th></th>\n",
       "    </tr>\n",
       "  </thead>\n",
       "  <tbody>\n",
       "    <tr>\n",
       "      <th>Email Marketing</th>\n",
       "      <td>124.0</td>\n",
       "      <td>132.913758</td>\n",
       "      <td>89.597107</td>\n",
       "      <td>23.491784</td>\n",
       "      <td>68.226195</td>\n",
       "      <td>106.940622</td>\n",
       "      <td>177.441898</td>\n",
       "      <td>434.383446</td>\n",
       "    </tr>\n",
       "    <tr>\n",
       "      <th>Online Ads</th>\n",
       "      <td>130.0</td>\n",
       "      <td>122.135938</td>\n",
       "      <td>79.543793</td>\n",
       "      <td>24.784414</td>\n",
       "      <td>62.207753</td>\n",
       "      <td>97.736027</td>\n",
       "      <td>163.469540</td>\n",
       "      <td>386.751285</td>\n",
       "    </tr>\n",
       "    <tr>\n",
       "      <th>Referral</th>\n",
       "      <td>128.0</td>\n",
       "      <td>119.892174</td>\n",
       "      <td>74.101916</td>\n",
       "      <td>22.012364</td>\n",
       "      <td>71.347939</td>\n",
       "      <td>99.835688</td>\n",
       "      <td>137.577935</td>\n",
       "      <td>366.525209</td>\n",
       "    </tr>\n",
       "    <tr>\n",
       "      <th>Social Media</th>\n",
       "      <td>118.0</td>\n",
       "      <td>126.181913</td>\n",
       "      <td>77.498788</td>\n",
       "      <td>21.616453</td>\n",
       "      <td>75.633389</td>\n",
       "      <td>102.620356</td>\n",
       "      <td>167.354709</td>\n",
       "      <td>435.487346</td>\n",
       "    </tr>\n",
       "  </tbody>\n",
       "</table>\n",
       "</div>"
      ],
      "text/plain": [
       "                   count        mean        std        min        25%  \\\n",
       "Marketing_Channel                                                       \n",
       "Email Marketing    124.0  132.913758  89.597107  23.491784  68.226195   \n",
       "Online Ads         130.0  122.135938  79.543793  24.784414  62.207753   \n",
       "Referral           128.0  119.892174  74.101916  22.012364  71.347939   \n",
       "Social Media       118.0  126.181913  77.498788  21.616453  75.633389   \n",
       "\n",
       "                          50%         75%         max  \n",
       "Marketing_Channel                                      \n",
       "Email Marketing    106.940622  177.441898  434.383446  \n",
       "Online Ads          97.736027  163.469540  386.751285  \n",
       "Referral            99.835688  137.577935  366.525209  \n",
       "Social Media       102.620356  167.354709  435.487346  "
      ]
     },
     "execution_count": 63,
     "metadata": {},
     "output_type": "execute_result"
    }
   ],
   "source": [
    "summary_stats = data.groupby('Marketing_Channel')['CAC'].describe()\n",
    "summary_stats"
   ]
  },
  {
   "cell_type": "code",
   "execution_count": 69,
   "id": "55725417",
   "metadata": {},
   "outputs": [],
   "source": [
    "em = data[data['Marketing_Channel']==\"Email Marketing\"]\n",
    "sum_cac_em = em['CAC'].sum()\n",
    "em_count = em.count()"
   ]
  },
  {
   "cell_type": "code",
   "execution_count": 70,
   "id": "ed68bcf0",
   "metadata": {},
   "outputs": [
    {
     "data": {
      "text/plain": [
       "Customer_ID          132.913758\n",
       "Marketing_Channel    132.913758\n",
       "Marketing_Spend      132.913758\n",
       "New_Customers        132.913758\n",
       "CAC                  132.913758\n",
       "dtype: float64"
      ]
     },
     "execution_count": 70,
     "metadata": {},
     "output_type": "execute_result"
    }
   ],
   "source": [
    "sum_cac_em/em_count"
   ]
  },
  {
   "cell_type": "code",
   "execution_count": 71,
   "id": "1635a0de",
   "metadata": {},
   "outputs": [],
   "source": [
    "#calculating the conversion rate\n",
    "data['Conversion_Rate'] = data['New_Customers'] / data['Marketing_Spend'] * 100"
   ]
  },
  {
   "cell_type": "code",
   "execution_count": 72,
   "id": "c9fae757",
   "metadata": {},
   "outputs": [
    {
     "data": {
      "text/html": [
       "<div>\n",
       "<style scoped>\n",
       "    .dataframe tbody tr th:only-of-type {\n",
       "        vertical-align: middle;\n",
       "    }\n",
       "\n",
       "    .dataframe tbody tr th {\n",
       "        vertical-align: top;\n",
       "    }\n",
       "\n",
       "    .dataframe thead th {\n",
       "        text-align: right;\n",
       "    }\n",
       "</style>\n",
       "<table border=\"1\" class=\"dataframe\">\n",
       "  <thead>\n",
       "    <tr style=\"text-align: right;\">\n",
       "      <th></th>\n",
       "      <th>Customer_ID</th>\n",
       "      <th>Marketing_Channel</th>\n",
       "      <th>Marketing_Spend</th>\n",
       "      <th>New_Customers</th>\n",
       "      <th>CAC</th>\n",
       "      <th>Conversion_Rate</th>\n",
       "    </tr>\n",
       "  </thead>\n",
       "  <tbody>\n",
       "    <tr>\n",
       "      <th>0</th>\n",
       "      <td>CUST0001</td>\n",
       "      <td>Email Marketing</td>\n",
       "      <td>3489.027844</td>\n",
       "      <td>16</td>\n",
       "      <td>218.064240</td>\n",
       "      <td>0.458580</td>\n",
       "    </tr>\n",
       "    <tr>\n",
       "      <th>1</th>\n",
       "      <td>CUST0002</td>\n",
       "      <td>Online Ads</td>\n",
       "      <td>1107.865808</td>\n",
       "      <td>33</td>\n",
       "      <td>33.571691</td>\n",
       "      <td>2.978700</td>\n",
       "    </tr>\n",
       "    <tr>\n",
       "      <th>2</th>\n",
       "      <td>CUST0003</td>\n",
       "      <td>Social Media</td>\n",
       "      <td>2576.081025</td>\n",
       "      <td>44</td>\n",
       "      <td>58.547296</td>\n",
       "      <td>1.708021</td>\n",
       "    </tr>\n",
       "    <tr>\n",
       "      <th>3</th>\n",
       "      <td>CUST0004</td>\n",
       "      <td>Online Ads</td>\n",
       "      <td>3257.567932</td>\n",
       "      <td>32</td>\n",
       "      <td>101.798998</td>\n",
       "      <td>0.982328</td>\n",
       "    </tr>\n",
       "    <tr>\n",
       "      <th>4</th>\n",
       "      <td>CUST0005</td>\n",
       "      <td>Email Marketing</td>\n",
       "      <td>1108.408185</td>\n",
       "      <td>13</td>\n",
       "      <td>85.262168</td>\n",
       "      <td>1.172853</td>\n",
       "    </tr>\n",
       "  </tbody>\n",
       "</table>\n",
       "</div>"
      ],
      "text/plain": [
       "  Customer_ID Marketing_Channel  Marketing_Spend  New_Customers         CAC  \\\n",
       "0    CUST0001   Email Marketing      3489.027844             16  218.064240   \n",
       "1    CUST0002        Online Ads      1107.865808             33   33.571691   \n",
       "2    CUST0003      Social Media      2576.081025             44   58.547296   \n",
       "3    CUST0004        Online Ads      3257.567932             32  101.798998   \n",
       "4    CUST0005   Email Marketing      1108.408185             13   85.262168   \n",
       "\n",
       "   Conversion_Rate  \n",
       "0         0.458580  \n",
       "1         2.978700  \n",
       "2         1.708021  \n",
       "3         0.982328  \n",
       "4         1.172853  "
      ]
     },
     "execution_count": 72,
     "metadata": {},
     "output_type": "execute_result"
    }
   ],
   "source": [
    "data.head()"
   ]
  },
  {
   "cell_type": "code",
   "execution_count": 77,
   "id": "077d73e5",
   "metadata": {},
   "outputs": [
    {
     "data": {
      "application/vnd.plotly.v1+json": {
       "config": {
        "plotlyServerURL": "https://plot.ly"
       },
       "data": [
        {
         "type": "bar",
         "x": [
          "Email Marketing",
          "Online Ads",
          "Social Media",
          "Online Ads",
          "Email Marketing",
          "Email Marketing",
          "Referral",
          "Online Ads",
          "Social Media",
          "Online Ads",
          "Online Ads",
          "Email Marketing",
          "Online Ads",
          "Online Ads",
          "Email Marketing",
          "Email Marketing",
          "Online Ads",
          "Email Marketing",
          "Referral",
          "Online Ads",
          "Referral",
          "Email Marketing",
          "Social Media",
          "Online Ads",
          "Referral",
          "Social Media",
          "Online Ads",
          "Online Ads",
          "Referral",
          "Email Marketing",
          "Referral",
          "Email Marketing",
          "Email Marketing",
          "Referral",
          "Social Media",
          "Email Marketing",
          "Referral",
          "Email Marketing",
          "Referral",
          "Email Marketing",
          "Email Marketing",
          "Online Ads",
          "Online Ads",
          "Social Media",
          "Online Ads",
          "Online Ads",
          "Online Ads",
          "Social Media",
          "Email Marketing",
          "Social Media",
          "Social Media",
          "Online Ads",
          "Social Media",
          "Referral",
          "Email Marketing",
          "Email Marketing",
          "Online Ads",
          "Email Marketing",
          "Online Ads",
          "Social Media",
          "Referral",
          "Email Marketing",
          "Email Marketing",
          "Email Marketing",
          "Referral",
          "Referral",
          "Online Ads",
          "Online Ads",
          "Social Media",
          "Social Media",
          "Online Ads",
          "Referral",
          "Referral",
          "Social Media",
          "Email Marketing",
          "Social Media",
          "Referral",
          "Social Media",
          "Social Media",
          "Online Ads",
          "Email Marketing",
          "Social Media",
          "Email Marketing",
          "Referral",
          "Social Media",
          "Online Ads",
          "Referral",
          "Email Marketing",
          "Online Ads",
          "Online Ads",
          "Online Ads",
          "Email Marketing",
          "Referral",
          "Social Media",
          "Online Ads",
          "Social Media",
          "Referral",
          "Email Marketing",
          "Referral",
          "Referral",
          "Online Ads",
          "Email Marketing",
          "Email Marketing",
          "Email Marketing",
          "Social Media",
          "Email Marketing",
          "Online Ads",
          "Social Media",
          "Social Media",
          "Referral",
          "Referral",
          "Social Media",
          "Email Marketing",
          "Online Ads",
          "Referral",
          "Referral",
          "Social Media",
          "Email Marketing",
          "Email Marketing",
          "Online Ads",
          "Referral",
          "Email Marketing",
          "Referral",
          "Email Marketing",
          "Online Ads",
          "Social Media",
          "Online Ads",
          "Referral",
          "Referral",
          "Referral",
          "Social Media",
          "Online Ads",
          "Referral",
          "Referral",
          "Online Ads",
          "Social Media",
          "Online Ads",
          "Referral",
          "Referral",
          "Online Ads",
          "Social Media",
          "Email Marketing",
          "Social Media",
          "Referral",
          "Social Media",
          "Online Ads",
          "Email Marketing",
          "Email Marketing",
          "Online Ads",
          "Social Media",
          "Referral",
          "Email Marketing",
          "Social Media",
          "Email Marketing",
          "Online Ads",
          "Online Ads",
          "Social Media",
          "Email Marketing",
          "Online Ads",
          "Online Ads",
          "Online Ads",
          "Email Marketing",
          "Online Ads",
          "Referral",
          "Referral",
          "Online Ads",
          "Online Ads",
          "Email Marketing",
          "Online Ads",
          "Online Ads",
          "Referral",
          "Email Marketing",
          "Social Media",
          "Referral",
          "Referral",
          "Online Ads",
          "Online Ads",
          "Social Media",
          "Social Media",
          "Social Media",
          "Email Marketing",
          "Email Marketing",
          "Referral",
          "Online Ads",
          "Social Media",
          "Social Media",
          "Referral",
          "Online Ads",
          "Online Ads",
          "Social Media",
          "Social Media",
          "Social Media",
          "Online Ads",
          "Referral",
          "Social Media",
          "Referral",
          "Email Marketing",
          "Online Ads",
          "Referral",
          "Referral",
          "Referral",
          "Referral",
          "Referral",
          "Online Ads",
          "Social Media",
          "Online Ads",
          "Social Media",
          "Online Ads",
          "Social Media",
          "Referral",
          "Social Media",
          "Referral",
          "Social Media",
          "Social Media",
          "Referral",
          "Referral",
          "Email Marketing",
          "Email Marketing",
          "Online Ads",
          "Social Media",
          "Referral",
          "Email Marketing",
          "Email Marketing",
          "Email Marketing",
          "Online Ads",
          "Email Marketing",
          "Email Marketing",
          "Referral",
          "Online Ads",
          "Referral",
          "Online Ads",
          "Online Ads",
          "Email Marketing",
          "Email Marketing",
          "Online Ads",
          "Online Ads",
          "Referral",
          "Online Ads",
          "Email Marketing",
          "Email Marketing",
          "Social Media",
          "Email Marketing",
          "Email Marketing",
          "Referral",
          "Online Ads",
          "Email Marketing",
          "Online Ads",
          "Social Media",
          "Email Marketing",
          "Social Media",
          "Social Media",
          "Referral",
          "Online Ads",
          "Social Media",
          "Referral",
          "Referral",
          "Online Ads",
          "Online Ads",
          "Social Media",
          "Referral",
          "Referral",
          "Referral",
          "Social Media",
          "Online Ads",
          "Referral",
          "Email Marketing",
          "Email Marketing",
          "Referral",
          "Email Marketing",
          "Online Ads",
          "Referral",
          "Social Media",
          "Email Marketing",
          "Referral",
          "Online Ads",
          "Online Ads",
          "Online Ads",
          "Email Marketing",
          "Social Media",
          "Email Marketing",
          "Email Marketing",
          "Online Ads",
          "Email Marketing",
          "Social Media",
          "Social Media",
          "Referral",
          "Referral",
          "Online Ads",
          "Social Media",
          "Social Media",
          "Online Ads",
          "Referral",
          "Email Marketing",
          "Social Media",
          "Email Marketing",
          "Email Marketing",
          "Social Media",
          "Online Ads",
          "Online Ads",
          "Referral",
          "Referral",
          "Email Marketing",
          "Referral",
          "Email Marketing",
          "Online Ads",
          "Online Ads",
          "Social Media",
          "Referral",
          "Referral",
          "Referral",
          "Referral",
          "Online Ads",
          "Online Ads",
          "Online Ads",
          "Referral",
          "Referral",
          "Social Media",
          "Email Marketing",
          "Online Ads",
          "Referral",
          "Referral",
          "Referral",
          "Referral",
          "Referral",
          "Online Ads",
          "Email Marketing",
          "Social Media",
          "Referral",
          "Referral",
          "Referral",
          "Referral",
          "Social Media",
          "Referral",
          "Online Ads",
          "Referral",
          "Referral",
          "Online Ads",
          "Referral",
          "Social Media",
          "Social Media",
          "Referral",
          "Online Ads",
          "Online Ads",
          "Online Ads",
          "Social Media",
          "Referral",
          "Referral",
          "Social Media",
          "Email Marketing",
          "Social Media",
          "Referral",
          "Email Marketing",
          "Referral",
          "Online Ads",
          "Referral",
          "Online Ads",
          "Referral",
          "Social Media",
          "Online Ads",
          "Social Media",
          "Email Marketing",
          "Social Media",
          "Email Marketing",
          "Email Marketing",
          "Social Media",
          "Email Marketing",
          "Social Media",
          "Email Marketing",
          "Online Ads",
          "Referral",
          "Email Marketing",
          "Email Marketing",
          "Email Marketing",
          "Email Marketing",
          "Social Media",
          "Online Ads",
          "Email Marketing",
          "Social Media",
          "Social Media",
          "Referral",
          "Email Marketing",
          "Social Media",
          "Social Media",
          "Social Media",
          "Social Media",
          "Social Media",
          "Online Ads",
          "Social Media",
          "Referral",
          "Email Marketing",
          "Referral",
          "Email Marketing",
          "Social Media",
          "Email Marketing",
          "Online Ads",
          "Social Media",
          "Social Media",
          "Email Marketing",
          "Email Marketing",
          "Social Media",
          "Social Media",
          "Online Ads",
          "Social Media",
          "Referral",
          "Referral",
          "Online Ads",
          "Online Ads",
          "Email Marketing",
          "Email Marketing",
          "Social Media",
          "Referral",
          "Referral",
          "Email Marketing",
          "Online Ads",
          "Online Ads",
          "Online Ads",
          "Online Ads",
          "Social Media",
          "Referral",
          "Online Ads",
          "Social Media",
          "Email Marketing",
          "Online Ads",
          "Email Marketing",
          "Social Media",
          "Online Ads",
          "Email Marketing",
          "Online Ads",
          "Referral",
          "Referral",
          "Online Ads",
          "Social Media",
          "Online Ads",
          "Referral",
          "Email Marketing",
          "Online Ads",
          "Online Ads",
          "Referral",
          "Social Media",
          "Referral",
          "Email Marketing",
          "Referral",
          "Email Marketing",
          "Referral",
          "Referral",
          "Email Marketing",
          "Email Marketing",
          "Email Marketing",
          "Referral",
          "Email Marketing",
          "Referral",
          "Email Marketing",
          "Social Media",
          "Social Media",
          "Online Ads",
          "Email Marketing",
          "Referral",
          "Email Marketing",
          "Email Marketing",
          "Social Media",
          "Online Ads",
          "Social Media",
          "Social Media",
          "Social Media",
          "Email Marketing",
          "Online Ads",
          "Online Ads",
          "Email Marketing",
          "Email Marketing",
          "Online Ads",
          "Social Media",
          "Email Marketing",
          "Social Media",
          "Online Ads",
          "Social Media",
          "Referral",
          "Email Marketing",
          "Email Marketing",
          "Referral",
          "Referral",
          "Social Media",
          "Online Ads",
          "Social Media",
          "Referral",
          "Referral",
          "Referral",
          "Social Media",
          "Email Marketing",
          "Email Marketing",
          "Email Marketing",
          "Online Ads",
          "Online Ads",
          "Social Media",
          "Online Ads",
          "Social Media",
          "Email Marketing",
          "Social Media",
          "Online Ads",
          "Social Media",
          "Online Ads"
         ],
         "y": [
          0.4585804618187506,
          2.978700106249691,
          1.7080208104090981,
          0.9823279412120637,
          1.1728531217946572,
          0.9801180005617879,
          1.750067143756619,
          0.7727992166300142,
          1.4153238380744515,
          1.549823575098156,
          0.8122855978595044,
          0.9968001760886516,
          1.2361187474132238,
          1.9074074016233713,
          0.27444840714178886,
          0.30039070610648355,
          1.5429900980048925,
          1.8830619564495055,
          1.670482252300975,
          1.4567674835228959,
          0.46003392161328477,
          0.5833718905692257,
          1.2497999025224398,
          0.5575849225146463,
          1.3030151750913292,
          0.5725761682741571,
          0.5001618303820311,
          1.7246724749470446,
          1.756786632500298,
          2.982238193783878,
          0.664503089350948,
          0.7341274751313788,
          0.5835598903252383,
          0.9616113200337544,
          1.1585472169150337,
          0.6391987566095343,
          1.2566147504839453,
          0.49577281120637495,
          0.2755716314625812,
          1.2344565749264673,
          0.23379755490809048,
          0.6585875682559024,
          1.745328629145821,
          4.262212387019019,
          1.334621107460427,
          0.29654478309174825,
          0.4345404758150711,
          1.0051736418793313,
          0.33678243276095987,
          1.3803830124357839,
          0.9568213974726067,
          1.2254309704073119,
          1.2077249881074967,
          0.3423046876812763,
          0.9088486273975913,
          1.117106097238896,
          2.223389673982755,
          0.850998749334551,
          1.1378653696747791,
          0.6697881414604829,
          1.4003991601212173,
          1.691990456182804,
          0.7936919588096929,
          2.071947577050528,
          0.27283252978105527,
          1.002489046949218,
          2.039158189569066,
          0.8052609940606409,
          0.3105291610448562,
          0.3012865461148247,
          1.044595185187891,
          1.2764644915405379,
          0.9402362424775306,
          0.32908979414029604,
          1.9708415568339661,
          0.8977515605447048,
          0.4440649978114923,
          0.5112491834737041,
          1.0939730221264228,
          1.2232089036656444,
          0.9162887509267104,
          0.3176870465993163,
          0.41638482849912534,
          2.0049729388356896,
          1.0825081681382862,
          2.5310640566920646,
          1.6440269775368614,
          1.3076351765749774,
          1.1923891152557702,
          3.04987444155801,
          1.0899649471700972,
          2.489348729516791,
          1.514758562354139,
          0.9304923575982137,
          1.778639525428179,
          1.061646278486037,
          0.9724724584044689,
          0.7600681827334055,
          1.6336658822962682,
          0.9390160588379166,
          1.713283052518097,
          0.9535348507978351,
          1.2862557470147948,
          0.5951408809235743,
          0.9568265614696249,
          0.8650491032189563,
          1.3161068046184172,
          0.8389801746954387,
          2.6234986444185737,
          0.8481828944748274,
          0.7963582809758224,
          1.6630528072200814,
          0.9019240725495444,
          0.8987080175268318,
          1.0564436302607683,
          0.7031788585563391,
          1.0040811513477859,
          0.6026261096838431,
          0.39355413229478897,
          0.7198851496384083,
          0.7479003799984605,
          2.495576188204577,
          0.9037826372842126,
          2.2324162239387855,
          0.5726181880774887,
          1.1114518361394028,
          0.7468691661079943,
          2.519379711990515,
          1.5322829811124783,
          1.1543374860537177,
          0.6318241991673319,
          0.5486441673614686,
          1.6885594552335341,
          2.2822836352035725,
          2.082781780819313,
          0.6806522718365964,
          1.6300239466526927,
          4.542901447746882,
          0.9245855847280591,
          1.5258110194927235,
          0.32671866057084903,
          1.431489592569485,
          1.1082760436508052,
          1.5281194184026392,
          0.4246906385021665,
          1.3497486260890175,
          0.534416543412769,
          0.48539906285622947,
          1.1120425316790856,
          1.6293277883827968,
          1.8993301144415116,
          1.4101951998085214,
          0.5667203681162293,
          1.5802581786580665,
          0.5596411195548683,
          1.4215297688951551,
          3.4713418486804275,
          1.3929228265594342,
          4.034793765720262,
          2.818153324772936,
          0.33832013230526714,
          2.166708299740947,
          0.5426402169523339,
          0.7463667634374375,
          0.5175251537759394,
          0.7882588885265607,
          0.6966191575035591,
          1.629222107807384,
          1.0355014752642282,
          0.3568805677695749,
          0.7578808740726447,
          0.4278636844847996,
          0.9273959751113873,
          1.5754971644366333,
          0.40182436481805833,
          0.552562725736251,
          1.2625123744456,
          0.22962779750752227,
          0.8191566340872036,
          2.331759762971436,
          0.6315709900364243,
          2.088159163844666,
          2.1235753404209396,
          2.9994013287237142,
          3.0671723912850393,
          0.7137720996877326,
          0.9777068672334929,
          1.3394689287263208,
          1.5577092829490424,
          1.2017273566325417,
          1.2591979716066763,
          0.5326467528998513,
          0.3467092259175665,
          0.40463031864762394,
          0.48177538774489453,
          1.3999071945524444,
          0.35667915748204915,
          0.3168116859979673,
          0.9997941668204646,
          1.195626706482798,
          1.0304859825311783,
          0.8848324178796351,
          1.1145878410937382,
          2.955727832122736,
          2.1638631574453937,
          1.2105195493863394,
          0.5755999351492075,
          1.2817272519338003,
          0.7890672951322175,
          2.1370166482138284,
          0.9854284521662369,
          0.44749386771513744,
          0.5869153556373466,
          1.5656809619472407,
          1.378067475391346,
          3.2532198736133466,
          2.501200712182921,
          0.439864210589885,
          1.0483616511416967,
          1.748713288019109,
          3.5156913990163416,
          0.2681714850178484,
          0.230211351313983,
          0.696801527721717,
          0.6037710568765701,
          0.4601574043867519,
          0.48792040054224906,
          1.2511765245960342,
          2.41186632789397,
          0.7453276671874415,
          0.5898674731319955,
          0.27731266604709437,
          0.8790188833392106,
          2.143738738031493,
          0.6284944100275103,
          0.5085982952489269,
          1.1459760431975723,
          3.223514955506794,
          1.0034098269923912,
          1.8000769597188744,
          1.2226486573794322,
          0.7221956299510016,
          0.6036526190386861,
          0.9272273076042173,
          0.5573951709654105,
          0.7739332329280885,
          0.2585641051095065,
          1.2186028399977884,
          0.4965765244709361,
          1.3285690086968567,
          2.00602230135549,
          0.7580819360555072,
          1.7579392361332418,
          1.1443948324689162,
          1.0095958330251735,
          0.9915602943414344,
          0.8831764539585794,
          0.6407863650663812,
          1.9996227386050776,
          0.4495084638637226,
          0.7451985708474499,
          0.5711617623498778,
          1.212882652199426,
          2.149668813782152,
          1.0322569162993254,
          0.3184246188739065,
          1.3442499117826914,
          0.4218296733635006,
          1.682703580026511,
          0.756246092528815,
          1.368074003540275,
          1.788278230539709,
          2.632364057197953,
          0.46825890937153114,
          1.0906805400200925,
          2.112414228288409,
          0.6238643959912616,
          0.515938244508695,
          1.089327842929377,
          1.3606695510883644,
          0.3234322486063735,
          1.4030389735307542,
          1.2931881842086688,
          0.5600417351007468,
          2.0537807939110033,
          0.9679882188974873,
          0.4470655554760163,
          1.6203158244260285,
          0.9984211504578029,
          0.7497008931170562,
          0.5333364508626675,
          0.5275368349083558,
          0.4206047612829552,
          0.5834688371262177,
          1.0451357994849504,
          0.5048046916321118,
          1.8046675284811333,
          0.401098285213528,
          0.46190127692090016,
          0.49040237104240714,
          2.3459244524035117,
          1.8685426478764846,
          1.1649612316285578,
          0.9208085927803273,
          1.588609930708867,
          2.383369090329873,
          1.4583164136266353,
          2.1004028107561847,
          1.5275887192758153,
          0.9452628971030053,
          1.772183370108637,
          1.3116993873088452,
          1.0828620302205763,
          1.0026401864397816,
          0.4258956002212525,
          2.0679852380430717,
          0.9263372024894387,
          4.256807415756274,
          0.7288591990367308,
          0.7066376656566623,
          1.1070191678555286,
          0.5109430219491572,
          0.875571610564382,
          0.9806233021816481,
          0.2843637000308223,
          0.9727252541363633,
          3.3969804214902757,
          1.2628089532680238,
          0.35706616050054824,
          0.29025623745399093,
          0.7338614696232936,
          1.0140427394583496,
          0.45105935925155144,
          0.5304641497867122,
          1.2597128650086475,
          1.818240718850196,
          1.160501404313631,
          2.1020809132676006,
          1.3551254160163797,
          0.9637438493503567,
          1.9114408748164342,
          0.3182333049794707,
          1.0557471707344128,
          1.0437794765267077,
          0.4989380165550927,
          0.6760763366328283,
          1.9047334924873087,
          1.7647230499940005,
          1.0839074147231564,
          0.47057573668599995,
          0.2895624710394373,
          3.3228506169858973,
          1.2561995518650992,
          0.8795214328233047,
          0.3202585027567622,
          0.8417333491633715,
          0.5267031648667936,
          0.43861478479909466,
          1.7936930088933754,
          1.0749672803651569,
          0.8462654327608898,
          1.549709151721657,
          1.138769783787536,
          1.062055180187493,
          1.6892407295788483,
          0.7886107665002213,
          1.5183086602470883,
          1.120284839590289,
          2.14879904667241,
          1.1521234069797275,
          0.949838639083356,
          1.151057634823616,
          0.7738396501240932,
          3.7997576275960334,
          0.6914459489692436,
          0.4024328243937683,
          1.5789587613189129,
          0.3439886642801146,
          2.861738207284488,
          1.1952472807251657,
          1.3889513379599083,
          1.2862965471407972,
          4.626105945077564,
          0.4503936111611262,
          0.6732050521648636,
          0.40426433730001105,
          2.8800740452085147,
          0.686684325773288,
          1.3432608718336128,
          0.8655975308807746,
          0.9843198386854801,
          0.6673498960298894,
          2.399528615003111,
          0.3423707259283375,
          1.613919334339349,
          1.7725097939398435,
          1.1592889456789537,
          1.5907038789131416,
          0.547496746644301,
          1.3033274138919984,
          0.3017642237962546,
          1.696529392764224,
          0.855087516784233,
          0.9083604011520361,
          0.524328478920256,
          1.0111173678236767,
          0.7747386118680923,
          0.527813859475313,
          1.9227923578463912,
          0.9049440964479003,
          1.3726564149065685,
          0.47653899287977186,
          1.1189976584442474,
          0.4290371915508796,
          0.5542170091765265,
          0.5810855436105253,
          0.7895171272420473,
          0.45929964257218564,
          1.131752774510924,
          1.132936297198402,
          1.1823821232714475,
          0.27564988395043405,
          0.8824385691137338,
          1.0620739258524177,
          0.5020412948845878,
          2.1469482908434494,
          1.2304161354114298,
          0.5725831710137643,
          0.5089784988018768,
          1.5435121556135614,
          2.247250985680628,
          0.5012627485340283,
          2.231932719313841,
          0.7850119289529586,
          1.1400952039540315,
          0.6754048603146856,
          0.8004073766190559,
          0.8165110747443095,
          1.133763112448774,
          1.380752082621159,
          0.883975998423266,
          0.8198425623602118,
          1.0411850261573188,
          0.6271578301178266,
          1.2314951844408535,
          2.738452778151101,
          0.45346116042325685,
          2.1112864730016425,
          0.9453348145929769,
          0.8557474634899781,
          1.0008040182336762,
          0.5691324158725419,
          0.6982840097030926,
          0.9956498219696571,
          1.7457673883878273,
          0.8648175208581986,
          1.894523143883103,
          0.6992364137807797,
          1.702644423628757,
          0.4876312962402016,
          0.7047286663866585,
          0.38942672099081954,
          0.9324728338813714,
          0.6931073005857934,
          3.1394230129372085,
          0.8267505008347316,
          3.908740547355247,
          0.3747019427059874,
          0.8626985843522008,
          0.3218177201969928,
          1.0607441502081605,
          2.155055156980543,
          0.8846629098351146,
          0.905650504742724,
          0.8602108873634077,
          1.4051432831004877,
          0.9620885480002492,
          0.5015625625738481,
          1.7136736851349463,
          1.0772602732686942,
          0.7920689451027196,
          0.791376243987015,
          0.8427023495017955,
          1.243526985488482,
          1.1407014886392073,
          0.8306984907164482,
          0.5225865739457557,
          1.2703123818527757,
          0.37792170714358186,
          2.0394395345761667,
          0.9024123365541845,
          0.7879167725432815,
          1.0144086088211286,
          0.6077956917027664,
          0.6450154937319931,
          1.6801295937366085,
          0.7251865822989163,
          0.4326612605026826,
          0.5830635839465552,
          0.9046088246273867
         ]
        }
       ],
       "layout": {
        "template": {
         "data": {
          "bar": [
           {
            "error_x": {
             "color": "#2a3f5f"
            },
            "error_y": {
             "color": "#2a3f5f"
            },
            "marker": {
             "line": {
              "color": "#E5ECF6",
              "width": 0.5
             },
             "pattern": {
              "fillmode": "overlay",
              "size": 10,
              "solidity": 0.2
             }
            },
            "type": "bar"
           }
          ],
          "barpolar": [
           {
            "marker": {
             "line": {
              "color": "#E5ECF6",
              "width": 0.5
             },
             "pattern": {
              "fillmode": "overlay",
              "size": 10,
              "solidity": 0.2
             }
            },
            "type": "barpolar"
           }
          ],
          "carpet": [
           {
            "aaxis": {
             "endlinecolor": "#2a3f5f",
             "gridcolor": "white",
             "linecolor": "white",
             "minorgridcolor": "white",
             "startlinecolor": "#2a3f5f"
            },
            "baxis": {
             "endlinecolor": "#2a3f5f",
             "gridcolor": "white",
             "linecolor": "white",
             "minorgridcolor": "white",
             "startlinecolor": "#2a3f5f"
            },
            "type": "carpet"
           }
          ],
          "choropleth": [
           {
            "colorbar": {
             "outlinewidth": 0,
             "ticks": ""
            },
            "type": "choropleth"
           }
          ],
          "contour": [
           {
            "colorbar": {
             "outlinewidth": 0,
             "ticks": ""
            },
            "colorscale": [
             [
              0,
              "#0d0887"
             ],
             [
              0.1111111111111111,
              "#46039f"
             ],
             [
              0.2222222222222222,
              "#7201a8"
             ],
             [
              0.3333333333333333,
              "#9c179e"
             ],
             [
              0.4444444444444444,
              "#bd3786"
             ],
             [
              0.5555555555555556,
              "#d8576b"
             ],
             [
              0.6666666666666666,
              "#ed7953"
             ],
             [
              0.7777777777777778,
              "#fb9f3a"
             ],
             [
              0.8888888888888888,
              "#fdca26"
             ],
             [
              1,
              "#f0f921"
             ]
            ],
            "type": "contour"
           }
          ],
          "contourcarpet": [
           {
            "colorbar": {
             "outlinewidth": 0,
             "ticks": ""
            },
            "type": "contourcarpet"
           }
          ],
          "heatmap": [
           {
            "colorbar": {
             "outlinewidth": 0,
             "ticks": ""
            },
            "colorscale": [
             [
              0,
              "#0d0887"
             ],
             [
              0.1111111111111111,
              "#46039f"
             ],
             [
              0.2222222222222222,
              "#7201a8"
             ],
             [
              0.3333333333333333,
              "#9c179e"
             ],
             [
              0.4444444444444444,
              "#bd3786"
             ],
             [
              0.5555555555555556,
              "#d8576b"
             ],
             [
              0.6666666666666666,
              "#ed7953"
             ],
             [
              0.7777777777777778,
              "#fb9f3a"
             ],
             [
              0.8888888888888888,
              "#fdca26"
             ],
             [
              1,
              "#f0f921"
             ]
            ],
            "type": "heatmap"
           }
          ],
          "heatmapgl": [
           {
            "colorbar": {
             "outlinewidth": 0,
             "ticks": ""
            },
            "colorscale": [
             [
              0,
              "#0d0887"
             ],
             [
              0.1111111111111111,
              "#46039f"
             ],
             [
              0.2222222222222222,
              "#7201a8"
             ],
             [
              0.3333333333333333,
              "#9c179e"
             ],
             [
              0.4444444444444444,
              "#bd3786"
             ],
             [
              0.5555555555555556,
              "#d8576b"
             ],
             [
              0.6666666666666666,
              "#ed7953"
             ],
             [
              0.7777777777777778,
              "#fb9f3a"
             ],
             [
              0.8888888888888888,
              "#fdca26"
             ],
             [
              1,
              "#f0f921"
             ]
            ],
            "type": "heatmapgl"
           }
          ],
          "histogram": [
           {
            "marker": {
             "pattern": {
              "fillmode": "overlay",
              "size": 10,
              "solidity": 0.2
             }
            },
            "type": "histogram"
           }
          ],
          "histogram2d": [
           {
            "colorbar": {
             "outlinewidth": 0,
             "ticks": ""
            },
            "colorscale": [
             [
              0,
              "#0d0887"
             ],
             [
              0.1111111111111111,
              "#46039f"
             ],
             [
              0.2222222222222222,
              "#7201a8"
             ],
             [
              0.3333333333333333,
              "#9c179e"
             ],
             [
              0.4444444444444444,
              "#bd3786"
             ],
             [
              0.5555555555555556,
              "#d8576b"
             ],
             [
              0.6666666666666666,
              "#ed7953"
             ],
             [
              0.7777777777777778,
              "#fb9f3a"
             ],
             [
              0.8888888888888888,
              "#fdca26"
             ],
             [
              1,
              "#f0f921"
             ]
            ],
            "type": "histogram2d"
           }
          ],
          "histogram2dcontour": [
           {
            "colorbar": {
             "outlinewidth": 0,
             "ticks": ""
            },
            "colorscale": [
             [
              0,
              "#0d0887"
             ],
             [
              0.1111111111111111,
              "#46039f"
             ],
             [
              0.2222222222222222,
              "#7201a8"
             ],
             [
              0.3333333333333333,
              "#9c179e"
             ],
             [
              0.4444444444444444,
              "#bd3786"
             ],
             [
              0.5555555555555556,
              "#d8576b"
             ],
             [
              0.6666666666666666,
              "#ed7953"
             ],
             [
              0.7777777777777778,
              "#fb9f3a"
             ],
             [
              0.8888888888888888,
              "#fdca26"
             ],
             [
              1,
              "#f0f921"
             ]
            ],
            "type": "histogram2dcontour"
           }
          ],
          "mesh3d": [
           {
            "colorbar": {
             "outlinewidth": 0,
             "ticks": ""
            },
            "type": "mesh3d"
           }
          ],
          "parcoords": [
           {
            "line": {
             "colorbar": {
              "outlinewidth": 0,
              "ticks": ""
             }
            },
            "type": "parcoords"
           }
          ],
          "pie": [
           {
            "automargin": true,
            "type": "pie"
           }
          ],
          "scatter": [
           {
            "fillpattern": {
             "fillmode": "overlay",
             "size": 10,
             "solidity": 0.2
            },
            "type": "scatter"
           }
          ],
          "scatter3d": [
           {
            "line": {
             "colorbar": {
              "outlinewidth": 0,
              "ticks": ""
             }
            },
            "marker": {
             "colorbar": {
              "outlinewidth": 0,
              "ticks": ""
             }
            },
            "type": "scatter3d"
           }
          ],
          "scattercarpet": [
           {
            "marker": {
             "colorbar": {
              "outlinewidth": 0,
              "ticks": ""
             }
            },
            "type": "scattercarpet"
           }
          ],
          "scattergeo": [
           {
            "marker": {
             "colorbar": {
              "outlinewidth": 0,
              "ticks": ""
             }
            },
            "type": "scattergeo"
           }
          ],
          "scattergl": [
           {
            "marker": {
             "colorbar": {
              "outlinewidth": 0,
              "ticks": ""
             }
            },
            "type": "scattergl"
           }
          ],
          "scattermapbox": [
           {
            "marker": {
             "colorbar": {
              "outlinewidth": 0,
              "ticks": ""
             }
            },
            "type": "scattermapbox"
           }
          ],
          "scatterpolar": [
           {
            "marker": {
             "colorbar": {
              "outlinewidth": 0,
              "ticks": ""
             }
            },
            "type": "scatterpolar"
           }
          ],
          "scatterpolargl": [
           {
            "marker": {
             "colorbar": {
              "outlinewidth": 0,
              "ticks": ""
             }
            },
            "type": "scatterpolargl"
           }
          ],
          "scatterternary": [
           {
            "marker": {
             "colorbar": {
              "outlinewidth": 0,
              "ticks": ""
             }
            },
            "type": "scatterternary"
           }
          ],
          "surface": [
           {
            "colorbar": {
             "outlinewidth": 0,
             "ticks": ""
            },
            "colorscale": [
             [
              0,
              "#0d0887"
             ],
             [
              0.1111111111111111,
              "#46039f"
             ],
             [
              0.2222222222222222,
              "#7201a8"
             ],
             [
              0.3333333333333333,
              "#9c179e"
             ],
             [
              0.4444444444444444,
              "#bd3786"
             ],
             [
              0.5555555555555556,
              "#d8576b"
             ],
             [
              0.6666666666666666,
              "#ed7953"
             ],
             [
              0.7777777777777778,
              "#fb9f3a"
             ],
             [
              0.8888888888888888,
              "#fdca26"
             ],
             [
              1,
              "#f0f921"
             ]
            ],
            "type": "surface"
           }
          ],
          "table": [
           {
            "cells": {
             "fill": {
              "color": "#EBF0F8"
             },
             "line": {
              "color": "white"
             }
            },
            "header": {
             "fill": {
              "color": "#C8D4E3"
             },
             "line": {
              "color": "white"
             }
            },
            "type": "table"
           }
          ]
         },
         "layout": {
          "annotationdefaults": {
           "arrowcolor": "#2a3f5f",
           "arrowhead": 0,
           "arrowwidth": 1
          },
          "autotypenumbers": "strict",
          "coloraxis": {
           "colorbar": {
            "outlinewidth": 0,
            "ticks": ""
           }
          },
          "colorscale": {
           "diverging": [
            [
             0,
             "#8e0152"
            ],
            [
             0.1,
             "#c51b7d"
            ],
            [
             0.2,
             "#de77ae"
            ],
            [
             0.3,
             "#f1b6da"
            ],
            [
             0.4,
             "#fde0ef"
            ],
            [
             0.5,
             "#f7f7f7"
            ],
            [
             0.6,
             "#e6f5d0"
            ],
            [
             0.7,
             "#b8e186"
            ],
            [
             0.8,
             "#7fbc41"
            ],
            [
             0.9,
             "#4d9221"
            ],
            [
             1,
             "#276419"
            ]
           ],
           "sequential": [
            [
             0,
             "#0d0887"
            ],
            [
             0.1111111111111111,
             "#46039f"
            ],
            [
             0.2222222222222222,
             "#7201a8"
            ],
            [
             0.3333333333333333,
             "#9c179e"
            ],
            [
             0.4444444444444444,
             "#bd3786"
            ],
            [
             0.5555555555555556,
             "#d8576b"
            ],
            [
             0.6666666666666666,
             "#ed7953"
            ],
            [
             0.7777777777777778,
             "#fb9f3a"
            ],
            [
             0.8888888888888888,
             "#fdca26"
            ],
            [
             1,
             "#f0f921"
            ]
           ],
           "sequentialminus": [
            [
             0,
             "#0d0887"
            ],
            [
             0.1111111111111111,
             "#46039f"
            ],
            [
             0.2222222222222222,
             "#7201a8"
            ],
            [
             0.3333333333333333,
             "#9c179e"
            ],
            [
             0.4444444444444444,
             "#bd3786"
            ],
            [
             0.5555555555555556,
             "#d8576b"
            ],
            [
             0.6666666666666666,
             "#ed7953"
            ],
            [
             0.7777777777777778,
             "#fb9f3a"
            ],
            [
             0.8888888888888888,
             "#fdca26"
            ],
            [
             1,
             "#f0f921"
            ]
           ]
          },
          "colorway": [
           "#636efa",
           "#EF553B",
           "#00cc96",
           "#ab63fa",
           "#FFA15A",
           "#19d3f3",
           "#FF6692",
           "#B6E880",
           "#FF97FF",
           "#FECB52"
          ],
          "font": {
           "color": "#2a3f5f"
          },
          "geo": {
           "bgcolor": "white",
           "lakecolor": "white",
           "landcolor": "#E5ECF6",
           "showlakes": true,
           "showland": true,
           "subunitcolor": "white"
          },
          "hoverlabel": {
           "align": "left"
          },
          "hovermode": "closest",
          "mapbox": {
           "style": "light"
          },
          "paper_bgcolor": "white",
          "plot_bgcolor": "#E5ECF6",
          "polar": {
           "angularaxis": {
            "gridcolor": "white",
            "linecolor": "white",
            "ticks": ""
           },
           "bgcolor": "#E5ECF6",
           "radialaxis": {
            "gridcolor": "white",
            "linecolor": "white",
            "ticks": ""
           }
          },
          "scene": {
           "xaxis": {
            "backgroundcolor": "#E5ECF6",
            "gridcolor": "white",
            "gridwidth": 2,
            "linecolor": "white",
            "showbackground": true,
            "ticks": "",
            "zerolinecolor": "white"
           },
           "yaxis": {
            "backgroundcolor": "#E5ECF6",
            "gridcolor": "white",
            "gridwidth": 2,
            "linecolor": "white",
            "showbackground": true,
            "ticks": "",
            "zerolinecolor": "white"
           },
           "zaxis": {
            "backgroundcolor": "#E5ECF6",
            "gridcolor": "white",
            "gridwidth": 2,
            "linecolor": "white",
            "showbackground": true,
            "ticks": "",
            "zerolinecolor": "white"
           }
          },
          "shapedefaults": {
           "line": {
            "color": "#2a3f5f"
           }
          },
          "ternary": {
           "aaxis": {
            "gridcolor": "white",
            "linecolor": "white",
            "ticks": ""
           },
           "baxis": {
            "gridcolor": "white",
            "linecolor": "white",
            "ticks": ""
           },
           "bgcolor": "#E5ECF6",
           "caxis": {
            "gridcolor": "white",
            "linecolor": "white",
            "ticks": ""
           }
          },
          "title": {
           "x": 0.05
          },
          "xaxis": {
           "automargin": true,
           "gridcolor": "white",
           "linecolor": "white",
           "ticks": "",
           "title": {
            "standoff": 15
           },
           "zerolinecolor": "white",
           "zerolinewidth": 2
          },
          "yaxis": {
           "automargin": true,
           "gridcolor": "white",
           "linecolor": "white",
           "ticks": "",
           "title": {
            "standoff": 15
           },
           "zerolinecolor": "white",
           "zerolinewidth": 2
          }
         }
        },
        "title": {
         "text": "Conversion Rates by Marketing Channels"
        },
        "xaxis": {
         "title": {
          "text": "Marketing Channels"
         }
        },
        "yaxis": {
         "title": {
          "text": "Conversion Rate"
         }
        }
       }
      },
      "text/html": [
       "<div>                            <div id=\"0830dd18-b912-4bb3-87f0-1b338fa79ab8\" class=\"plotly-graph-div\" style=\"height:525px; width:100%;\"></div>            <script type=\"text/javascript\">                require([\"plotly\"], function(Plotly) {                    window.PLOTLYENV=window.PLOTLYENV || {};                                    if (document.getElementById(\"0830dd18-b912-4bb3-87f0-1b338fa79ab8\")) {                    Plotly.newPlot(                        \"0830dd18-b912-4bb3-87f0-1b338fa79ab8\",                        [{\"x\":[\"Email Marketing\",\"Online Ads\",\"Social Media\",\"Online Ads\",\"Email Marketing\",\"Email Marketing\",\"Referral\",\"Online Ads\",\"Social Media\",\"Online Ads\",\"Online Ads\",\"Email Marketing\",\"Online Ads\",\"Online Ads\",\"Email Marketing\",\"Email Marketing\",\"Online Ads\",\"Email Marketing\",\"Referral\",\"Online Ads\",\"Referral\",\"Email Marketing\",\"Social Media\",\"Online Ads\",\"Referral\",\"Social Media\",\"Online Ads\",\"Online Ads\",\"Referral\",\"Email Marketing\",\"Referral\",\"Email Marketing\",\"Email Marketing\",\"Referral\",\"Social Media\",\"Email Marketing\",\"Referral\",\"Email Marketing\",\"Referral\",\"Email Marketing\",\"Email Marketing\",\"Online Ads\",\"Online Ads\",\"Social Media\",\"Online Ads\",\"Online Ads\",\"Online Ads\",\"Social Media\",\"Email Marketing\",\"Social Media\",\"Social Media\",\"Online Ads\",\"Social Media\",\"Referral\",\"Email Marketing\",\"Email Marketing\",\"Online Ads\",\"Email Marketing\",\"Online Ads\",\"Social Media\",\"Referral\",\"Email Marketing\",\"Email Marketing\",\"Email Marketing\",\"Referral\",\"Referral\",\"Online Ads\",\"Online Ads\",\"Social Media\",\"Social Media\",\"Online Ads\",\"Referral\",\"Referral\",\"Social Media\",\"Email Marketing\",\"Social Media\",\"Referral\",\"Social Media\",\"Social Media\",\"Online Ads\",\"Email Marketing\",\"Social Media\",\"Email Marketing\",\"Referral\",\"Social Media\",\"Online Ads\",\"Referral\",\"Email Marketing\",\"Online Ads\",\"Online Ads\",\"Online Ads\",\"Email Marketing\",\"Referral\",\"Social Media\",\"Online Ads\",\"Social Media\",\"Referral\",\"Email Marketing\",\"Referral\",\"Referral\",\"Online Ads\",\"Email Marketing\",\"Email Marketing\",\"Email Marketing\",\"Social Media\",\"Email Marketing\",\"Online Ads\",\"Social Media\",\"Social Media\",\"Referral\",\"Referral\",\"Social Media\",\"Email Marketing\",\"Online Ads\",\"Referral\",\"Referral\",\"Social Media\",\"Email Marketing\",\"Email Marketing\",\"Online Ads\",\"Referral\",\"Email Marketing\",\"Referral\",\"Email Marketing\",\"Online Ads\",\"Social Media\",\"Online Ads\",\"Referral\",\"Referral\",\"Referral\",\"Social Media\",\"Online Ads\",\"Referral\",\"Referral\",\"Online Ads\",\"Social Media\",\"Online Ads\",\"Referral\",\"Referral\",\"Online Ads\",\"Social Media\",\"Email Marketing\",\"Social Media\",\"Referral\",\"Social Media\",\"Online Ads\",\"Email Marketing\",\"Email Marketing\",\"Online Ads\",\"Social Media\",\"Referral\",\"Email Marketing\",\"Social Media\",\"Email Marketing\",\"Online Ads\",\"Online Ads\",\"Social Media\",\"Email Marketing\",\"Online Ads\",\"Online Ads\",\"Online Ads\",\"Email Marketing\",\"Online Ads\",\"Referral\",\"Referral\",\"Online Ads\",\"Online Ads\",\"Email Marketing\",\"Online Ads\",\"Online Ads\",\"Referral\",\"Email Marketing\",\"Social Media\",\"Referral\",\"Referral\",\"Online Ads\",\"Online Ads\",\"Social Media\",\"Social Media\",\"Social Media\",\"Email Marketing\",\"Email Marketing\",\"Referral\",\"Online Ads\",\"Social Media\",\"Social Media\",\"Referral\",\"Online Ads\",\"Online Ads\",\"Social Media\",\"Social Media\",\"Social Media\",\"Online Ads\",\"Referral\",\"Social Media\",\"Referral\",\"Email Marketing\",\"Online Ads\",\"Referral\",\"Referral\",\"Referral\",\"Referral\",\"Referral\",\"Online Ads\",\"Social Media\",\"Online Ads\",\"Social Media\",\"Online Ads\",\"Social Media\",\"Referral\",\"Social Media\",\"Referral\",\"Social Media\",\"Social Media\",\"Referral\",\"Referral\",\"Email Marketing\",\"Email Marketing\",\"Online Ads\",\"Social Media\",\"Referral\",\"Email Marketing\",\"Email Marketing\",\"Email Marketing\",\"Online Ads\",\"Email Marketing\",\"Email Marketing\",\"Referral\",\"Online Ads\",\"Referral\",\"Online Ads\",\"Online Ads\",\"Email Marketing\",\"Email Marketing\",\"Online Ads\",\"Online Ads\",\"Referral\",\"Online Ads\",\"Email Marketing\",\"Email Marketing\",\"Social Media\",\"Email Marketing\",\"Email Marketing\",\"Referral\",\"Online Ads\",\"Email Marketing\",\"Online Ads\",\"Social Media\",\"Email Marketing\",\"Social Media\",\"Social Media\",\"Referral\",\"Online Ads\",\"Social Media\",\"Referral\",\"Referral\",\"Online Ads\",\"Online Ads\",\"Social Media\",\"Referral\",\"Referral\",\"Referral\",\"Social Media\",\"Online Ads\",\"Referral\",\"Email Marketing\",\"Email Marketing\",\"Referral\",\"Email Marketing\",\"Online Ads\",\"Referral\",\"Social Media\",\"Email Marketing\",\"Referral\",\"Online Ads\",\"Online Ads\",\"Online Ads\",\"Email Marketing\",\"Social Media\",\"Email Marketing\",\"Email Marketing\",\"Online Ads\",\"Email Marketing\",\"Social Media\",\"Social Media\",\"Referral\",\"Referral\",\"Online Ads\",\"Social Media\",\"Social Media\",\"Online Ads\",\"Referral\",\"Email Marketing\",\"Social Media\",\"Email Marketing\",\"Email Marketing\",\"Social Media\",\"Online Ads\",\"Online Ads\",\"Referral\",\"Referral\",\"Email Marketing\",\"Referral\",\"Email Marketing\",\"Online Ads\",\"Online Ads\",\"Social Media\",\"Referral\",\"Referral\",\"Referral\",\"Referral\",\"Online Ads\",\"Online Ads\",\"Online Ads\",\"Referral\",\"Referral\",\"Social Media\",\"Email Marketing\",\"Online Ads\",\"Referral\",\"Referral\",\"Referral\",\"Referral\",\"Referral\",\"Online Ads\",\"Email Marketing\",\"Social Media\",\"Referral\",\"Referral\",\"Referral\",\"Referral\",\"Social Media\",\"Referral\",\"Online Ads\",\"Referral\",\"Referral\",\"Online Ads\",\"Referral\",\"Social Media\",\"Social Media\",\"Referral\",\"Online Ads\",\"Online Ads\",\"Online Ads\",\"Social Media\",\"Referral\",\"Referral\",\"Social Media\",\"Email Marketing\",\"Social Media\",\"Referral\",\"Email Marketing\",\"Referral\",\"Online Ads\",\"Referral\",\"Online Ads\",\"Referral\",\"Social Media\",\"Online Ads\",\"Social Media\",\"Email Marketing\",\"Social Media\",\"Email Marketing\",\"Email Marketing\",\"Social Media\",\"Email Marketing\",\"Social Media\",\"Email Marketing\",\"Online Ads\",\"Referral\",\"Email Marketing\",\"Email Marketing\",\"Email Marketing\",\"Email Marketing\",\"Social Media\",\"Online Ads\",\"Email Marketing\",\"Social Media\",\"Social Media\",\"Referral\",\"Email Marketing\",\"Social Media\",\"Social Media\",\"Social Media\",\"Social Media\",\"Social Media\",\"Online Ads\",\"Social Media\",\"Referral\",\"Email Marketing\",\"Referral\",\"Email Marketing\",\"Social Media\",\"Email Marketing\",\"Online Ads\",\"Social Media\",\"Social Media\",\"Email Marketing\",\"Email Marketing\",\"Social Media\",\"Social Media\",\"Online Ads\",\"Social Media\",\"Referral\",\"Referral\",\"Online Ads\",\"Online Ads\",\"Email Marketing\",\"Email Marketing\",\"Social Media\",\"Referral\",\"Referral\",\"Email Marketing\",\"Online Ads\",\"Online Ads\",\"Online Ads\",\"Online Ads\",\"Social Media\",\"Referral\",\"Online Ads\",\"Social Media\",\"Email Marketing\",\"Online Ads\",\"Email Marketing\",\"Social Media\",\"Online Ads\",\"Email Marketing\",\"Online Ads\",\"Referral\",\"Referral\",\"Online Ads\",\"Social Media\",\"Online Ads\",\"Referral\",\"Email Marketing\",\"Online Ads\",\"Online Ads\",\"Referral\",\"Social Media\",\"Referral\",\"Email Marketing\",\"Referral\",\"Email Marketing\",\"Referral\",\"Referral\",\"Email Marketing\",\"Email Marketing\",\"Email Marketing\",\"Referral\",\"Email Marketing\",\"Referral\",\"Email Marketing\",\"Social Media\",\"Social Media\",\"Online Ads\",\"Email Marketing\",\"Referral\",\"Email Marketing\",\"Email Marketing\",\"Social Media\",\"Online Ads\",\"Social Media\",\"Social Media\",\"Social Media\",\"Email Marketing\",\"Online Ads\",\"Online Ads\",\"Email Marketing\",\"Email Marketing\",\"Online Ads\",\"Social Media\",\"Email Marketing\",\"Social Media\",\"Online Ads\",\"Social Media\",\"Referral\",\"Email Marketing\",\"Email Marketing\",\"Referral\",\"Referral\",\"Social Media\",\"Online Ads\",\"Social Media\",\"Referral\",\"Referral\",\"Referral\",\"Social Media\",\"Email Marketing\",\"Email Marketing\",\"Email Marketing\",\"Online Ads\",\"Online Ads\",\"Social Media\",\"Online Ads\",\"Social Media\",\"Email Marketing\",\"Social Media\",\"Online Ads\",\"Social Media\",\"Online Ads\"],\"y\":[0.4585804618187506,2.978700106249691,1.7080208104090981,0.9823279412120637,1.1728531217946572,0.9801180005617879,1.750067143756619,0.7727992166300142,1.4153238380744515,1.549823575098156,0.8122855978595044,0.9968001760886516,1.2361187474132238,1.9074074016233713,0.27444840714178886,0.30039070610648355,1.5429900980048925,1.8830619564495055,1.670482252300975,1.4567674835228959,0.46003392161328477,0.5833718905692257,1.2497999025224398,0.5575849225146463,1.3030151750913292,0.5725761682741571,0.5001618303820311,1.7246724749470446,1.756786632500298,2.982238193783878,0.664503089350948,0.7341274751313788,0.5835598903252383,0.9616113200337544,1.1585472169150337,0.6391987566095343,1.2566147504839453,0.49577281120637495,0.2755716314625812,1.2344565749264673,0.23379755490809048,0.6585875682559024,1.745328629145821,4.262212387019019,1.334621107460427,0.29654478309174825,0.4345404758150711,1.0051736418793313,0.33678243276095987,1.3803830124357839,0.9568213974726067,1.2254309704073119,1.2077249881074967,0.3423046876812763,0.9088486273975913,1.117106097238896,2.223389673982755,0.850998749334551,1.1378653696747791,0.6697881414604829,1.4003991601212173,1.691990456182804,0.7936919588096929,2.071947577050528,0.27283252978105527,1.002489046949218,2.039158189569066,0.8052609940606409,0.3105291610448562,0.3012865461148247,1.044595185187891,1.2764644915405379,0.9402362424775306,0.32908979414029604,1.9708415568339661,0.8977515605447048,0.4440649978114923,0.5112491834737041,1.0939730221264228,1.2232089036656444,0.9162887509267104,0.3176870465993163,0.41638482849912534,2.0049729388356896,1.0825081681382862,2.5310640566920646,1.6440269775368614,1.3076351765749774,1.1923891152557702,3.04987444155801,1.0899649471700972,2.489348729516791,1.514758562354139,0.9304923575982137,1.778639525428179,1.061646278486037,0.9724724584044689,0.7600681827334055,1.6336658822962682,0.9390160588379166,1.713283052518097,0.9535348507978351,1.2862557470147948,0.5951408809235743,0.9568265614696249,0.8650491032189563,1.3161068046184172,0.8389801746954387,2.6234986444185737,0.8481828944748274,0.7963582809758224,1.6630528072200814,0.9019240725495444,0.8987080175268318,1.0564436302607683,0.7031788585563391,1.0040811513477859,0.6026261096838431,0.39355413229478897,0.7198851496384083,0.7479003799984605,2.495576188204577,0.9037826372842126,2.2324162239387855,0.5726181880774887,1.1114518361394028,0.7468691661079943,2.519379711990515,1.5322829811124783,1.1543374860537177,0.6318241991673319,0.5486441673614686,1.6885594552335341,2.2822836352035725,2.082781780819313,0.6806522718365964,1.6300239466526927,4.542901447746882,0.9245855847280591,1.5258110194927235,0.32671866057084903,1.431489592569485,1.1082760436508052,1.5281194184026392,0.4246906385021665,1.3497486260890175,0.534416543412769,0.48539906285622947,1.1120425316790856,1.6293277883827968,1.8993301144415116,1.4101951998085214,0.5667203681162293,1.5802581786580665,0.5596411195548683,1.4215297688951551,3.4713418486804275,1.3929228265594342,4.034793765720262,2.818153324772936,0.33832013230526714,2.166708299740947,0.5426402169523339,0.7463667634374375,0.5175251537759394,0.7882588885265607,0.6966191575035591,1.629222107807384,1.0355014752642282,0.3568805677695749,0.7578808740726447,0.4278636844847996,0.9273959751113873,1.5754971644366333,0.40182436481805833,0.552562725736251,1.2625123744456,0.22962779750752227,0.8191566340872036,2.331759762971436,0.6315709900364243,2.088159163844666,2.1235753404209396,2.9994013287237142,3.0671723912850393,0.7137720996877326,0.9777068672334929,1.3394689287263208,1.5577092829490424,1.2017273566325417,1.2591979716066763,0.5326467528998513,0.3467092259175665,0.40463031864762394,0.48177538774489453,1.3999071945524444,0.35667915748204915,0.3168116859979673,0.9997941668204646,1.195626706482798,1.0304859825311783,0.8848324178796351,1.1145878410937382,2.955727832122736,2.1638631574453937,1.2105195493863394,0.5755999351492075,1.2817272519338003,0.7890672951322175,2.1370166482138284,0.9854284521662369,0.44749386771513744,0.5869153556373466,1.5656809619472407,1.378067475391346,3.2532198736133466,2.501200712182921,0.439864210589885,1.0483616511416967,1.748713288019109,3.5156913990163416,0.2681714850178484,0.230211351313983,0.696801527721717,0.6037710568765701,0.4601574043867519,0.48792040054224906,1.2511765245960342,2.41186632789397,0.7453276671874415,0.5898674731319955,0.27731266604709437,0.8790188833392106,2.143738738031493,0.6284944100275103,0.5085982952489269,1.1459760431975723,3.223514955506794,1.0034098269923912,1.8000769597188744,1.2226486573794322,0.7221956299510016,0.6036526190386861,0.9272273076042173,0.5573951709654105,0.7739332329280885,0.2585641051095065,1.2186028399977884,0.4965765244709361,1.3285690086968567,2.00602230135549,0.7580819360555072,1.7579392361332418,1.1443948324689162,1.0095958330251735,0.9915602943414344,0.8831764539585794,0.6407863650663812,1.9996227386050776,0.4495084638637226,0.7451985708474499,0.5711617623498778,1.212882652199426,2.149668813782152,1.0322569162993254,0.3184246188739065,1.3442499117826914,0.4218296733635006,1.682703580026511,0.756246092528815,1.368074003540275,1.788278230539709,2.632364057197953,0.46825890937153114,1.0906805400200925,2.112414228288409,0.6238643959912616,0.515938244508695,1.089327842929377,1.3606695510883644,0.3234322486063735,1.4030389735307542,1.2931881842086688,0.5600417351007468,2.0537807939110033,0.9679882188974873,0.4470655554760163,1.6203158244260285,0.9984211504578029,0.7497008931170562,0.5333364508626675,0.5275368349083558,0.4206047612829552,0.5834688371262177,1.0451357994849504,0.5048046916321118,1.8046675284811333,0.401098285213528,0.46190127692090016,0.49040237104240714,2.3459244524035117,1.8685426478764846,1.1649612316285578,0.9208085927803273,1.588609930708867,2.383369090329873,1.4583164136266353,2.1004028107561847,1.5275887192758153,0.9452628971030053,1.772183370108637,1.3116993873088452,1.0828620302205763,1.0026401864397816,0.4258956002212525,2.0679852380430717,0.9263372024894387,4.256807415756274,0.7288591990367308,0.7066376656566623,1.1070191678555286,0.5109430219491572,0.875571610564382,0.9806233021816481,0.2843637000308223,0.9727252541363633,3.3969804214902757,1.2628089532680238,0.35706616050054824,0.29025623745399093,0.7338614696232936,1.0140427394583496,0.45105935925155144,0.5304641497867122,1.2597128650086475,1.818240718850196,1.160501404313631,2.1020809132676006,1.3551254160163797,0.9637438493503567,1.9114408748164342,0.3182333049794707,1.0557471707344128,1.0437794765267077,0.4989380165550927,0.6760763366328283,1.9047334924873087,1.7647230499940005,1.0839074147231564,0.47057573668599995,0.2895624710394373,3.3228506169858973,1.2561995518650992,0.8795214328233047,0.3202585027567622,0.8417333491633715,0.5267031648667936,0.43861478479909466,1.7936930088933754,1.0749672803651569,0.8462654327608898,1.549709151721657,1.138769783787536,1.062055180187493,1.6892407295788483,0.7886107665002213,1.5183086602470883,1.120284839590289,2.14879904667241,1.1521234069797275,0.949838639083356,1.151057634823616,0.7738396501240932,3.7997576275960334,0.6914459489692436,0.4024328243937683,1.5789587613189129,0.3439886642801146,2.861738207284488,1.1952472807251657,1.3889513379599083,1.2862965471407972,4.626105945077564,0.4503936111611262,0.6732050521648636,0.40426433730001105,2.8800740452085147,0.686684325773288,1.3432608718336128,0.8655975308807746,0.9843198386854801,0.6673498960298894,2.399528615003111,0.3423707259283375,1.613919334339349,1.7725097939398435,1.1592889456789537,1.5907038789131416,0.547496746644301,1.3033274138919984,0.3017642237962546,1.696529392764224,0.855087516784233,0.9083604011520361,0.524328478920256,1.0111173678236767,0.7747386118680923,0.527813859475313,1.9227923578463912,0.9049440964479003,1.3726564149065685,0.47653899287977186,1.1189976584442474,0.4290371915508796,0.5542170091765265,0.5810855436105253,0.7895171272420473,0.45929964257218564,1.131752774510924,1.132936297198402,1.1823821232714475,0.27564988395043405,0.8824385691137338,1.0620739258524177,0.5020412948845878,2.1469482908434494,1.2304161354114298,0.5725831710137643,0.5089784988018768,1.5435121556135614,2.247250985680628,0.5012627485340283,2.231932719313841,0.7850119289529586,1.1400952039540315,0.6754048603146856,0.8004073766190559,0.8165110747443095,1.133763112448774,1.380752082621159,0.883975998423266,0.8198425623602118,1.0411850261573188,0.6271578301178266,1.2314951844408535,2.738452778151101,0.45346116042325685,2.1112864730016425,0.9453348145929769,0.8557474634899781,1.0008040182336762,0.5691324158725419,0.6982840097030926,0.9956498219696571,1.7457673883878273,0.8648175208581986,1.894523143883103,0.6992364137807797,1.702644423628757,0.4876312962402016,0.7047286663866585,0.38942672099081954,0.9324728338813714,0.6931073005857934,3.1394230129372085,0.8267505008347316,3.908740547355247,0.3747019427059874,0.8626985843522008,0.3218177201969928,1.0607441502081605,2.155055156980543,0.8846629098351146,0.905650504742724,0.8602108873634077,1.4051432831004877,0.9620885480002492,0.5015625625738481,1.7136736851349463,1.0772602732686942,0.7920689451027196,0.791376243987015,0.8427023495017955,1.243526985488482,1.1407014886392073,0.8306984907164482,0.5225865739457557,1.2703123818527757,0.37792170714358186,2.0394395345761667,0.9024123365541845,0.7879167725432815,1.0144086088211286,0.6077956917027664,0.6450154937319931,1.6801295937366085,0.7251865822989163,0.4326612605026826,0.5830635839465552,0.9046088246273867],\"type\":\"bar\"}],                        {\"template\":{\"data\":{\"histogram2dcontour\":[{\"type\":\"histogram2dcontour\",\"colorbar\":{\"outlinewidth\":0,\"ticks\":\"\"},\"colorscale\":[[0.0,\"#0d0887\"],[0.1111111111111111,\"#46039f\"],[0.2222222222222222,\"#7201a8\"],[0.3333333333333333,\"#9c179e\"],[0.4444444444444444,\"#bd3786\"],[0.5555555555555556,\"#d8576b\"],[0.6666666666666666,\"#ed7953\"],[0.7777777777777778,\"#fb9f3a\"],[0.8888888888888888,\"#fdca26\"],[1.0,\"#f0f921\"]]}],\"choropleth\":[{\"type\":\"choropleth\",\"colorbar\":{\"outlinewidth\":0,\"ticks\":\"\"}}],\"histogram2d\":[{\"type\":\"histogram2d\",\"colorbar\":{\"outlinewidth\":0,\"ticks\":\"\"},\"colorscale\":[[0.0,\"#0d0887\"],[0.1111111111111111,\"#46039f\"],[0.2222222222222222,\"#7201a8\"],[0.3333333333333333,\"#9c179e\"],[0.4444444444444444,\"#bd3786\"],[0.5555555555555556,\"#d8576b\"],[0.6666666666666666,\"#ed7953\"],[0.7777777777777778,\"#fb9f3a\"],[0.8888888888888888,\"#fdca26\"],[1.0,\"#f0f921\"]]}],\"heatmap\":[{\"type\":\"heatmap\",\"colorbar\":{\"outlinewidth\":0,\"ticks\":\"\"},\"colorscale\":[[0.0,\"#0d0887\"],[0.1111111111111111,\"#46039f\"],[0.2222222222222222,\"#7201a8\"],[0.3333333333333333,\"#9c179e\"],[0.4444444444444444,\"#bd3786\"],[0.5555555555555556,\"#d8576b\"],[0.6666666666666666,\"#ed7953\"],[0.7777777777777778,\"#fb9f3a\"],[0.8888888888888888,\"#fdca26\"],[1.0,\"#f0f921\"]]}],\"heatmapgl\":[{\"type\":\"heatmapgl\",\"colorbar\":{\"outlinewidth\":0,\"ticks\":\"\"},\"colorscale\":[[0.0,\"#0d0887\"],[0.1111111111111111,\"#46039f\"],[0.2222222222222222,\"#7201a8\"],[0.3333333333333333,\"#9c179e\"],[0.4444444444444444,\"#bd3786\"],[0.5555555555555556,\"#d8576b\"],[0.6666666666666666,\"#ed7953\"],[0.7777777777777778,\"#fb9f3a\"],[0.8888888888888888,\"#fdca26\"],[1.0,\"#f0f921\"]]}],\"contourcarpet\":[{\"type\":\"contourcarpet\",\"colorbar\":{\"outlinewidth\":0,\"ticks\":\"\"}}],\"contour\":[{\"type\":\"contour\",\"colorbar\":{\"outlinewidth\":0,\"ticks\":\"\"},\"colorscale\":[[0.0,\"#0d0887\"],[0.1111111111111111,\"#46039f\"],[0.2222222222222222,\"#7201a8\"],[0.3333333333333333,\"#9c179e\"],[0.4444444444444444,\"#bd3786\"],[0.5555555555555556,\"#d8576b\"],[0.6666666666666666,\"#ed7953\"],[0.7777777777777778,\"#fb9f3a\"],[0.8888888888888888,\"#fdca26\"],[1.0,\"#f0f921\"]]}],\"surface\":[{\"type\":\"surface\",\"colorbar\":{\"outlinewidth\":0,\"ticks\":\"\"},\"colorscale\":[[0.0,\"#0d0887\"],[0.1111111111111111,\"#46039f\"],[0.2222222222222222,\"#7201a8\"],[0.3333333333333333,\"#9c179e\"],[0.4444444444444444,\"#bd3786\"],[0.5555555555555556,\"#d8576b\"],[0.6666666666666666,\"#ed7953\"],[0.7777777777777778,\"#fb9f3a\"],[0.8888888888888888,\"#fdca26\"],[1.0,\"#f0f921\"]]}],\"mesh3d\":[{\"type\":\"mesh3d\",\"colorbar\":{\"outlinewidth\":0,\"ticks\":\"\"}}],\"scatter\":[{\"fillpattern\":{\"fillmode\":\"overlay\",\"size\":10,\"solidity\":0.2},\"type\":\"scatter\"}],\"parcoords\":[{\"type\":\"parcoords\",\"line\":{\"colorbar\":{\"outlinewidth\":0,\"ticks\":\"\"}}}],\"scatterpolargl\":[{\"type\":\"scatterpolargl\",\"marker\":{\"colorbar\":{\"outlinewidth\":0,\"ticks\":\"\"}}}],\"bar\":[{\"error_x\":{\"color\":\"#2a3f5f\"},\"error_y\":{\"color\":\"#2a3f5f\"},\"marker\":{\"line\":{\"color\":\"#E5ECF6\",\"width\":0.5},\"pattern\":{\"fillmode\":\"overlay\",\"size\":10,\"solidity\":0.2}},\"type\":\"bar\"}],\"scattergeo\":[{\"type\":\"scattergeo\",\"marker\":{\"colorbar\":{\"outlinewidth\":0,\"ticks\":\"\"}}}],\"scatterpolar\":[{\"type\":\"scatterpolar\",\"marker\":{\"colorbar\":{\"outlinewidth\":0,\"ticks\":\"\"}}}],\"histogram\":[{\"marker\":{\"pattern\":{\"fillmode\":\"overlay\",\"size\":10,\"solidity\":0.2}},\"type\":\"histogram\"}],\"scattergl\":[{\"type\":\"scattergl\",\"marker\":{\"colorbar\":{\"outlinewidth\":0,\"ticks\":\"\"}}}],\"scatter3d\":[{\"type\":\"scatter3d\",\"line\":{\"colorbar\":{\"outlinewidth\":0,\"ticks\":\"\"}},\"marker\":{\"colorbar\":{\"outlinewidth\":0,\"ticks\":\"\"}}}],\"scattermapbox\":[{\"type\":\"scattermapbox\",\"marker\":{\"colorbar\":{\"outlinewidth\":0,\"ticks\":\"\"}}}],\"scatterternary\":[{\"type\":\"scatterternary\",\"marker\":{\"colorbar\":{\"outlinewidth\":0,\"ticks\":\"\"}}}],\"scattercarpet\":[{\"type\":\"scattercarpet\",\"marker\":{\"colorbar\":{\"outlinewidth\":0,\"ticks\":\"\"}}}],\"carpet\":[{\"aaxis\":{\"endlinecolor\":\"#2a3f5f\",\"gridcolor\":\"white\",\"linecolor\":\"white\",\"minorgridcolor\":\"white\",\"startlinecolor\":\"#2a3f5f\"},\"baxis\":{\"endlinecolor\":\"#2a3f5f\",\"gridcolor\":\"white\",\"linecolor\":\"white\",\"minorgridcolor\":\"white\",\"startlinecolor\":\"#2a3f5f\"},\"type\":\"carpet\"}],\"table\":[{\"cells\":{\"fill\":{\"color\":\"#EBF0F8\"},\"line\":{\"color\":\"white\"}},\"header\":{\"fill\":{\"color\":\"#C8D4E3\"},\"line\":{\"color\":\"white\"}},\"type\":\"table\"}],\"barpolar\":[{\"marker\":{\"line\":{\"color\":\"#E5ECF6\",\"width\":0.5},\"pattern\":{\"fillmode\":\"overlay\",\"size\":10,\"solidity\":0.2}},\"type\":\"barpolar\"}],\"pie\":[{\"automargin\":true,\"type\":\"pie\"}]},\"layout\":{\"autotypenumbers\":\"strict\",\"colorway\":[\"#636efa\",\"#EF553B\",\"#00cc96\",\"#ab63fa\",\"#FFA15A\",\"#19d3f3\",\"#FF6692\",\"#B6E880\",\"#FF97FF\",\"#FECB52\"],\"font\":{\"color\":\"#2a3f5f\"},\"hovermode\":\"closest\",\"hoverlabel\":{\"align\":\"left\"},\"paper_bgcolor\":\"white\",\"plot_bgcolor\":\"#E5ECF6\",\"polar\":{\"bgcolor\":\"#E5ECF6\",\"angularaxis\":{\"gridcolor\":\"white\",\"linecolor\":\"white\",\"ticks\":\"\"},\"radialaxis\":{\"gridcolor\":\"white\",\"linecolor\":\"white\",\"ticks\":\"\"}},\"ternary\":{\"bgcolor\":\"#E5ECF6\",\"aaxis\":{\"gridcolor\":\"white\",\"linecolor\":\"white\",\"ticks\":\"\"},\"baxis\":{\"gridcolor\":\"white\",\"linecolor\":\"white\",\"ticks\":\"\"},\"caxis\":{\"gridcolor\":\"white\",\"linecolor\":\"white\",\"ticks\":\"\"}},\"coloraxis\":{\"colorbar\":{\"outlinewidth\":0,\"ticks\":\"\"}},\"colorscale\":{\"sequential\":[[0.0,\"#0d0887\"],[0.1111111111111111,\"#46039f\"],[0.2222222222222222,\"#7201a8\"],[0.3333333333333333,\"#9c179e\"],[0.4444444444444444,\"#bd3786\"],[0.5555555555555556,\"#d8576b\"],[0.6666666666666666,\"#ed7953\"],[0.7777777777777778,\"#fb9f3a\"],[0.8888888888888888,\"#fdca26\"],[1.0,\"#f0f921\"]],\"sequentialminus\":[[0.0,\"#0d0887\"],[0.1111111111111111,\"#46039f\"],[0.2222222222222222,\"#7201a8\"],[0.3333333333333333,\"#9c179e\"],[0.4444444444444444,\"#bd3786\"],[0.5555555555555556,\"#d8576b\"],[0.6666666666666666,\"#ed7953\"],[0.7777777777777778,\"#fb9f3a\"],[0.8888888888888888,\"#fdca26\"],[1.0,\"#f0f921\"]],\"diverging\":[[0,\"#8e0152\"],[0.1,\"#c51b7d\"],[0.2,\"#de77ae\"],[0.3,\"#f1b6da\"],[0.4,\"#fde0ef\"],[0.5,\"#f7f7f7\"],[0.6,\"#e6f5d0\"],[0.7,\"#b8e186\"],[0.8,\"#7fbc41\"],[0.9,\"#4d9221\"],[1,\"#276419\"]]},\"xaxis\":{\"gridcolor\":\"white\",\"linecolor\":\"white\",\"ticks\":\"\",\"title\":{\"standoff\":15},\"zerolinecolor\":\"white\",\"automargin\":true,\"zerolinewidth\":2},\"yaxis\":{\"gridcolor\":\"white\",\"linecolor\":\"white\",\"ticks\":\"\",\"title\":{\"standoff\":15},\"zerolinecolor\":\"white\",\"automargin\":true,\"zerolinewidth\":2},\"scene\":{\"xaxis\":{\"backgroundcolor\":\"#E5ECF6\",\"gridcolor\":\"white\",\"linecolor\":\"white\",\"showbackground\":true,\"ticks\":\"\",\"zerolinecolor\":\"white\",\"gridwidth\":2},\"yaxis\":{\"backgroundcolor\":\"#E5ECF6\",\"gridcolor\":\"white\",\"linecolor\":\"white\",\"showbackground\":true,\"ticks\":\"\",\"zerolinecolor\":\"white\",\"gridwidth\":2},\"zaxis\":{\"backgroundcolor\":\"#E5ECF6\",\"gridcolor\":\"white\",\"linecolor\":\"white\",\"showbackground\":true,\"ticks\":\"\",\"zerolinecolor\":\"white\",\"gridwidth\":2}},\"shapedefaults\":{\"line\":{\"color\":\"#2a3f5f\"}},\"annotationdefaults\":{\"arrowcolor\":\"#2a3f5f\",\"arrowhead\":0,\"arrowwidth\":1},\"geo\":{\"bgcolor\":\"white\",\"landcolor\":\"#E5ECF6\",\"subunitcolor\":\"white\",\"showland\":true,\"showlakes\":true,\"lakecolor\":\"white\"},\"title\":{\"x\":0.05},\"mapbox\":{\"style\":\"light\"}}},\"title\":{\"text\":\"Conversion Rates by Marketing Channels\"},\"xaxis\":{\"title\":{\"text\":\"Marketing Channels\"}},\"yaxis\":{\"title\":{\"text\":\"Conversion Rate\"}}},                        {\"responsive\": true}                    ).then(function(){\n",
       "                            \n",
       "var gd = document.getElementById('0830dd18-b912-4bb3-87f0-1b338fa79ab8');\n",
       "var x = new MutationObserver(function (mutations, observer) {{\n",
       "        var display = window.getComputedStyle(gd).display;\n",
       "        if (!display || display === 'none') {{\n",
       "            console.log([gd, 'removed!']);\n",
       "            Plotly.purge(gd);\n",
       "            observer.disconnect();\n",
       "        }}\n",
       "}});\n",
       "\n",
       "// Listen for the removal of the full notebook cells\n",
       "var notebookContainer = gd.closest('#notebook-container');\n",
       "if (notebookContainer) {{\n",
       "    x.observe(notebookContainer, {childList: true});\n",
       "}}\n",
       "\n",
       "// Listen for the clearing of the current output cell\n",
       "var outputEl = gd.closest('.output');\n",
       "if (outputEl) {{\n",
       "    x.observe(outputEl, {childList: true});\n",
       "}}\n",
       "\n",
       "                        })                };                });            </script>        </div>"
      ]
     },
     "metadata": {},
     "output_type": "display_data"
    }
   ],
   "source": [
    "fig4 = go.Figure(go.Bar(x=data['Marketing_Channel'], y=data['Conversion_Rate']))\n",
    "fig4.update_layout(title='Conversion Rates by Marketing Channels', xaxis_title='Marketing Channels',\n",
    "                  yaxis_title='Conversion Rate')\n",
    "fig4.show()"
   ]
  },
  {
   "cell_type": "code",
   "execution_count": null,
   "id": "0cc6fab5",
   "metadata": {},
   "outputs": [],
   "source": []
  }
 ],
 "metadata": {
  "kernelspec": {
   "display_name": "Python 3 (ipykernel)",
   "language": "python",
   "name": "python3"
  },
  "language_info": {
   "codemirror_mode": {
    "name": "ipython",
    "version": 3
   },
   "file_extension": ".py",
   "mimetype": "text/x-python",
   "name": "python",
   "nbconvert_exporter": "python",
   "pygments_lexer": "ipython3",
   "version": "3.11.3"
  }
 },
 "nbformat": 4,
 "nbformat_minor": 5
}
